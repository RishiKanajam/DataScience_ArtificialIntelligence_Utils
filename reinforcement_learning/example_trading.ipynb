{
 "cells": [
  {
   "cell_type": "markdown",
   "metadata": {},
   "source": [
    "# Reinforcement Learning - Trading example"
   ]
  },
  {
   "cell_type": "markdown",
   "metadata": {},
   "source": [
    "###### Links: [Stock Data (YahooFinance)](https://finance.yahoo.com/chart/NVDA?showOptin=1#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.KAjCAoMjAsQywxLjk1LG1hLHkpIiwiZGlzcGxheSI6IuKAjEJvbGxpbmdlciBCYW5kc.KAjCAoMjAsQywxLjk1LG1hLHkpIn0sIm91dHB1dHMiOnsiQm9sbGluZ2VyIEJhbmRzIFRvcCI6IiMyYmJjZmYiLCJCb2xsaW5nZXIgQmFuZHMgTWVkaWFuIjoiIzA3ODBlYiIsIkJvbGxpbmdlciBCYW5kcyBCb3R0b20iOiIjMmJiY2ZmIn0sInBhbmVsIjoiY2hhcnQiLCJwYXJhbWV0ZXJzIjp7ImNoYXJ0TmFtZSI6ImNoYXJ0IiwicGFuZWxOYW1lIjoiY2hhcnQifX0sIuKAjG1h4oCMICgxMCxDLG1hLDApIjp7InR5cGUiOiJtYSIsImlucHV0cyI6eyJQZXJpb2QiOiIxMCIsIkZpZWxkIjoiQ2xvc2UiLCJUeXBlIjoic2ltcGxlIiwiT2Zmc2V0IjowLCJpZCI6IuKAjG1h4oCMICgxMCxDLG1hLDApIiwiZGlzcGxheSI6IuKAjG1h4oCMICgxMCxDLG1hLDApIn0sIm91dHB1dHMiOnsiTUEiOiIjMDBiMDYxIn0sInBhbmVsIjoiY2hhcnQiLCJwYXJhbWV0ZXJzIjp7ImNoYXJ0TmFtZSI6ImNoYXJ0IiwicGFuZWxOYW1lIjoiY2hhcnQifX19fQ--)  |  [Article (TowardsDataScience)]()"
   ]
  },
  {
   "cell_type": "markdown",
   "metadata": {},
   "source": [
    "### 0 - Setup"
   ]
  },
  {
   "cell_type": "markdown",
   "metadata": {},
   "source": [
    "###### Import pckgs"
   ]
  },
  {
   "cell_type": "code",
   "execution_count": 60,
   "metadata": {},
   "outputs": [],
   "source": [
    "import warnings\n",
    "warnings.filterwarnings(\"ignore\")\n",
    "\n",
    "## for data\n",
    "import yfinance as yf  #0.2.22\n",
    "import numpy as np  #1.24.4\n",
    "import pandas as pd  #2.0.3\n",
    "\n",
    "## for plotting\n",
    "import plotly.graph_objects as go  #5.15.0\n",
    "from plotly.subplots import make_subplots\n",
    "\n",
    "## for env\n",
    "#import gymnasium as gym  #0.28.1\n",
    "#from gymnasium import spaces\n",
    "\n",
    "## for rl\n",
    "from tensorflow.keras import models, layers, optimizers  #2.13.0\n",
    "from stable_baselines3 import A2C  #2.0.0"
   ]
  },
  {
   "cell_type": "markdown",
   "metadata": {},
   "source": [
    "###### Import data"
   ]
  },
  {
   "cell_type": "code",
   "execution_count": 39,
   "metadata": {},
   "outputs": [
    {
     "data": {
      "text/html": [
       "<div>\n",
       "<style scoped>\n",
       "    .dataframe tbody tr th:only-of-type {\n",
       "        vertical-align: middle;\n",
       "    }\n",
       "\n",
       "    .dataframe tbody tr th {\n",
       "        vertical-align: top;\n",
       "    }\n",
       "\n",
       "    .dataframe thead th {\n",
       "        text-align: right;\n",
       "    }\n",
       "</style>\n",
       "<table border=\"1\" class=\"dataframe\">\n",
       "  <thead>\n",
       "    <tr style=\"text-align: right;\">\n",
       "      <th></th>\n",
       "      <th>Open</th>\n",
       "      <th>High</th>\n",
       "      <th>Low</th>\n",
       "      <th>Close</th>\n",
       "      <th>Volume</th>\n",
       "      <th>Dividends</th>\n",
       "      <th>Stock Splits</th>\n",
       "      <th>t</th>\n",
       "    </tr>\n",
       "    <tr>\n",
       "      <th>Date</th>\n",
       "      <th></th>\n",
       "      <th></th>\n",
       "      <th></th>\n",
       "      <th></th>\n",
       "      <th></th>\n",
       "      <th></th>\n",
       "      <th></th>\n",
       "      <th></th>\n",
       "    </tr>\n",
       "  </thead>\n",
       "  <tbody>\n",
       "    <tr>\n",
       "      <th>2022-07-15 00:00:00-04:00</th>\n",
       "      <td>156.460689</td>\n",
       "      <td>157.689685</td>\n",
       "      <td>154.322457</td>\n",
       "      <td>157.489838</td>\n",
       "      <td>38593500</td>\n",
       "      <td>0.0</td>\n",
       "      <td>0.0</td>\n",
       "      <td>0</td>\n",
       "    </tr>\n",
       "    <tr>\n",
       "      <th>2022-07-18 00:00:00-04:00</th>\n",
       "      <td>162.885379</td>\n",
       "      <td>168.830463</td>\n",
       "      <td>159.887857</td>\n",
       "      <td>160.877029</td>\n",
       "      <td>67051700</td>\n",
       "      <td>0.0</td>\n",
       "      <td>0.0</td>\n",
       "      <td>1</td>\n",
       "    </tr>\n",
       "    <tr>\n",
       "      <th>2022-07-19 00:00:00-04:00</th>\n",
       "      <td>164.723830</td>\n",
       "      <td>170.958681</td>\n",
       "      <td>161.586424</td>\n",
       "      <td>169.779648</td>\n",
       "      <td>70236600</td>\n",
       "      <td>0.0</td>\n",
       "      <td>0.0</td>\n",
       "      <td>2</td>\n",
       "    </tr>\n",
       "    <tr>\n",
       "      <th>2022-07-20 00:00:00-04:00</th>\n",
       "      <td>169.330040</td>\n",
       "      <td>179.181897</td>\n",
       "      <td>167.871239</td>\n",
       "      <td>177.922943</td>\n",
       "      <td>76053800</td>\n",
       "      <td>0.0</td>\n",
       "      <td>0.0</td>\n",
       "      <td>3</td>\n",
       "    </tr>\n",
       "    <tr>\n",
       "      <th>2022-07-21 00:00:00-04:00</th>\n",
       "      <td>178.702290</td>\n",
       "      <td>181.290148</td>\n",
       "      <td>175.305089</td>\n",
       "      <td>180.350922</td>\n",
       "      <td>55704900</td>\n",
       "      <td>0.0</td>\n",
       "      <td>0.0</td>\n",
       "      <td>4</td>\n",
       "    </tr>\n",
       "    <tr>\n",
       "      <th>...</th>\n",
       "      <td>...</td>\n",
       "      <td>...</td>\n",
       "      <td>...</td>\n",
       "      <td>...</td>\n",
       "      <td>...</td>\n",
       "      <td>...</td>\n",
       "      <td>...</td>\n",
       "      <td>...</td>\n",
       "    </tr>\n",
       "    <tr>\n",
       "      <th>2023-07-10 00:00:00-04:00</th>\n",
       "      <td>426.570007</td>\n",
       "      <td>428.109985</td>\n",
       "      <td>416.489990</td>\n",
       "      <td>421.799988</td>\n",
       "      <td>35390800</td>\n",
       "      <td>0.0</td>\n",
       "      <td>0.0</td>\n",
       "      <td>246</td>\n",
       "    </tr>\n",
       "    <tr>\n",
       "      <th>2023-07-11 00:00:00-04:00</th>\n",
       "      <td>424.809998</td>\n",
       "      <td>427.579987</td>\n",
       "      <td>420.670013</td>\n",
       "      <td>424.049988</td>\n",
       "      <td>29824400</td>\n",
       "      <td>0.0</td>\n",
       "      <td>0.0</td>\n",
       "      <td>247</td>\n",
       "    </tr>\n",
       "    <tr>\n",
       "      <th>2023-07-12 00:00:00-04:00</th>\n",
       "      <td>430.329987</td>\n",
       "      <td>439.350006</td>\n",
       "      <td>427.769989</td>\n",
       "      <td>439.019989</td>\n",
       "      <td>48127700</td>\n",
       "      <td>0.0</td>\n",
       "      <td>0.0</td>\n",
       "      <td>248</td>\n",
       "    </tr>\n",
       "    <tr>\n",
       "      <th>2023-07-13 00:00:00-04:00</th>\n",
       "      <td>445.179993</td>\n",
       "      <td>461.549988</td>\n",
       "      <td>444.920013</td>\n",
       "      <td>459.769989</td>\n",
       "      <td>47820400</td>\n",
       "      <td>0.0</td>\n",
       "      <td>0.0</td>\n",
       "      <td>249</td>\n",
       "    </tr>\n",
       "    <tr>\n",
       "      <th>2023-07-14 00:00:00-04:00</th>\n",
       "      <td>465.829987</td>\n",
       "      <td>480.880005</td>\n",
       "      <td>450.600006</td>\n",
       "      <td>454.690002</td>\n",
       "      <td>77066400</td>\n",
       "      <td>0.0</td>\n",
       "      <td>0.0</td>\n",
       "      <td>250</td>\n",
       "    </tr>\n",
       "  </tbody>\n",
       "</table>\n",
       "<p>251 rows × 8 columns</p>\n",
       "</div>"
      ],
      "text/plain": [
       "                                 Open        High         Low       Close  \\\n",
       "Date                                                                        \n",
       "2022-07-15 00:00:00-04:00  156.460689  157.689685  154.322457  157.489838   \n",
       "2022-07-18 00:00:00-04:00  162.885379  168.830463  159.887857  160.877029   \n",
       "2022-07-19 00:00:00-04:00  164.723830  170.958681  161.586424  169.779648   \n",
       "2022-07-20 00:00:00-04:00  169.330040  179.181897  167.871239  177.922943   \n",
       "2022-07-21 00:00:00-04:00  178.702290  181.290148  175.305089  180.350922   \n",
       "...                               ...         ...         ...         ...   \n",
       "2023-07-10 00:00:00-04:00  426.570007  428.109985  416.489990  421.799988   \n",
       "2023-07-11 00:00:00-04:00  424.809998  427.579987  420.670013  424.049988   \n",
       "2023-07-12 00:00:00-04:00  430.329987  439.350006  427.769989  439.019989   \n",
       "2023-07-13 00:00:00-04:00  445.179993  461.549988  444.920013  459.769989   \n",
       "2023-07-14 00:00:00-04:00  465.829987  480.880005  450.600006  454.690002   \n",
       "\n",
       "                             Volume  Dividends  Stock Splits    t  \n",
       "Date                                                               \n",
       "2022-07-15 00:00:00-04:00  38593500        0.0           0.0    0  \n",
       "2022-07-18 00:00:00-04:00  67051700        0.0           0.0    1  \n",
       "2022-07-19 00:00:00-04:00  70236600        0.0           0.0    2  \n",
       "2022-07-20 00:00:00-04:00  76053800        0.0           0.0    3  \n",
       "2022-07-21 00:00:00-04:00  55704900        0.0           0.0    4  \n",
       "...                             ...        ...           ...  ...  \n",
       "2023-07-10 00:00:00-04:00  35390800        0.0           0.0  246  \n",
       "2023-07-11 00:00:00-04:00  29824400        0.0           0.0  247  \n",
       "2023-07-12 00:00:00-04:00  48127700        0.0           0.0  248  \n",
       "2023-07-13 00:00:00-04:00  47820400        0.0           0.0  249  \n",
       "2023-07-14 00:00:00-04:00  77066400        0.0           0.0  250  \n",
       "\n",
       "[251 rows x 8 columns]"
      ]
     },
     "execution_count": 39,
     "metadata": {},
     "output_type": "execute_result"
    }
   ],
   "source": [
    "x = \"NVDA\"\n",
    "\n",
    "data = yf.Ticker(x).history(period=\"1y\")  #1d, 5d, 1mo, 3mo, 6mo, 1y, 2y, 5y, 10y, ytd, max\n",
    "data[\"t\"] = range(len(data))\n",
    "data"
   ]
  },
  {
   "cell_type": "markdown",
   "metadata": {},
   "source": [
    "### 1 - Environment"
   ]
  },
  {
   "cell_type": "markdown",
   "metadata": {},
   "source": [
    "###### Create env"
   ]
  },
  {
   "cell_type": "code",
   "execution_count": 40,
   "metadata": {},
   "outputs": [],
   "source": [
    "# Create env\n",
    "class NewEnv(): #gym.Env\n",
    "    \n",
    "    def __init__(self, data, col=\"Close\", history=30, include_open=True, from_start=True):\n",
    "        ## create states space (dataframe)\n",
    "        self.data = data\n",
    "        self.col = col\n",
    "        self.state_space = self.create_state_space(self.data, col, history, include_open)\n",
    "        self.state_space_n = self.state_space.shape[1]\n",
    "        ## create action space (dict)\n",
    "        self.action_space = {\"buy\":1, \"hold\":0, \"sell\":-1}\n",
    "        self.action_space_n = len(self.action_space)\n",
    "        ## reset env when you start\n",
    "        self.from_start = from_start\n",
    "        self.state = self.reset()\n",
    "        self.quantity, self.price, self.position = 0, 0, 0\n",
    "        self.info = []\n",
    "        \n",
    "        \n",
    "    @staticmethod\n",
    "    def create_state_space(data, col, history, include_open):\n",
    "        dtf = data.rename(columns={col:\"y\"})[[\"t\",\"y\"]]\n",
    "        if include_open:\n",
    "            dtf[\"x0\"] = data[\"Open\"].values\n",
    "        for i in range(history):\n",
    "            dtf[f\"x-{i+1}\"] = dtf[\"y\"].shift(i+1)\n",
    "        dtf = dtf.dropna(axis=0).set_index(\"t\")\n",
    "        return dtf\n",
    "    \n",
    "    \n",
    "    '''\n",
    "    1.Reset the state of the env to an initial state or to a random point within the data.\n",
    "    '''\n",
    "    def reset(self):\n",
    "        self.t = self.state_space.index[0] if self.from_start is True else np.random.choice(self.state_space.index)\n",
    "        self.state = self.state_space.loc[self.t]\n",
    "        print(\"--- env reset | start from:\", self.t, \"---\")\n",
    "        print(\"current state:\\n\", self.state)\n",
    "        return self.state\n",
    "    \n",
    "    \n",
    "    '''\n",
    "    2. Compute reward after action.\n",
    "    '''\n",
    "    def calculate_reward(self, Q):\n",
    "        ## buy\n",
    "        if Q > 0:\n",
    "            self.price = self.state_space[\"y\"][self.t]\n",
    "            totQ = self.quantity + Q\n",
    "            self.position = self.position*self.quantity/totQ + self.price*Q/totQ\n",
    "            reward = 0\n",
    "            self.quantity += Q\n",
    "        ## sell\n",
    "        elif Q < 0:\n",
    "            ### only if there is an open position\n",
    "            if self.quantity > 0:\n",
    "                self.price = self.state_space[\"y\"][self.t]\n",
    "                reward = self.price/self.position -1\n",
    "                self.position, self.quantity = 0, 0\n",
    "            ### otherwise nothing\n",
    "            else:\n",
    "                reward = 0\n",
    "        ## hold\n",
    "        elif Q == 0:\n",
    "            reward = 0\n",
    "        return reward\n",
    "    \n",
    "    \n",
    "    '''\n",
    "    3. Decide whether the episode is done after action.\n",
    "    '''\n",
    "    def is_done(self):\n",
    "        done = True if self.t==len(self.state_space)-1 else False\n",
    "        return done\n",
    "    \n",
    "    \n",
    "    '''\n",
    "    4. Log info after action.\n",
    "    '''\n",
    "    def get_info(self, action, reward, done):\n",
    "        self.info.append({\n",
    "            \"t\":self.t, \"action\":action, \"quantity\":self.quantity, \"reward\":reward, \"done\":done\n",
    "        })\n",
    "        return pd.DataFrame(self.info)\n",
    "    \n",
    "    \n",
    "    '''\n",
    "    Execute one step based on action.\n",
    "    '''\n",
    "    def step(self, action):\n",
    "        Q = 1*action  #<-- fixed Q for now\n",
    "        reward = self.calculate_reward(Q)\n",
    "        done = self.is_done()\n",
    "        if done is False:\n",
    "            self.t += 1\n",
    "            self.state = self.state_space.loc[self.t]\n",
    "        info = self.get_info(action, reward, done)\n",
    "        return self.state, reward, done, info\n",
    "    \n",
    "    \n",
    "    '''\n",
    "    Rendering.\n",
    "    '''\n",
    "    def render(self):\n",
    "        fig = make_subplots(rows=3, cols=1, shared_xaxes=True, \n",
    "                            subplot_titles=('Play','Quantity','Reward'), \n",
    "                            row_heights=[0.7, 0.15, 0.15])\n",
    "        fig.update_layout(plot_bgcolor='white', yaxis={\"gridcolor\":\"lightgrey\"}, hovermode=\"x\", showlegend=False)\n",
    "\n",
    "        ## price\n",
    "        fig.append_trace(go.Scatter(x=self.data[\"t\"], y=self.data[self.col], \n",
    "                                    name='Price', mode='lines', line={\"color\":\"black\"}),\n",
    "                         row=1, col=1)\n",
    "        \n",
    "        ## other info\n",
    "        if len(self.info) > 0:\n",
    "            info = pd.DataFrame(self.info)\n",
    "            \n",
    "            ### quantity\n",
    "            fig.append_trace(go.Scatter(x=info[\"t\"], y=info[\"quantity\"],\n",
    "                                        name='Quantity', mode='lines', line={\"color\":\"blue\"}), \n",
    "                             row=2, col=1)\n",
    "            \n",
    "            ### rewards\n",
    "            fig.append_trace(go.Scatter(x=info[\"t\"], y=info[\"reward\"],\n",
    "                                        name='Reward', mode='lines', line={\"color\":\"red\"}), \n",
    "                             row=3, col=1)\n",
    "            \n",
    "            ### actions\n",
    "            buys = info[info[\"action\"]==1]\n",
    "            for _,i in buys.iterrows():\n",
    "                fig.add_shape({\"x0\":i[\"t\"], \"x1\":i[\"t\"], \n",
    "                               \"y0\":self.data[self.col].min(), \"y1\":self.data[self.col].max(), \n",
    "                               \"type\":\"line\", \"line\":{\"width\":2,\"dash\":\"dot\",\"color\":\"green\"} })\n",
    "                \n",
    "            sells = info[(info[\"action\"]==-1) & (info[\"reward\"]!=0)]\n",
    "            for _,i in sells.iterrows():\n",
    "                fig.add_shape({\"x0\":i[\"t\"], \"x1\":i[\"t\"], \n",
    "                               \"y0\":self.data[self.col].min(), \"y1\":self.data[self.col].max(), \n",
    "                               \"type\":\"line\", \"line\":{\"width\":2,\"dash\":\"dot\",\"color\":\"orange\"} })\n",
    "        \n",
    "        fig.show()"
   ]
  },
  {
   "cell_type": "markdown",
   "metadata": {},
   "source": [
    "###### Load env"
   ]
  },
  {
   "cell_type": "code",
   "execution_count": 52,
   "metadata": {},
   "outputs": [
    {
     "name": "stdout",
     "output_type": "stream",
     "text": [
      "--- env reset | start from: 5 ---\n",
      "current state:\n",
      " y      173.046982\n",
      "x0     178.782232\n",
      "x-1    180.350922\n",
      "x-2    177.922943\n",
      "x-3    169.779648\n",
      "x-4    160.877029\n",
      "x-5    157.489838\n",
      "Name: 5, dtype: float64\n",
      "\n",
      "-> state_space_n = 7\n",
      "-> action_space_n = 3 | actions = {'buy': 1, 'hold': 0, 'sell': -1}\n"
     ]
    },
    {
     "data": {
      "application/vnd.plotly.v1+json": {
       "config": {
        "plotlyServerURL": "https://plot.ly"
       },
       "data": [
        {
         "line": {
          "color": "black"
         },
         "mode": "lines",
         "name": "Price",
         "type": "scatter",
         "x": [
          0,
          1,
          2,
          3,
          4,
          5,
          6,
          7,
          8,
          9,
          10,
          11,
          12,
          13,
          14,
          15,
          16,
          17,
          18,
          19,
          20,
          21,
          22,
          23,
          24,
          25,
          26,
          27,
          28,
          29,
          30,
          31,
          32,
          33,
          34,
          35,
          36,
          37,
          38,
          39,
          40,
          41,
          42,
          43,
          44,
          45,
          46,
          47,
          48,
          49,
          50,
          51,
          52,
          53,
          54,
          55,
          56,
          57,
          58,
          59,
          60,
          61,
          62,
          63,
          64,
          65,
          66,
          67,
          68,
          69,
          70,
          71,
          72,
          73,
          74,
          75,
          76,
          77,
          78,
          79,
          80,
          81,
          82,
          83,
          84,
          85,
          86,
          87,
          88,
          89,
          90,
          91,
          92,
          93,
          94,
          95,
          96,
          97,
          98,
          99,
          100,
          101,
          102,
          103,
          104,
          105,
          106,
          107,
          108,
          109,
          110,
          111,
          112,
          113,
          114,
          115,
          116,
          117,
          118,
          119,
          120,
          121,
          122,
          123,
          124,
          125,
          126,
          127,
          128,
          129,
          130,
          131,
          132,
          133,
          134,
          135,
          136,
          137,
          138,
          139,
          140,
          141,
          142,
          143,
          144,
          145,
          146,
          147,
          148,
          149,
          150,
          151,
          152,
          153,
          154,
          155,
          156,
          157,
          158,
          159,
          160,
          161,
          162,
          163,
          164,
          165,
          166,
          167,
          168,
          169,
          170,
          171,
          172,
          173,
          174,
          175,
          176,
          177,
          178,
          179,
          180,
          181,
          182,
          183,
          184,
          185,
          186,
          187,
          188,
          189,
          190,
          191,
          192,
          193,
          194,
          195,
          196,
          197,
          198,
          199,
          200,
          201,
          202,
          203,
          204,
          205,
          206,
          207,
          208,
          209,
          210,
          211,
          212,
          213,
          214,
          215,
          216,
          217,
          218,
          219,
          220,
          221,
          222,
          223,
          224,
          225,
          226,
          227,
          228,
          229,
          230,
          231,
          232,
          233,
          234,
          235,
          236,
          237,
          238,
          239,
          240,
          241,
          242,
          243,
          244,
          245,
          246,
          247,
          248,
          249,
          250
         ],
         "xaxis": "x",
         "y": [
          157.48983764648438,
          160.8770294189453,
          169.77964782714844,
          177.92294311523438,
          180.35092163085938,
          173.04698181152344,
          170.09939575195312,
          165.19345092773438,
          177.75306701660156,
          179.69146728515625,
          181.47999572753906,
          184.25770568847656,
          185.1069793701172,
          188.77394104003906,
          191.99131774902344,
          189.73318481445312,
          177.78305053710938,
          170.71890258789062,
          180.82052612304688,
          179.27182006835938,
          186.93548583984375,
          190.16282653808594,
          188.63406372070312,
          183.19857788085938,
          187.57496643066406,
          178.3426055908203,
          170.1992950439453,
          171.66810607910156,
          172.07777404785156,
          178.9820556640625,
          162.46571350097656,
          157.87950134277344,
          154.55226135253906,
          150.81533813476562,
          139.2548828125,
          136.3572998046875,
          134.5387725830078,
          137.0674591064453,
          139.82598876953125,
          143.7938995361328,
          144.97328186035156,
          131.2405548095703,
          131.21055603027344,
          129.22158813476562,
          131.91017150878906,
          133.74923706054688,
          131.6903076171875,
          132.53985595703125,
          125.5435562133789,
          125.09379577636719,
          122.21531677246094,
          124.06433868408203,
          127.29263305664062,
          122.13536071777344,
          121.32579040527344,
          125.05381774902344,
          131.60035705566406,
          132.02012634277344,
          131.23056030273438,
          120.69612121582031,
          116.63827514648438,
          115.79871368408203,
          114.93917083740234,
          119.53673553466797,
          112.21060943603516,
          118.8171157836914,
          119.606689453125,
          120.44625854492188,
          121.87549591064453,
          124.59406280517578,
          125.9233627319336,
          132.53985595703125,
          128.8917999267578,
          131.6903076171875,
          138.26681518554688,
          134.8986053466797,
          135.35836791992188,
          132.12008666992188,
          134.13900756835938,
          141.48512268066406,
          142.93434143066406,
          145.94276428222656,
          137.6871337890625,
          157.41668701171875,
          163.1836395263672,
          162.86380004882812,
          166.57183837890625,
          159.01583862304688,
          156.68707275390625,
          154.00848388671875,
          153.08895874023438,
          160.295166015625,
          165.10263061523438,
          162.6139373779297,
          158.18629455566406,
          156.30728149414062,
          169.1837615966797,
          171.3031768798828,
          168.71388244628906,
          166.0546112060547,
          159.82630920410156,
          161.15594482421875,
          171.64308166503906,
          169.96353149414062,
          175.30209350585938,
          180.67062377929688,
          176.69171142578125,
          169.4736785888672,
          165.6647186279297,
          162.49557495117188,
          160.80604553222656,
          164.96490478515625,
          153.34808349609375,
          152.01844787597656,
          141.17141723632812,
          140.32164001464844,
          145.99009704589844,
          146.10006713867188,
          143.11087036132812,
          147.44970703125,
          142.6110076904297,
          148.5493927001953,
          156.23728942871094,
          159.04652404785156,
          159.9662628173828,
          165.0648956298828,
          168.94381713867188,
          176.9716339111328,
          173.72251892089844,
          167.6041717529297,
          178.34124755859375,
          191.87754821777344,
          192.59735107421875,
          193.1772003173828,
          197.96588134765625,
          203.59434509277344,
          191.567626953125,
          195.3166046142578,
          209.3727569580078,
          217.03067016601562,
          210.9423370361328,
          210.83236694335938,
          221.66940307617188,
          221.98931884765625,
          223.3089599609375,
          212.5918731689453,
          217.82046508789062,
          229.64724731445312,
          227.5778045654297,
          219.95986938476562,
          213.82156372070312,
          206.49356079101562,
          207.4832763671875,
          236.57533264160156,
          232.79637145996094,
          234.94578552246094,
          232.0965576171875,
          226.91796875,
          233.07627868652344,
          238.83470153808594,
          235.4756317138672,
          232.8559112548828,
          241.78497314453125,
          234.33575439453125,
          229.62623596191406,
          229.63624572753906,
          240.6051025390625,
          242.2549285888672,
          255.38357543945312,
          257.223388671875,
          258.97320556640625,
          261.962890625,
          264.6526184082031,
          271.8818664550781,
          267.7622985839844,
          265.28253173828125,
          264.07269287109375,
          269.81207275390625,
          273.8016662597656,
          277.7412414550781,
          279.6210632324219,
          274.5015869140625,
          268.7821960449219,
          270.3420104980469,
          275.761474609375,
          271.6618957519531,
          264.922607421875,
          264.6026306152344,
          267.55230712890625,
          269.9920349121094,
          276.6413879394531,
          279.2810974121094,
          271.011962890625,
          271.16192626953125,
          270.39202880859375,
          262.3828430175781,
          269.5321044921875,
          272.2318420410156,
          277.4612731933594,
          289.0700988769531,
          282.0708312988281,
          277.9912109375,
          275.5914611816406,
          286.77032470703125,
          291.4798583984375,
          285.680419921875,
          288.82012939453125,
          285.75042724609375,
          283.37066650390625,
          289.5000305175781,
          292.0997619628906,
          301.748779296875,
          316.7472229003906,
          312.607666015625,
          311.7277526855469,
          306.8482360839844,
          305.3484191894531,
          379.76068115234375,
          389.419677734375,
          401.0684814453125,
          378.30084228515625,
          397.65887451171875,
          393.22930908203125,
          391.6694641113281,
          386.5,
          374.75,
          385.1000061035156,
          387.70001220703125,
          394.82000732421875,
          410.2200012207031,
          429.9700012207031,
          426.5299987792969,
          426.9200134277344,
          438.0799865722656,
          430.45001220703125,
          430.25,
          422.0899963378906,
          406.32000732421875,
          418.760009765625,
          411.1700134277344,
          408.2200012207031,
          423.0199890136719,
          424.1300048828125,
          423.1700134277344,
          421.0299987792969,
          425.0299987792969,
          421.79998779296875,
          424.04998779296875,
          439.0199890136719,
          459.7699890136719,
          454.69000244140625
         ],
         "yaxis": "y"
        }
       ],
       "layout": {
        "annotations": [
         {
          "font": {
           "size": 16
          },
          "showarrow": false,
          "text": "Play",
          "x": 0.5,
          "xanchor": "center",
          "xref": "paper",
          "y": 1,
          "yanchor": "bottom",
          "yref": "paper"
         },
         {
          "font": {
           "size": 16
          },
          "showarrow": false,
          "text": "Quantity",
          "x": 0.5,
          "xanchor": "center",
          "xref": "paper",
          "y": 0.3666666666666667,
          "yanchor": "bottom",
          "yref": "paper"
         },
         {
          "font": {
           "size": 16
          },
          "showarrow": false,
          "text": "Reward",
          "x": 0.5,
          "xanchor": "center",
          "xref": "paper",
          "y": 0.1,
          "yanchor": "bottom",
          "yref": "paper"
         }
        ],
        "hovermode": "x",
        "plot_bgcolor": "white",
        "showlegend": false,
        "template": {
         "data": {
          "bar": [
           {
            "error_x": {
             "color": "#2a3f5f"
            },
            "error_y": {
             "color": "#2a3f5f"
            },
            "marker": {
             "line": {
              "color": "#E5ECF6",
              "width": 0.5
             },
             "pattern": {
              "fillmode": "overlay",
              "size": 10,
              "solidity": 0.2
             }
            },
            "type": "bar"
           }
          ],
          "barpolar": [
           {
            "marker": {
             "line": {
              "color": "#E5ECF6",
              "width": 0.5
             },
             "pattern": {
              "fillmode": "overlay",
              "size": 10,
              "solidity": 0.2
             }
            },
            "type": "barpolar"
           }
          ],
          "carpet": [
           {
            "aaxis": {
             "endlinecolor": "#2a3f5f",
             "gridcolor": "white",
             "linecolor": "white",
             "minorgridcolor": "white",
             "startlinecolor": "#2a3f5f"
            },
            "baxis": {
             "endlinecolor": "#2a3f5f",
             "gridcolor": "white",
             "linecolor": "white",
             "minorgridcolor": "white",
             "startlinecolor": "#2a3f5f"
            },
            "type": "carpet"
           }
          ],
          "choropleth": [
           {
            "colorbar": {
             "outlinewidth": 0,
             "ticks": ""
            },
            "type": "choropleth"
           }
          ],
          "contour": [
           {
            "colorbar": {
             "outlinewidth": 0,
             "ticks": ""
            },
            "colorscale": [
             [
              0,
              "#0d0887"
             ],
             [
              0.1111111111111111,
              "#46039f"
             ],
             [
              0.2222222222222222,
              "#7201a8"
             ],
             [
              0.3333333333333333,
              "#9c179e"
             ],
             [
              0.4444444444444444,
              "#bd3786"
             ],
             [
              0.5555555555555556,
              "#d8576b"
             ],
             [
              0.6666666666666666,
              "#ed7953"
             ],
             [
              0.7777777777777778,
              "#fb9f3a"
             ],
             [
              0.8888888888888888,
              "#fdca26"
             ],
             [
              1,
              "#f0f921"
             ]
            ],
            "type": "contour"
           }
          ],
          "contourcarpet": [
           {
            "colorbar": {
             "outlinewidth": 0,
             "ticks": ""
            },
            "type": "contourcarpet"
           }
          ],
          "heatmap": [
           {
            "colorbar": {
             "outlinewidth": 0,
             "ticks": ""
            },
            "colorscale": [
             [
              0,
              "#0d0887"
             ],
             [
              0.1111111111111111,
              "#46039f"
             ],
             [
              0.2222222222222222,
              "#7201a8"
             ],
             [
              0.3333333333333333,
              "#9c179e"
             ],
             [
              0.4444444444444444,
              "#bd3786"
             ],
             [
              0.5555555555555556,
              "#d8576b"
             ],
             [
              0.6666666666666666,
              "#ed7953"
             ],
             [
              0.7777777777777778,
              "#fb9f3a"
             ],
             [
              0.8888888888888888,
              "#fdca26"
             ],
             [
              1,
              "#f0f921"
             ]
            ],
            "type": "heatmap"
           }
          ],
          "heatmapgl": [
           {
            "colorbar": {
             "outlinewidth": 0,
             "ticks": ""
            },
            "colorscale": [
             [
              0,
              "#0d0887"
             ],
             [
              0.1111111111111111,
              "#46039f"
             ],
             [
              0.2222222222222222,
              "#7201a8"
             ],
             [
              0.3333333333333333,
              "#9c179e"
             ],
             [
              0.4444444444444444,
              "#bd3786"
             ],
             [
              0.5555555555555556,
              "#d8576b"
             ],
             [
              0.6666666666666666,
              "#ed7953"
             ],
             [
              0.7777777777777778,
              "#fb9f3a"
             ],
             [
              0.8888888888888888,
              "#fdca26"
             ],
             [
              1,
              "#f0f921"
             ]
            ],
            "type": "heatmapgl"
           }
          ],
          "histogram": [
           {
            "marker": {
             "pattern": {
              "fillmode": "overlay",
              "size": 10,
              "solidity": 0.2
             }
            },
            "type": "histogram"
           }
          ],
          "histogram2d": [
           {
            "colorbar": {
             "outlinewidth": 0,
             "ticks": ""
            },
            "colorscale": [
             [
              0,
              "#0d0887"
             ],
             [
              0.1111111111111111,
              "#46039f"
             ],
             [
              0.2222222222222222,
              "#7201a8"
             ],
             [
              0.3333333333333333,
              "#9c179e"
             ],
             [
              0.4444444444444444,
              "#bd3786"
             ],
             [
              0.5555555555555556,
              "#d8576b"
             ],
             [
              0.6666666666666666,
              "#ed7953"
             ],
             [
              0.7777777777777778,
              "#fb9f3a"
             ],
             [
              0.8888888888888888,
              "#fdca26"
             ],
             [
              1,
              "#f0f921"
             ]
            ],
            "type": "histogram2d"
           }
          ],
          "histogram2dcontour": [
           {
            "colorbar": {
             "outlinewidth": 0,
             "ticks": ""
            },
            "colorscale": [
             [
              0,
              "#0d0887"
             ],
             [
              0.1111111111111111,
              "#46039f"
             ],
             [
              0.2222222222222222,
              "#7201a8"
             ],
             [
              0.3333333333333333,
              "#9c179e"
             ],
             [
              0.4444444444444444,
              "#bd3786"
             ],
             [
              0.5555555555555556,
              "#d8576b"
             ],
             [
              0.6666666666666666,
              "#ed7953"
             ],
             [
              0.7777777777777778,
              "#fb9f3a"
             ],
             [
              0.8888888888888888,
              "#fdca26"
             ],
             [
              1,
              "#f0f921"
             ]
            ],
            "type": "histogram2dcontour"
           }
          ],
          "mesh3d": [
           {
            "colorbar": {
             "outlinewidth": 0,
             "ticks": ""
            },
            "type": "mesh3d"
           }
          ],
          "parcoords": [
           {
            "line": {
             "colorbar": {
              "outlinewidth": 0,
              "ticks": ""
             }
            },
            "type": "parcoords"
           }
          ],
          "pie": [
           {
            "automargin": true,
            "type": "pie"
           }
          ],
          "scatter": [
           {
            "fillpattern": {
             "fillmode": "overlay",
             "size": 10,
             "solidity": 0.2
            },
            "type": "scatter"
           }
          ],
          "scatter3d": [
           {
            "line": {
             "colorbar": {
              "outlinewidth": 0,
              "ticks": ""
             }
            },
            "marker": {
             "colorbar": {
              "outlinewidth": 0,
              "ticks": ""
             }
            },
            "type": "scatter3d"
           }
          ],
          "scattercarpet": [
           {
            "marker": {
             "colorbar": {
              "outlinewidth": 0,
              "ticks": ""
             }
            },
            "type": "scattercarpet"
           }
          ],
          "scattergeo": [
           {
            "marker": {
             "colorbar": {
              "outlinewidth": 0,
              "ticks": ""
             }
            },
            "type": "scattergeo"
           }
          ],
          "scattergl": [
           {
            "marker": {
             "colorbar": {
              "outlinewidth": 0,
              "ticks": ""
             }
            },
            "type": "scattergl"
           }
          ],
          "scattermapbox": [
           {
            "marker": {
             "colorbar": {
              "outlinewidth": 0,
              "ticks": ""
             }
            },
            "type": "scattermapbox"
           }
          ],
          "scatterpolar": [
           {
            "marker": {
             "colorbar": {
              "outlinewidth": 0,
              "ticks": ""
             }
            },
            "type": "scatterpolar"
           }
          ],
          "scatterpolargl": [
           {
            "marker": {
             "colorbar": {
              "outlinewidth": 0,
              "ticks": ""
             }
            },
            "type": "scatterpolargl"
           }
          ],
          "scatterternary": [
           {
            "marker": {
             "colorbar": {
              "outlinewidth": 0,
              "ticks": ""
             }
            },
            "type": "scatterternary"
           }
          ],
          "surface": [
           {
            "colorbar": {
             "outlinewidth": 0,
             "ticks": ""
            },
            "colorscale": [
             [
              0,
              "#0d0887"
             ],
             [
              0.1111111111111111,
              "#46039f"
             ],
             [
              0.2222222222222222,
              "#7201a8"
             ],
             [
              0.3333333333333333,
              "#9c179e"
             ],
             [
              0.4444444444444444,
              "#bd3786"
             ],
             [
              0.5555555555555556,
              "#d8576b"
             ],
             [
              0.6666666666666666,
              "#ed7953"
             ],
             [
              0.7777777777777778,
              "#fb9f3a"
             ],
             [
              0.8888888888888888,
              "#fdca26"
             ],
             [
              1,
              "#f0f921"
             ]
            ],
            "type": "surface"
           }
          ],
          "table": [
           {
            "cells": {
             "fill": {
              "color": "#EBF0F8"
             },
             "line": {
              "color": "white"
             }
            },
            "header": {
             "fill": {
              "color": "#C8D4E3"
             },
             "line": {
              "color": "white"
             }
            },
            "type": "table"
           }
          ]
         },
         "layout": {
          "annotationdefaults": {
           "arrowcolor": "#2a3f5f",
           "arrowhead": 0,
           "arrowwidth": 1
          },
          "autotypenumbers": "strict",
          "coloraxis": {
           "colorbar": {
            "outlinewidth": 0,
            "ticks": ""
           }
          },
          "colorscale": {
           "diverging": [
            [
             0,
             "#8e0152"
            ],
            [
             0.1,
             "#c51b7d"
            ],
            [
             0.2,
             "#de77ae"
            ],
            [
             0.3,
             "#f1b6da"
            ],
            [
             0.4,
             "#fde0ef"
            ],
            [
             0.5,
             "#f7f7f7"
            ],
            [
             0.6,
             "#e6f5d0"
            ],
            [
             0.7,
             "#b8e186"
            ],
            [
             0.8,
             "#7fbc41"
            ],
            [
             0.9,
             "#4d9221"
            ],
            [
             1,
             "#276419"
            ]
           ],
           "sequential": [
            [
             0,
             "#0d0887"
            ],
            [
             0.1111111111111111,
             "#46039f"
            ],
            [
             0.2222222222222222,
             "#7201a8"
            ],
            [
             0.3333333333333333,
             "#9c179e"
            ],
            [
             0.4444444444444444,
             "#bd3786"
            ],
            [
             0.5555555555555556,
             "#d8576b"
            ],
            [
             0.6666666666666666,
             "#ed7953"
            ],
            [
             0.7777777777777778,
             "#fb9f3a"
            ],
            [
             0.8888888888888888,
             "#fdca26"
            ],
            [
             1,
             "#f0f921"
            ]
           ],
           "sequentialminus": [
            [
             0,
             "#0d0887"
            ],
            [
             0.1111111111111111,
             "#46039f"
            ],
            [
             0.2222222222222222,
             "#7201a8"
            ],
            [
             0.3333333333333333,
             "#9c179e"
            ],
            [
             0.4444444444444444,
             "#bd3786"
            ],
            [
             0.5555555555555556,
             "#d8576b"
            ],
            [
             0.6666666666666666,
             "#ed7953"
            ],
            [
             0.7777777777777778,
             "#fb9f3a"
            ],
            [
             0.8888888888888888,
             "#fdca26"
            ],
            [
             1,
             "#f0f921"
            ]
           ]
          },
          "colorway": [
           "#636efa",
           "#EF553B",
           "#00cc96",
           "#ab63fa",
           "#FFA15A",
           "#19d3f3",
           "#FF6692",
           "#B6E880",
           "#FF97FF",
           "#FECB52"
          ],
          "font": {
           "color": "#2a3f5f"
          },
          "geo": {
           "bgcolor": "white",
           "lakecolor": "white",
           "landcolor": "#E5ECF6",
           "showlakes": true,
           "showland": true,
           "subunitcolor": "white"
          },
          "hoverlabel": {
           "align": "left"
          },
          "hovermode": "closest",
          "mapbox": {
           "style": "light"
          },
          "paper_bgcolor": "white",
          "plot_bgcolor": "#E5ECF6",
          "polar": {
           "angularaxis": {
            "gridcolor": "white",
            "linecolor": "white",
            "ticks": ""
           },
           "bgcolor": "#E5ECF6",
           "radialaxis": {
            "gridcolor": "white",
            "linecolor": "white",
            "ticks": ""
           }
          },
          "scene": {
           "xaxis": {
            "backgroundcolor": "#E5ECF6",
            "gridcolor": "white",
            "gridwidth": 2,
            "linecolor": "white",
            "showbackground": true,
            "ticks": "",
            "zerolinecolor": "white"
           },
           "yaxis": {
            "backgroundcolor": "#E5ECF6",
            "gridcolor": "white",
            "gridwidth": 2,
            "linecolor": "white",
            "showbackground": true,
            "ticks": "",
            "zerolinecolor": "white"
           },
           "zaxis": {
            "backgroundcolor": "#E5ECF6",
            "gridcolor": "white",
            "gridwidth": 2,
            "linecolor": "white",
            "showbackground": true,
            "ticks": "",
            "zerolinecolor": "white"
           }
          },
          "shapedefaults": {
           "line": {
            "color": "#2a3f5f"
           }
          },
          "ternary": {
           "aaxis": {
            "gridcolor": "white",
            "linecolor": "white",
            "ticks": ""
           },
           "baxis": {
            "gridcolor": "white",
            "linecolor": "white",
            "ticks": ""
           },
           "bgcolor": "#E5ECF6",
           "caxis": {
            "gridcolor": "white",
            "linecolor": "white",
            "ticks": ""
           }
          },
          "title": {
           "x": 0.05
          },
          "xaxis": {
           "automargin": true,
           "gridcolor": "white",
           "linecolor": "white",
           "ticks": "",
           "title": {
            "standoff": 15
           },
           "zerolinecolor": "white",
           "zerolinewidth": 2
          },
          "yaxis": {
           "automargin": true,
           "gridcolor": "white",
           "linecolor": "white",
           "ticks": "",
           "title": {
            "standoff": 15
           },
           "zerolinecolor": "white",
           "zerolinewidth": 2
          }
         }
        },
        "xaxis": {
         "anchor": "y",
         "domain": [
          0,
          1
         ],
         "matches": "x3",
         "showticklabels": false
        },
        "xaxis2": {
         "anchor": "y2",
         "domain": [
          0,
          1
         ],
         "matches": "x3",
         "showticklabels": false
        },
        "xaxis3": {
         "anchor": "y3",
         "domain": [
          0,
          1
         ]
        },
        "yaxis": {
         "anchor": "x",
         "domain": [
          0.5333333333333333,
          1
         ],
         "gridcolor": "lightgrey"
        },
        "yaxis2": {
         "anchor": "x2",
         "domain": [
          0.26666666666666666,
          0.3666666666666667
         ]
        },
        "yaxis3": {
         "anchor": "x3",
         "domain": [
          0,
          0.1
         ]
        }
       }
      },
      "text/html": [
       "<div>                            <div id=\"d966eddf-e329-4ffc-a57a-f3d2611b6718\" class=\"plotly-graph-div\" style=\"height:525px; width:100%;\"></div>            <script type=\"text/javascript\">                require([\"plotly\"], function(Plotly) {                    window.PLOTLYENV=window.PLOTLYENV || {};                                    if (document.getElementById(\"d966eddf-e329-4ffc-a57a-f3d2611b6718\")) {                    Plotly.newPlot(                        \"d966eddf-e329-4ffc-a57a-f3d2611b6718\",                        [{\"line\":{\"color\":\"black\"},\"mode\":\"lines\",\"name\":\"Price\",\"x\":[0,1,2,3,4,5,6,7,8,9,10,11,12,13,14,15,16,17,18,19,20,21,22,23,24,25,26,27,28,29,30,31,32,33,34,35,36,37,38,39,40,41,42,43,44,45,46,47,48,49,50,51,52,53,54,55,56,57,58,59,60,61,62,63,64,65,66,67,68,69,70,71,72,73,74,75,76,77,78,79,80,81,82,83,84,85,86,87,88,89,90,91,92,93,94,95,96,97,98,99,100,101,102,103,104,105,106,107,108,109,110,111,112,113,114,115,116,117,118,119,120,121,122,123,124,125,126,127,128,129,130,131,132,133,134,135,136,137,138,139,140,141,142,143,144,145,146,147,148,149,150,151,152,153,154,155,156,157,158,159,160,161,162,163,164,165,166,167,168,169,170,171,172,173,174,175,176,177,178,179,180,181,182,183,184,185,186,187,188,189,190,191,192,193,194,195,196,197,198,199,200,201,202,203,204,205,206,207,208,209,210,211,212,213,214,215,216,217,218,219,220,221,222,223,224,225,226,227,228,229,230,231,232,233,234,235,236,237,238,239,240,241,242,243,244,245,246,247,248,249,250],\"y\":[157.48983764648438,160.8770294189453,169.77964782714844,177.92294311523438,180.35092163085938,173.04698181152344,170.09939575195312,165.19345092773438,177.75306701660156,179.69146728515625,181.47999572753906,184.25770568847656,185.1069793701172,188.77394104003906,191.99131774902344,189.73318481445312,177.78305053710938,170.71890258789062,180.82052612304688,179.27182006835938,186.93548583984375,190.16282653808594,188.63406372070312,183.19857788085938,187.57496643066406,178.3426055908203,170.1992950439453,171.66810607910156,172.07777404785156,178.9820556640625,162.46571350097656,157.87950134277344,154.55226135253906,150.81533813476562,139.2548828125,136.3572998046875,134.5387725830078,137.0674591064453,139.82598876953125,143.7938995361328,144.97328186035156,131.2405548095703,131.21055603027344,129.22158813476562,131.91017150878906,133.74923706054688,131.6903076171875,132.53985595703125,125.5435562133789,125.09379577636719,122.21531677246094,124.06433868408203,127.29263305664062,122.13536071777344,121.32579040527344,125.05381774902344,131.60035705566406,132.02012634277344,131.23056030273438,120.69612121582031,116.63827514648438,115.79871368408203,114.93917083740234,119.53673553466797,112.21060943603516,118.8171157836914,119.606689453125,120.44625854492188,121.87549591064453,124.59406280517578,125.9233627319336,132.53985595703125,128.8917999267578,131.6903076171875,138.26681518554688,134.8986053466797,135.35836791992188,132.12008666992188,134.13900756835938,141.48512268066406,142.93434143066406,145.94276428222656,137.6871337890625,157.41668701171875,163.1836395263672,162.86380004882812,166.57183837890625,159.01583862304688,156.68707275390625,154.00848388671875,153.08895874023438,160.295166015625,165.10263061523438,162.6139373779297,158.18629455566406,156.30728149414062,169.1837615966797,171.3031768798828,168.71388244628906,166.0546112060547,159.82630920410156,161.15594482421875,171.64308166503906,169.96353149414062,175.30209350585938,180.67062377929688,176.69171142578125,169.4736785888672,165.6647186279297,162.49557495117188,160.80604553222656,164.96490478515625,153.34808349609375,152.01844787597656,141.17141723632812,140.32164001464844,145.99009704589844,146.10006713867188,143.11087036132812,147.44970703125,142.6110076904297,148.5493927001953,156.23728942871094,159.04652404785156,159.9662628173828,165.0648956298828,168.94381713867188,176.9716339111328,173.72251892089844,167.6041717529297,178.34124755859375,191.87754821777344,192.59735107421875,193.1772003173828,197.96588134765625,203.59434509277344,191.567626953125,195.3166046142578,209.3727569580078,217.03067016601562,210.9423370361328,210.83236694335938,221.66940307617188,221.98931884765625,223.3089599609375,212.5918731689453,217.82046508789062,229.64724731445312,227.5778045654297,219.95986938476562,213.82156372070312,206.49356079101562,207.4832763671875,236.57533264160156,232.79637145996094,234.94578552246094,232.0965576171875,226.91796875,233.07627868652344,238.83470153808594,235.4756317138672,232.8559112548828,241.78497314453125,234.33575439453125,229.62623596191406,229.63624572753906,240.6051025390625,242.2549285888672,255.38357543945312,257.223388671875,258.97320556640625,261.962890625,264.6526184082031,271.8818664550781,267.7622985839844,265.28253173828125,264.07269287109375,269.81207275390625,273.8016662597656,277.7412414550781,279.6210632324219,274.5015869140625,268.7821960449219,270.3420104980469,275.761474609375,271.6618957519531,264.922607421875,264.6026306152344,267.55230712890625,269.9920349121094,276.6413879394531,279.2810974121094,271.011962890625,271.16192626953125,270.39202880859375,262.3828430175781,269.5321044921875,272.2318420410156,277.4612731933594,289.0700988769531,282.0708312988281,277.9912109375,275.5914611816406,286.77032470703125,291.4798583984375,285.680419921875,288.82012939453125,285.75042724609375,283.37066650390625,289.5000305175781,292.0997619628906,301.748779296875,316.7472229003906,312.607666015625,311.7277526855469,306.8482360839844,305.3484191894531,379.76068115234375,389.419677734375,401.0684814453125,378.30084228515625,397.65887451171875,393.22930908203125,391.6694641113281,386.5,374.75,385.1000061035156,387.70001220703125,394.82000732421875,410.2200012207031,429.9700012207031,426.5299987792969,426.9200134277344,438.0799865722656,430.45001220703125,430.25,422.0899963378906,406.32000732421875,418.760009765625,411.1700134277344,408.2200012207031,423.0199890136719,424.1300048828125,423.1700134277344,421.0299987792969,425.0299987792969,421.79998779296875,424.04998779296875,439.0199890136719,459.7699890136719,454.69000244140625],\"type\":\"scatter\",\"xaxis\":\"x\",\"yaxis\":\"y\"}],                        {\"template\":{\"data\":{\"histogram2dcontour\":[{\"type\":\"histogram2dcontour\",\"colorbar\":{\"outlinewidth\":0,\"ticks\":\"\"},\"colorscale\":[[0.0,\"#0d0887\"],[0.1111111111111111,\"#46039f\"],[0.2222222222222222,\"#7201a8\"],[0.3333333333333333,\"#9c179e\"],[0.4444444444444444,\"#bd3786\"],[0.5555555555555556,\"#d8576b\"],[0.6666666666666666,\"#ed7953\"],[0.7777777777777778,\"#fb9f3a\"],[0.8888888888888888,\"#fdca26\"],[1.0,\"#f0f921\"]]}],\"choropleth\":[{\"type\":\"choropleth\",\"colorbar\":{\"outlinewidth\":0,\"ticks\":\"\"}}],\"histogram2d\":[{\"type\":\"histogram2d\",\"colorbar\":{\"outlinewidth\":0,\"ticks\":\"\"},\"colorscale\":[[0.0,\"#0d0887\"],[0.1111111111111111,\"#46039f\"],[0.2222222222222222,\"#7201a8\"],[0.3333333333333333,\"#9c179e\"],[0.4444444444444444,\"#bd3786\"],[0.5555555555555556,\"#d8576b\"],[0.6666666666666666,\"#ed7953\"],[0.7777777777777778,\"#fb9f3a\"],[0.8888888888888888,\"#fdca26\"],[1.0,\"#f0f921\"]]}],\"heatmap\":[{\"type\":\"heatmap\",\"colorbar\":{\"outlinewidth\":0,\"ticks\":\"\"},\"colorscale\":[[0.0,\"#0d0887\"],[0.1111111111111111,\"#46039f\"],[0.2222222222222222,\"#7201a8\"],[0.3333333333333333,\"#9c179e\"],[0.4444444444444444,\"#bd3786\"],[0.5555555555555556,\"#d8576b\"],[0.6666666666666666,\"#ed7953\"],[0.7777777777777778,\"#fb9f3a\"],[0.8888888888888888,\"#fdca26\"],[1.0,\"#f0f921\"]]}],\"heatmapgl\":[{\"type\":\"heatmapgl\",\"colorbar\":{\"outlinewidth\":0,\"ticks\":\"\"},\"colorscale\":[[0.0,\"#0d0887\"],[0.1111111111111111,\"#46039f\"],[0.2222222222222222,\"#7201a8\"],[0.3333333333333333,\"#9c179e\"],[0.4444444444444444,\"#bd3786\"],[0.5555555555555556,\"#d8576b\"],[0.6666666666666666,\"#ed7953\"],[0.7777777777777778,\"#fb9f3a\"],[0.8888888888888888,\"#fdca26\"],[1.0,\"#f0f921\"]]}],\"contourcarpet\":[{\"type\":\"contourcarpet\",\"colorbar\":{\"outlinewidth\":0,\"ticks\":\"\"}}],\"contour\":[{\"type\":\"contour\",\"colorbar\":{\"outlinewidth\":0,\"ticks\":\"\"},\"colorscale\":[[0.0,\"#0d0887\"],[0.1111111111111111,\"#46039f\"],[0.2222222222222222,\"#7201a8\"],[0.3333333333333333,\"#9c179e\"],[0.4444444444444444,\"#bd3786\"],[0.5555555555555556,\"#d8576b\"],[0.6666666666666666,\"#ed7953\"],[0.7777777777777778,\"#fb9f3a\"],[0.8888888888888888,\"#fdca26\"],[1.0,\"#f0f921\"]]}],\"surface\":[{\"type\":\"surface\",\"colorbar\":{\"outlinewidth\":0,\"ticks\":\"\"},\"colorscale\":[[0.0,\"#0d0887\"],[0.1111111111111111,\"#46039f\"],[0.2222222222222222,\"#7201a8\"],[0.3333333333333333,\"#9c179e\"],[0.4444444444444444,\"#bd3786\"],[0.5555555555555556,\"#d8576b\"],[0.6666666666666666,\"#ed7953\"],[0.7777777777777778,\"#fb9f3a\"],[0.8888888888888888,\"#fdca26\"],[1.0,\"#f0f921\"]]}],\"mesh3d\":[{\"type\":\"mesh3d\",\"colorbar\":{\"outlinewidth\":0,\"ticks\":\"\"}}],\"scatter\":[{\"fillpattern\":{\"fillmode\":\"overlay\",\"size\":10,\"solidity\":0.2},\"type\":\"scatter\"}],\"parcoords\":[{\"type\":\"parcoords\",\"line\":{\"colorbar\":{\"outlinewidth\":0,\"ticks\":\"\"}}}],\"scatterpolargl\":[{\"type\":\"scatterpolargl\",\"marker\":{\"colorbar\":{\"outlinewidth\":0,\"ticks\":\"\"}}}],\"bar\":[{\"error_x\":{\"color\":\"#2a3f5f\"},\"error_y\":{\"color\":\"#2a3f5f\"},\"marker\":{\"line\":{\"color\":\"#E5ECF6\",\"width\":0.5},\"pattern\":{\"fillmode\":\"overlay\",\"size\":10,\"solidity\":0.2}},\"type\":\"bar\"}],\"scattergeo\":[{\"type\":\"scattergeo\",\"marker\":{\"colorbar\":{\"outlinewidth\":0,\"ticks\":\"\"}}}],\"scatterpolar\":[{\"type\":\"scatterpolar\",\"marker\":{\"colorbar\":{\"outlinewidth\":0,\"ticks\":\"\"}}}],\"histogram\":[{\"marker\":{\"pattern\":{\"fillmode\":\"overlay\",\"size\":10,\"solidity\":0.2}},\"type\":\"histogram\"}],\"scattergl\":[{\"type\":\"scattergl\",\"marker\":{\"colorbar\":{\"outlinewidth\":0,\"ticks\":\"\"}}}],\"scatter3d\":[{\"type\":\"scatter3d\",\"line\":{\"colorbar\":{\"outlinewidth\":0,\"ticks\":\"\"}},\"marker\":{\"colorbar\":{\"outlinewidth\":0,\"ticks\":\"\"}}}],\"scattermapbox\":[{\"type\":\"scattermapbox\",\"marker\":{\"colorbar\":{\"outlinewidth\":0,\"ticks\":\"\"}}}],\"scatterternary\":[{\"type\":\"scatterternary\",\"marker\":{\"colorbar\":{\"outlinewidth\":0,\"ticks\":\"\"}}}],\"scattercarpet\":[{\"type\":\"scattercarpet\",\"marker\":{\"colorbar\":{\"outlinewidth\":0,\"ticks\":\"\"}}}],\"carpet\":[{\"aaxis\":{\"endlinecolor\":\"#2a3f5f\",\"gridcolor\":\"white\",\"linecolor\":\"white\",\"minorgridcolor\":\"white\",\"startlinecolor\":\"#2a3f5f\"},\"baxis\":{\"endlinecolor\":\"#2a3f5f\",\"gridcolor\":\"white\",\"linecolor\":\"white\",\"minorgridcolor\":\"white\",\"startlinecolor\":\"#2a3f5f\"},\"type\":\"carpet\"}],\"table\":[{\"cells\":{\"fill\":{\"color\":\"#EBF0F8\"},\"line\":{\"color\":\"white\"}},\"header\":{\"fill\":{\"color\":\"#C8D4E3\"},\"line\":{\"color\":\"white\"}},\"type\":\"table\"}],\"barpolar\":[{\"marker\":{\"line\":{\"color\":\"#E5ECF6\",\"width\":0.5},\"pattern\":{\"fillmode\":\"overlay\",\"size\":10,\"solidity\":0.2}},\"type\":\"barpolar\"}],\"pie\":[{\"automargin\":true,\"type\":\"pie\"}]},\"layout\":{\"autotypenumbers\":\"strict\",\"colorway\":[\"#636efa\",\"#EF553B\",\"#00cc96\",\"#ab63fa\",\"#FFA15A\",\"#19d3f3\",\"#FF6692\",\"#B6E880\",\"#FF97FF\",\"#FECB52\"],\"font\":{\"color\":\"#2a3f5f\"},\"hovermode\":\"closest\",\"hoverlabel\":{\"align\":\"left\"},\"paper_bgcolor\":\"white\",\"plot_bgcolor\":\"#E5ECF6\",\"polar\":{\"bgcolor\":\"#E5ECF6\",\"angularaxis\":{\"gridcolor\":\"white\",\"linecolor\":\"white\",\"ticks\":\"\"},\"radialaxis\":{\"gridcolor\":\"white\",\"linecolor\":\"white\",\"ticks\":\"\"}},\"ternary\":{\"bgcolor\":\"#E5ECF6\",\"aaxis\":{\"gridcolor\":\"white\",\"linecolor\":\"white\",\"ticks\":\"\"},\"baxis\":{\"gridcolor\":\"white\",\"linecolor\":\"white\",\"ticks\":\"\"},\"caxis\":{\"gridcolor\":\"white\",\"linecolor\":\"white\",\"ticks\":\"\"}},\"coloraxis\":{\"colorbar\":{\"outlinewidth\":0,\"ticks\":\"\"}},\"colorscale\":{\"sequential\":[[0.0,\"#0d0887\"],[0.1111111111111111,\"#46039f\"],[0.2222222222222222,\"#7201a8\"],[0.3333333333333333,\"#9c179e\"],[0.4444444444444444,\"#bd3786\"],[0.5555555555555556,\"#d8576b\"],[0.6666666666666666,\"#ed7953\"],[0.7777777777777778,\"#fb9f3a\"],[0.8888888888888888,\"#fdca26\"],[1.0,\"#f0f921\"]],\"sequentialminus\":[[0.0,\"#0d0887\"],[0.1111111111111111,\"#46039f\"],[0.2222222222222222,\"#7201a8\"],[0.3333333333333333,\"#9c179e\"],[0.4444444444444444,\"#bd3786\"],[0.5555555555555556,\"#d8576b\"],[0.6666666666666666,\"#ed7953\"],[0.7777777777777778,\"#fb9f3a\"],[0.8888888888888888,\"#fdca26\"],[1.0,\"#f0f921\"]],\"diverging\":[[0,\"#8e0152\"],[0.1,\"#c51b7d\"],[0.2,\"#de77ae\"],[0.3,\"#f1b6da\"],[0.4,\"#fde0ef\"],[0.5,\"#f7f7f7\"],[0.6,\"#e6f5d0\"],[0.7,\"#b8e186\"],[0.8,\"#7fbc41\"],[0.9,\"#4d9221\"],[1,\"#276419\"]]},\"xaxis\":{\"gridcolor\":\"white\",\"linecolor\":\"white\",\"ticks\":\"\",\"title\":{\"standoff\":15},\"zerolinecolor\":\"white\",\"automargin\":true,\"zerolinewidth\":2},\"yaxis\":{\"gridcolor\":\"white\",\"linecolor\":\"white\",\"ticks\":\"\",\"title\":{\"standoff\":15},\"zerolinecolor\":\"white\",\"automargin\":true,\"zerolinewidth\":2},\"scene\":{\"xaxis\":{\"backgroundcolor\":\"#E5ECF6\",\"gridcolor\":\"white\",\"linecolor\":\"white\",\"showbackground\":true,\"ticks\":\"\",\"zerolinecolor\":\"white\",\"gridwidth\":2},\"yaxis\":{\"backgroundcolor\":\"#E5ECF6\",\"gridcolor\":\"white\",\"linecolor\":\"white\",\"showbackground\":true,\"ticks\":\"\",\"zerolinecolor\":\"white\",\"gridwidth\":2},\"zaxis\":{\"backgroundcolor\":\"#E5ECF6\",\"gridcolor\":\"white\",\"linecolor\":\"white\",\"showbackground\":true,\"ticks\":\"\",\"zerolinecolor\":\"white\",\"gridwidth\":2}},\"shapedefaults\":{\"line\":{\"color\":\"#2a3f5f\"}},\"annotationdefaults\":{\"arrowcolor\":\"#2a3f5f\",\"arrowhead\":0,\"arrowwidth\":1},\"geo\":{\"bgcolor\":\"white\",\"landcolor\":\"#E5ECF6\",\"subunitcolor\":\"white\",\"showland\":true,\"showlakes\":true,\"lakecolor\":\"white\"},\"title\":{\"x\":0.05},\"mapbox\":{\"style\":\"light\"}}},\"xaxis\":{\"anchor\":\"y\",\"domain\":[0.0,1.0],\"matches\":\"x3\",\"showticklabels\":false},\"yaxis\":{\"anchor\":\"x\",\"domain\":[0.5333333333333333,1.0],\"gridcolor\":\"lightgrey\"},\"xaxis2\":{\"anchor\":\"y2\",\"domain\":[0.0,1.0],\"matches\":\"x3\",\"showticklabels\":false},\"yaxis2\":{\"anchor\":\"x2\",\"domain\":[0.26666666666666666,0.3666666666666667]},\"xaxis3\":{\"anchor\":\"y3\",\"domain\":[0.0,1.0]},\"yaxis3\":{\"anchor\":\"x3\",\"domain\":[0.0,0.1]},\"annotations\":[{\"font\":{\"size\":16},\"showarrow\":false,\"text\":\"Play\",\"x\":0.5,\"xanchor\":\"center\",\"xref\":\"paper\",\"y\":1.0,\"yanchor\":\"bottom\",\"yref\":\"paper\"},{\"font\":{\"size\":16},\"showarrow\":false,\"text\":\"Quantity\",\"x\":0.5,\"xanchor\":\"center\",\"xref\":\"paper\",\"y\":0.3666666666666667,\"yanchor\":\"bottom\",\"yref\":\"paper\"},{\"font\":{\"size\":16},\"showarrow\":false,\"text\":\"Reward\",\"x\":0.5,\"xanchor\":\"center\",\"xref\":\"paper\",\"y\":0.1,\"yanchor\":\"bottom\",\"yref\":\"paper\"}],\"plot_bgcolor\":\"white\",\"hovermode\":\"x\",\"showlegend\":false},                        {\"responsive\": true}                    ).then(function(){\n",
       "                            \n",
       "var gd = document.getElementById('d966eddf-e329-4ffc-a57a-f3d2611b6718');\n",
       "var x = new MutationObserver(function (mutations, observer) {{\n",
       "        var display = window.getComputedStyle(gd).display;\n",
       "        if (!display || display === 'none') {{\n",
       "            console.log([gd, 'removed!']);\n",
       "            Plotly.purge(gd);\n",
       "            observer.disconnect();\n",
       "        }}\n",
       "}});\n",
       "\n",
       "// Listen for the removal of the full notebook cells\n",
       "var notebookContainer = gd.closest('#notebook-container');\n",
       "if (notebookContainer) {{\n",
       "    x.observe(notebookContainer, {childList: true});\n",
       "}}\n",
       "\n",
       "// Listen for the clearing of the current output cell\n",
       "var outputEl = gd.closest('.output');\n",
       "if (outputEl) {{\n",
       "    x.observe(outputEl, {childList: true});\n",
       "}}\n",
       "\n",
       "                        })                };                });            </script>        </div>"
      ]
     },
     "metadata": {},
     "output_type": "display_data"
    }
   ],
   "source": [
    "env = NewEnv(data, col=\"Close\", history=5, include_open=True, from_start=True)\n",
    "print(\"\\n-> state_space_n =\", env.state_space_n)\n",
    "print(\"-> action_space_n =\", env.action_space_n, \"| actions =\", env.action_space)\n",
    "env.render()"
   ]
  },
  {
   "cell_type": "markdown",
   "metadata": {},
   "source": [
    "###### Random play"
   ]
  },
  {
   "cell_type": "code",
   "execution_count": 48,
   "metadata": {},
   "outputs": [
    {
     "name": "stdout",
     "output_type": "stream",
     "text": [
      "--- env reset | start from: 5 ---\n",
      "current state:\n",
      " y      173.046982\n",
      "x0     178.782232\n",
      "x-1    180.350922\n",
      "x-2    177.922943\n",
      "x-3    169.779648\n",
      "x-4    160.877029\n",
      "x-5    157.489838\n",
      "Name: 5, dtype: float64\n"
     ]
    },
    {
     "data": {
      "application/vnd.plotly.v1+json": {
       "config": {
        "plotlyServerURL": "https://plot.ly"
       },
       "data": [
        {
         "line": {
          "color": "black"
         },
         "mode": "lines",
         "name": "Price",
         "type": "scatter",
         "x": [
          0,
          1,
          2,
          3,
          4,
          5,
          6,
          7,
          8,
          9,
          10,
          11,
          12,
          13,
          14,
          15,
          16,
          17,
          18,
          19,
          20,
          21,
          22,
          23,
          24,
          25,
          26,
          27,
          28,
          29,
          30,
          31,
          32,
          33,
          34,
          35,
          36,
          37,
          38,
          39,
          40,
          41,
          42,
          43,
          44,
          45,
          46,
          47,
          48,
          49,
          50,
          51,
          52,
          53,
          54,
          55,
          56,
          57,
          58,
          59,
          60,
          61,
          62,
          63,
          64,
          65,
          66,
          67,
          68,
          69,
          70,
          71,
          72,
          73,
          74,
          75,
          76,
          77,
          78,
          79,
          80,
          81,
          82,
          83,
          84,
          85,
          86,
          87,
          88,
          89,
          90,
          91,
          92,
          93,
          94,
          95,
          96,
          97,
          98,
          99,
          100,
          101,
          102,
          103,
          104,
          105,
          106,
          107,
          108,
          109,
          110,
          111,
          112,
          113,
          114,
          115,
          116,
          117,
          118,
          119,
          120,
          121,
          122,
          123,
          124,
          125,
          126,
          127,
          128,
          129,
          130,
          131,
          132,
          133,
          134,
          135,
          136,
          137,
          138,
          139,
          140,
          141,
          142,
          143,
          144,
          145,
          146,
          147,
          148,
          149,
          150,
          151,
          152,
          153,
          154,
          155,
          156,
          157,
          158,
          159,
          160,
          161,
          162,
          163,
          164,
          165,
          166,
          167,
          168,
          169,
          170,
          171,
          172,
          173,
          174,
          175,
          176,
          177,
          178,
          179,
          180,
          181,
          182,
          183,
          184,
          185,
          186,
          187,
          188,
          189,
          190,
          191,
          192,
          193,
          194,
          195,
          196,
          197,
          198,
          199,
          200,
          201,
          202,
          203,
          204,
          205,
          206,
          207,
          208,
          209,
          210,
          211,
          212,
          213,
          214,
          215,
          216,
          217,
          218,
          219,
          220,
          221,
          222,
          223,
          224,
          225,
          226,
          227,
          228,
          229,
          230,
          231,
          232,
          233,
          234,
          235,
          236,
          237,
          238,
          239,
          240,
          241,
          242,
          243,
          244,
          245,
          246,
          247,
          248,
          249,
          250
         ],
         "xaxis": "x",
         "y": [
          157.48983764648438,
          160.8770294189453,
          169.77964782714844,
          177.92294311523438,
          180.35092163085938,
          173.04698181152344,
          170.09939575195312,
          165.19345092773438,
          177.75306701660156,
          179.69146728515625,
          181.47999572753906,
          184.25770568847656,
          185.1069793701172,
          188.77394104003906,
          191.99131774902344,
          189.73318481445312,
          177.78305053710938,
          170.71890258789062,
          180.82052612304688,
          179.27182006835938,
          186.93548583984375,
          190.16282653808594,
          188.63406372070312,
          183.19857788085938,
          187.57496643066406,
          178.3426055908203,
          170.1992950439453,
          171.66810607910156,
          172.07777404785156,
          178.9820556640625,
          162.46571350097656,
          157.87950134277344,
          154.55226135253906,
          150.81533813476562,
          139.2548828125,
          136.3572998046875,
          134.5387725830078,
          137.0674591064453,
          139.82598876953125,
          143.7938995361328,
          144.97328186035156,
          131.2405548095703,
          131.21055603027344,
          129.22158813476562,
          131.91017150878906,
          133.74923706054688,
          131.6903076171875,
          132.53985595703125,
          125.5435562133789,
          125.09379577636719,
          122.21531677246094,
          124.06433868408203,
          127.29263305664062,
          122.13536071777344,
          121.32579040527344,
          125.05381774902344,
          131.60035705566406,
          132.02012634277344,
          131.23056030273438,
          120.69612121582031,
          116.63827514648438,
          115.79871368408203,
          114.93917083740234,
          119.53673553466797,
          112.21060943603516,
          118.8171157836914,
          119.606689453125,
          120.44625854492188,
          121.87549591064453,
          124.59406280517578,
          125.9233627319336,
          132.53985595703125,
          128.8917999267578,
          131.6903076171875,
          138.26681518554688,
          134.8986053466797,
          135.35836791992188,
          132.12008666992188,
          134.13900756835938,
          141.48512268066406,
          142.93434143066406,
          145.94276428222656,
          137.6871337890625,
          157.41668701171875,
          163.1836395263672,
          162.86380004882812,
          166.57183837890625,
          159.01583862304688,
          156.68707275390625,
          154.00848388671875,
          153.08895874023438,
          160.295166015625,
          165.10263061523438,
          162.6139373779297,
          158.18629455566406,
          156.30728149414062,
          169.1837615966797,
          171.3031768798828,
          168.71388244628906,
          166.0546112060547,
          159.82630920410156,
          161.15594482421875,
          171.64308166503906,
          169.96353149414062,
          175.30209350585938,
          180.67062377929688,
          176.69171142578125,
          169.4736785888672,
          165.6647186279297,
          162.49557495117188,
          160.80604553222656,
          164.96490478515625,
          153.34808349609375,
          152.01844787597656,
          141.17141723632812,
          140.32164001464844,
          145.99009704589844,
          146.10006713867188,
          143.11087036132812,
          147.44970703125,
          142.6110076904297,
          148.5493927001953,
          156.23728942871094,
          159.04652404785156,
          159.9662628173828,
          165.0648956298828,
          168.94381713867188,
          176.9716339111328,
          173.72251892089844,
          167.6041717529297,
          178.34124755859375,
          191.87754821777344,
          192.59735107421875,
          193.1772003173828,
          197.96588134765625,
          203.59434509277344,
          191.567626953125,
          195.3166046142578,
          209.3727569580078,
          217.03067016601562,
          210.9423370361328,
          210.83236694335938,
          221.66940307617188,
          221.98931884765625,
          223.3089599609375,
          212.5918731689453,
          217.82046508789062,
          229.64724731445312,
          227.5778045654297,
          219.95986938476562,
          213.82156372070312,
          206.49356079101562,
          207.4832763671875,
          236.57533264160156,
          232.79637145996094,
          234.94578552246094,
          232.0965576171875,
          226.91796875,
          233.07627868652344,
          238.83470153808594,
          235.4756317138672,
          232.8559112548828,
          241.78497314453125,
          234.33575439453125,
          229.62623596191406,
          229.63624572753906,
          240.6051025390625,
          242.2549285888672,
          255.38357543945312,
          257.223388671875,
          258.97320556640625,
          261.962890625,
          264.6526184082031,
          271.8818664550781,
          267.7622985839844,
          265.28253173828125,
          264.07269287109375,
          269.81207275390625,
          273.8016662597656,
          277.7412414550781,
          279.6210632324219,
          274.5015869140625,
          268.7821960449219,
          270.3420104980469,
          275.761474609375,
          271.6618957519531,
          264.922607421875,
          264.6026306152344,
          267.55230712890625,
          269.9920349121094,
          276.6413879394531,
          279.2810974121094,
          271.011962890625,
          271.16192626953125,
          270.39202880859375,
          262.3828430175781,
          269.5321044921875,
          272.2318420410156,
          277.4612731933594,
          289.0700988769531,
          282.0708312988281,
          277.9912109375,
          275.5914611816406,
          286.77032470703125,
          291.4798583984375,
          285.680419921875,
          288.82012939453125,
          285.75042724609375,
          283.37066650390625,
          289.5000305175781,
          292.0997619628906,
          301.748779296875,
          316.7472229003906,
          312.607666015625,
          311.7277526855469,
          306.8482360839844,
          305.3484191894531,
          379.76068115234375,
          389.419677734375,
          401.0684814453125,
          378.30084228515625,
          397.65887451171875,
          393.22930908203125,
          391.6694641113281,
          386.5,
          374.75,
          385.1000061035156,
          387.70001220703125,
          394.82000732421875,
          410.2200012207031,
          429.9700012207031,
          426.5299987792969,
          426.9200134277344,
          438.0799865722656,
          430.45001220703125,
          430.25,
          422.0899963378906,
          406.32000732421875,
          418.760009765625,
          411.1700134277344,
          408.2200012207031,
          423.0199890136719,
          424.1300048828125,
          423.1700134277344,
          421.0299987792969,
          425.0299987792969,
          421.79998779296875,
          424.04998779296875,
          439.0199890136719,
          459.7699890136719,
          454.69000244140625
         ],
         "yaxis": "y"
        },
        {
         "line": {
          "color": "blue"
         },
         "mode": "lines",
         "name": "Quantity",
         "type": "scatter",
         "x": [
          6,
          7,
          8,
          9,
          10,
          11,
          12,
          13,
          14,
          15,
          16,
          17,
          18,
          19,
          20,
          21,
          22,
          23,
          24,
          25,
          26,
          27,
          28,
          29,
          30,
          31,
          32,
          33,
          34,
          35,
          36,
          37,
          38,
          39,
          40,
          41,
          42,
          43,
          44,
          45,
          46,
          47,
          48,
          49,
          50,
          51,
          52,
          53,
          54,
          55,
          56,
          57,
          58,
          59,
          60,
          61,
          62,
          63,
          64,
          65,
          66,
          67,
          68,
          69,
          70,
          71,
          72,
          73,
          74,
          75,
          76,
          77,
          78,
          79,
          80,
          81,
          82,
          83,
          84,
          85,
          86,
          87,
          88,
          89,
          90,
          91,
          92,
          93,
          94,
          95,
          96,
          97,
          98,
          99,
          100,
          101,
          102,
          103,
          104,
          105,
          106,
          107,
          108,
          109,
          110,
          111,
          112,
          113,
          114,
          115,
          116,
          117,
          118,
          119,
          120,
          121,
          122,
          123,
          124,
          125,
          126,
          127,
          128,
          129,
          130,
          131,
          132,
          133,
          134,
          135,
          136,
          137,
          138,
          139,
          140,
          141,
          142,
          143,
          144,
          145,
          146,
          147,
          148,
          149,
          150,
          151,
          152,
          153,
          154,
          155,
          156,
          157,
          158,
          159,
          160,
          161,
          162,
          163,
          164,
          165,
          166,
          167,
          168,
          169,
          170,
          171,
          172,
          173,
          174,
          175,
          176,
          177,
          178,
          179,
          180,
          181,
          182,
          183,
          184,
          185,
          186,
          187,
          188,
          189,
          190,
          191,
          192,
          193,
          194,
          195,
          196,
          197,
          198,
          199,
          200,
          201,
          202,
          203,
          204,
          205,
          206,
          207,
          208,
          209,
          210,
          211,
          212,
          213,
          214,
          215,
          216,
          217,
          218,
          219,
          220,
          221,
          222,
          223,
          224,
          225,
          226,
          227,
          228,
          229,
          230,
          231,
          232,
          233,
          234,
          235,
          236,
          237,
          238,
          239,
          240,
          241,
          242,
          243,
          244,
          245,
          245,
          6,
          7,
          8,
          9,
          10,
          11,
          12,
          13,
          14,
          15,
          16,
          17,
          18,
          19,
          20,
          21,
          22,
          23,
          24,
          25,
          26,
          27,
          28,
          29,
          30,
          31,
          32,
          33,
          34,
          35,
          36,
          37,
          38,
          39,
          40,
          41,
          42,
          43,
          44,
          45,
          46,
          47,
          48,
          49,
          50,
          51,
          52,
          53,
          54,
          55,
          56,
          57,
          58,
          59,
          60,
          61,
          62,
          63,
          64,
          65,
          66,
          67,
          68,
          69,
          70,
          71,
          72,
          73,
          74,
          75,
          76,
          77,
          78,
          79,
          80,
          81,
          82,
          83,
          84,
          85,
          86,
          87,
          88,
          89,
          90,
          91,
          92,
          93,
          94,
          95,
          96,
          97,
          98,
          99,
          100,
          101,
          102,
          103,
          104,
          105,
          106,
          107,
          108,
          109,
          110,
          111,
          112,
          113,
          114,
          115,
          116,
          117,
          118,
          119,
          120,
          121,
          122,
          123,
          124,
          125,
          126,
          127,
          128,
          129,
          130,
          131,
          132,
          133,
          134,
          135,
          136,
          137,
          138,
          139,
          140,
          141,
          142,
          143,
          144,
          145,
          146,
          147,
          148,
          149,
          150,
          151,
          152,
          153,
          154,
          155,
          156,
          157,
          158,
          159,
          160,
          161,
          162,
          163,
          164,
          165,
          166,
          167,
          168,
          169,
          170,
          171,
          172,
          173,
          174,
          175,
          176,
          177,
          178,
          179,
          180,
          181,
          182,
          183,
          184,
          185,
          186,
          187,
          188,
          189,
          190,
          191,
          192,
          193,
          194,
          195,
          196,
          197,
          198,
          199,
          200,
          201,
          202,
          203,
          204,
          205,
          206,
          207,
          208,
          209,
          210,
          211,
          212,
          213,
          214,
          215,
          216,
          217,
          218,
          219,
          220,
          221,
          222,
          223,
          224,
          225,
          226,
          227,
          228,
          229,
          230,
          231,
          232,
          233,
          234,
          235,
          236,
          237,
          238,
          239,
          240,
          241,
          242,
          243,
          244,
          245,
          245
         ],
         "xaxis": "x2",
         "y": [
          0,
          1,
          1,
          2,
          3,
          0,
          0,
          0,
          0,
          0,
          1,
          2,
          0,
          1,
          0,
          0,
          0,
          0,
          0,
          1,
          0,
          1,
          2,
          0,
          1,
          0,
          0,
          0,
          1,
          0,
          0,
          1,
          0,
          1,
          2,
          2,
          2,
          2,
          2,
          0,
          1,
          1,
          0,
          0,
          0,
          0,
          1,
          2,
          0,
          0,
          1,
          2,
          3,
          4,
          5,
          0,
          0,
          0,
          0,
          1,
          2,
          3,
          0,
          1,
          2,
          0,
          1,
          2,
          2,
          0,
          0,
          1,
          0,
          1,
          0,
          0,
          1,
          0,
          0,
          0,
          1,
          1,
          2,
          0,
          0,
          0,
          0,
          0,
          0,
          1,
          1,
          0,
          0,
          1,
          1,
          1,
          0,
          0,
          1,
          1,
          1,
          0,
          1,
          0,
          0,
          1,
          2,
          0,
          1,
          0,
          0,
          0,
          0,
          1,
          1,
          2,
          3,
          3,
          0,
          0,
          1,
          0,
          1,
          0,
          1,
          1,
          0,
          0,
          0,
          0,
          1,
          1,
          2,
          0,
          1,
          1,
          1,
          2,
          0,
          0,
          1,
          0,
          0,
          1,
          0,
          1,
          0,
          0,
          0,
          0,
          0,
          1,
          2,
          3,
          3,
          0,
          0,
          0,
          0,
          0,
          0,
          1,
          2,
          3,
          0,
          0,
          0,
          0,
          0,
          0,
          0,
          0,
          0,
          0,
          0,
          0,
          0,
          0,
          1,
          2,
          0,
          0,
          1,
          2,
          3,
          3,
          0,
          0,
          0,
          1,
          0,
          0,
          0,
          0,
          1,
          0,
          0,
          0,
          0,
          1,
          0,
          1,
          0,
          0,
          0,
          1,
          0,
          0,
          0,
          0,
          0,
          1,
          1,
          1,
          2,
          2,
          2,
          2,
          2,
          0,
          0,
          0,
          0,
          0,
          1,
          0,
          0,
          0,
          1,
          0,
          0,
          0,
          1,
          1,
          2,
          3,
          3,
          0,
          0,
          0,
          0,
          1,
          0,
          0,
          0,
          0,
          1,
          1,
          2,
          3,
          0,
          1,
          2,
          0,
          0,
          1,
          0,
          0,
          0,
          1,
          1,
          0,
          1,
          1,
          2,
          3,
          3,
          0,
          1,
          0,
          1,
          1,
          2,
          0,
          0,
          0,
          1,
          0,
          0,
          1,
          1,
          2,
          2,
          3,
          3,
          4,
          5,
          0,
          0,
          1,
          0,
          0,
          0,
          0,
          0,
          0,
          0,
          1,
          1,
          1,
          2,
          0,
          0,
          0,
          1,
          2,
          0,
          0,
          0,
          0,
          1,
          2,
          3,
          0,
          0,
          0,
          1,
          0,
          0,
          1,
          0,
          1,
          1,
          0,
          1,
          1,
          1,
          0,
          0,
          1,
          2,
          0,
          0,
          0,
          0,
          1,
          1,
          2,
          2,
          3,
          3,
          0,
          1,
          2,
          3,
          0,
          1,
          0,
          1,
          1,
          1,
          2,
          0,
          0,
          0,
          1,
          2,
          2,
          2,
          2,
          0,
          0,
          0,
          0,
          0,
          0,
          1,
          0,
          0,
          0,
          0,
          0,
          0,
          0,
          1,
          0,
          0,
          1,
          1,
          0,
          1,
          1,
          2,
          3,
          3,
          0,
          0,
          1,
          2,
          0,
          0,
          0,
          0,
          0,
          0,
          0,
          0,
          1,
          2,
          3,
          4,
          5,
          5,
          6,
          0,
          0,
          0,
          0,
          0,
          0,
          0,
          1,
          0,
          0,
          0,
          1,
          2,
          0,
          1,
          0,
          0,
          0,
          1,
          1,
          1,
          0,
          0,
          0,
          1,
          0,
          1,
          0,
          0,
          0,
          0,
          0,
          0,
          0,
          1,
          1,
          2,
          0,
          0,
          0,
          0,
          0,
          1,
          1,
          2,
          3,
          3,
          4,
          0,
          0,
          0,
          0,
          0,
          0,
          0,
          1,
          2,
          3,
          3,
          3,
          4,
          5,
          5,
          0,
          1,
          1,
          1,
          0,
          1,
          1,
          0,
          0,
          0,
          1,
          1,
          2,
          3,
          0
         ],
         "yaxis": "y2"
        },
        {
         "line": {
          "color": "red"
         },
         "mode": "lines",
         "name": "Reward",
         "type": "scatter",
         "x": [
          6,
          7,
          8,
          9,
          10,
          11,
          12,
          13,
          14,
          15,
          16,
          17,
          18,
          19,
          20,
          21,
          22,
          23,
          24,
          25,
          26,
          27,
          28,
          29,
          30,
          31,
          32,
          33,
          34,
          35,
          36,
          37,
          38,
          39,
          40,
          41,
          42,
          43,
          44,
          45,
          46,
          47,
          48,
          49,
          50,
          51,
          52,
          53,
          54,
          55,
          56,
          57,
          58,
          59,
          60,
          61,
          62,
          63,
          64,
          65,
          66,
          67,
          68,
          69,
          70,
          71,
          72,
          73,
          74,
          75,
          76,
          77,
          78,
          79,
          80,
          81,
          82,
          83,
          84,
          85,
          86,
          87,
          88,
          89,
          90,
          91,
          92,
          93,
          94,
          95,
          96,
          97,
          98,
          99,
          100,
          101,
          102,
          103,
          104,
          105,
          106,
          107,
          108,
          109,
          110,
          111,
          112,
          113,
          114,
          115,
          116,
          117,
          118,
          119,
          120,
          121,
          122,
          123,
          124,
          125,
          126,
          127,
          128,
          129,
          130,
          131,
          132,
          133,
          134,
          135,
          136,
          137,
          138,
          139,
          140,
          141,
          142,
          143,
          144,
          145,
          146,
          147,
          148,
          149,
          150,
          151,
          152,
          153,
          154,
          155,
          156,
          157,
          158,
          159,
          160,
          161,
          162,
          163,
          164,
          165,
          166,
          167,
          168,
          169,
          170,
          171,
          172,
          173,
          174,
          175,
          176,
          177,
          178,
          179,
          180,
          181,
          182,
          183,
          184,
          185,
          186,
          187,
          188,
          189,
          190,
          191,
          192,
          193,
          194,
          195,
          196,
          197,
          198,
          199,
          200,
          201,
          202,
          203,
          204,
          205,
          206,
          207,
          208,
          209,
          210,
          211,
          212,
          213,
          214,
          215,
          216,
          217,
          218,
          219,
          220,
          221,
          222,
          223,
          224,
          225,
          226,
          227,
          228,
          229,
          230,
          231,
          232,
          233,
          234,
          235,
          236,
          237,
          238,
          239,
          240,
          241,
          242,
          243,
          244,
          245,
          245,
          6,
          7,
          8,
          9,
          10,
          11,
          12,
          13,
          14,
          15,
          16,
          17,
          18,
          19,
          20,
          21,
          22,
          23,
          24,
          25,
          26,
          27,
          28,
          29,
          30,
          31,
          32,
          33,
          34,
          35,
          36,
          37,
          38,
          39,
          40,
          41,
          42,
          43,
          44,
          45,
          46,
          47,
          48,
          49,
          50,
          51,
          52,
          53,
          54,
          55,
          56,
          57,
          58,
          59,
          60,
          61,
          62,
          63,
          64,
          65,
          66,
          67,
          68,
          69,
          70,
          71,
          72,
          73,
          74,
          75,
          76,
          77,
          78,
          79,
          80,
          81,
          82,
          83,
          84,
          85,
          86,
          87,
          88,
          89,
          90,
          91,
          92,
          93,
          94,
          95,
          96,
          97,
          98,
          99,
          100,
          101,
          102,
          103,
          104,
          105,
          106,
          107,
          108,
          109,
          110,
          111,
          112,
          113,
          114,
          115,
          116,
          117,
          118,
          119,
          120,
          121,
          122,
          123,
          124,
          125,
          126,
          127,
          128,
          129,
          130,
          131,
          132,
          133,
          134,
          135,
          136,
          137,
          138,
          139,
          140,
          141,
          142,
          143,
          144,
          145,
          146,
          147,
          148,
          149,
          150,
          151,
          152,
          153,
          154,
          155,
          156,
          157,
          158,
          159,
          160,
          161,
          162,
          163,
          164,
          165,
          166,
          167,
          168,
          169,
          170,
          171,
          172,
          173,
          174,
          175,
          176,
          177,
          178,
          179,
          180,
          181,
          182,
          183,
          184,
          185,
          186,
          187,
          188,
          189,
          190,
          191,
          192,
          193,
          194,
          195,
          196,
          197,
          198,
          199,
          200,
          201,
          202,
          203,
          204,
          205,
          206,
          207,
          208,
          209,
          210,
          211,
          212,
          213,
          214,
          215,
          216,
          217,
          218,
          219,
          220,
          221,
          222,
          223,
          224,
          225,
          226,
          227,
          228,
          229,
          230,
          231,
          232,
          233,
          234,
          235,
          236,
          237,
          238,
          239,
          240,
          241,
          242,
          243,
          244,
          245,
          245
         ],
         "xaxis": "x3",
         "y": [
          0,
          0,
          0,
          0,
          0,
          0.03202777279076274,
          0,
          0,
          0,
          0,
          0,
          0,
          -0.0709585799681336,
          0,
          -0.008564879706375872,
          0,
          0,
          0,
          0,
          0,
          -0.04921957879308181,
          0,
          0,
          0.0066930832396994155,
          0,
          -0.09227931873844397,
          0,
          0,
          0,
          -0.07665304779501558,
          0,
          0,
          0.018795225159924378,
          0,
          0,
          0,
          0,
          0,
          0,
          -0.06981014415585518,
          0,
          0,
          -0.009042153286961563,
          0,
          0,
          0,
          0,
          0,
          -0.028191978348964697,
          0,
          0,
          0,
          0,
          0,
          0,
          -0.08961835602354173,
          0,
          0,
          0,
          0,
          0,
          0,
          0.030528552001666487,
          0,
          0,
          0.02181675812649453,
          0,
          0,
          0,
          0.05776643397009962,
          0,
          0,
          -0.023923761048269765,
          0,
          0.05476494306520796,
          0,
          0,
          -0.05656759027257552,
          0,
          0,
          0,
          0,
          0,
          -0.02642445231751056,
          0,
          0,
          0,
          0,
          0,
          0,
          0,
          0.06952224952172292,
          0,
          0,
          0,
          0,
          -0.04479736647917176,
          0,
          0,
          0,
          0,
          0.03958602102753184,
          0,
          -0.0224752303287038,
          0,
          0,
          0,
          -0.05855274482458206,
          0,
          -0.07135338369260247,
          0,
          0,
          0,
          0,
          0,
          0,
          0,
          0,
          0.09871318753684499,
          0,
          0,
          0.023499372740565017,
          0,
          -0.0183595241702178,
          0,
          0,
          0.14482561031133434,
          0,
          0,
          0,
          0,
          0,
          0,
          0.049721784331945074,
          0,
          0,
          0,
          0,
          0.012032285324490744,
          0,
          0,
          0.024594505147382595,
          0,
          0,
          -0.03347398132788415,
          0,
          -0.034271580481281316,
          0,
          0,
          0,
          0,
          0,
          0,
          0,
          0,
          0.020714175052185535,
          0,
          0,
          0,
          0,
          0,
          0,
          0,
          0,
          0.04527849499932124,
          0,
          0,
          0,
          0,
          0,
          0,
          0,
          0,
          0,
          0,
          0,
          0,
          0,
          0,
          0,
          -0.005090049192725488,
          0,
          0,
          0,
          0,
          0,
          0.044500971513826704,
          0,
          0,
          0,
          -0.029620643131773705,
          0,
          0,
          0,
          0,
          -0.024213045919717735,
          0,
          0,
          0,
          0,
          -0.019896532502890696,
          0,
          -0.010628421761574192,
          0,
          0,
          0,
          0.033033294067559726,
          0,
          0,
          0,
          0,
          0,
          0,
          0,
          0,
          0,
          0,
          0,
          0,
          0.0942546806360447,
          0,
          0,
          0,
          0,
          0,
          0.048144897716418944,
          0,
          0,
          0,
          -0.017416852171072028,
          0,
          0,
          0,
          0,
          0,
          0,
          0,
          0.038084042586724154,
          0,
          0,
          0,
          0,
          -0.01703344391629269,
          0,
          0,
          0,
          0,
          0,
          0,
          0,
          0.037116470587685635,
          0,
          0,
          -0.0709585799681336,
          0,
          0,
          0.042748859070890655,
          0,
          0,
          0,
          0,
          -0.026506604724830796,
          0,
          0,
          0,
          0,
          0,
          -0.0913569057421163,
          0,
          -0.02417902646697212,
          0,
          0,
          0,
          0.0012464233946174463,
          0,
          0,
          0,
          -0.09472591690384424,
          0,
          0,
          0,
          0,
          0,
          0,
          0,
          0,
          0,
          -0.034999078281681584,
          0,
          0,
          -0.0066284678551916665,
          0,
          0,
          0,
          0,
          0,
          0,
          0,
          0,
          0,
          0,
          0.0422127846158078,
          0,
          0,
          0,
          0,
          0.02181675812649453,
          0,
          0,
          0,
          0,
          0,
          0,
          -0.029774345549053893,
          0,
          0,
          0,
          0.02104758605560053,
          0,
          0,
          0.0366349503608796,
          0,
          0,
          -0.02362686750909404,
          0,
          0,
          0,
          0.023027383167631532,
          0,
          0,
          0,
          -0.025516405945139597,
          0,
          0,
          0,
          0,
          0,
          0,
          0,
          0,
          0,
          0.09018527903724416,
          0,
          0,
          0,
          -0.04756145325960481,
          0,
          0.02586258022305654,
          0,
          0,
          0,
          0,
          -0.005753161744927127,
          0,
          0,
          0,
          0,
          0,
          0,
          0,
          0.10298468354030188,
          0,
          0,
          0,
          0,
          0,
          0,
          0.0759011212744396,
          0,
          0,
          0,
          0,
          0,
          0,
          0,
          0.036575499693800584,
          0,
          0,
          0,
          0.0529185915144339,
          0,
          0,
          0,
          0,
          0,
          -0.016245443018451766,
          0,
          0,
          0,
          0.14293994932471654,
          0,
          0,
          0,
          0,
          0,
          0,
          0,
          0,
          0,
          0,
          0,
          0,
          0,
          0,
          0.08635797055972705,
          0,
          0,
          0,
          0,
          0,
          0,
          0,
          -0.004560567404344185,
          0,
          0,
          0,
          0,
          -0.014997660927324019,
          0,
          0.005803265529031876,
          0,
          0,
          0,
          0,
          0,
          0.019135503532779152,
          0,
          0,
          0,
          0.0005533459752355974,
          0,
          -0.029620643131773705,
          0,
          0,
          0,
          0,
          0,
          0,
          0,
          0,
          0,
          0.007564339996683822,
          0,
          0,
          0,
          0,
          0,
          0,
          0,
          0,
          0,
          0,
          -0.005625005264102145,
          0,
          0,
          0,
          0,
          0,
          0,
          0,
          0,
          0,
          0,
          0,
          0,
          0,
          0,
          0.08922070332908483,
          0,
          0,
          0,
          0.007800024518713089,
          0,
          0,
          -0.007889280961778322,
          0,
          0,
          0,
          0,
          0,
          0,
          0.006210441051756055
         ],
         "yaxis": "y3"
        }
       ],
       "layout": {
        "annotations": [
         {
          "font": {
           "size": 16
          },
          "showarrow": false,
          "text": "Play",
          "x": 0.5,
          "xanchor": "center",
          "xref": "paper",
          "y": 1,
          "yanchor": "bottom",
          "yref": "paper"
         },
         {
          "font": {
           "size": 16
          },
          "showarrow": false,
          "text": "Quantity",
          "x": 0.5,
          "xanchor": "center",
          "xref": "paper",
          "y": 0.3666666666666667,
          "yanchor": "bottom",
          "yref": "paper"
         },
         {
          "font": {
           "size": 16
          },
          "showarrow": false,
          "text": "Reward",
          "x": 0.5,
          "xanchor": "center",
          "xref": "paper",
          "y": 0.1,
          "yanchor": "bottom",
          "yref": "paper"
         }
        ],
        "hovermode": "x",
        "plot_bgcolor": "white",
        "shapes": [
         {
          "line": {
           "color": "green",
           "dash": "dot",
           "width": 2
          },
          "type": "line",
          "x0": 7,
          "x1": 7,
          "y0": 112.21060943603516,
          "y1": 459.7699890136719
         },
         {
          "line": {
           "color": "green",
           "dash": "dot",
           "width": 2
          },
          "type": "line",
          "x0": 9,
          "x1": 9,
          "y0": 112.21060943603516,
          "y1": 459.7699890136719
         },
         {
          "line": {
           "color": "green",
           "dash": "dot",
           "width": 2
          },
          "type": "line",
          "x0": 10,
          "x1": 10,
          "y0": 112.21060943603516,
          "y1": 459.7699890136719
         },
         {
          "line": {
           "color": "green",
           "dash": "dot",
           "width": 2
          },
          "type": "line",
          "x0": 16,
          "x1": 16,
          "y0": 112.21060943603516,
          "y1": 459.7699890136719
         },
         {
          "line": {
           "color": "green",
           "dash": "dot",
           "width": 2
          },
          "type": "line",
          "x0": 17,
          "x1": 17,
          "y0": 112.21060943603516,
          "y1": 459.7699890136719
         },
         {
          "line": {
           "color": "green",
           "dash": "dot",
           "width": 2
          },
          "type": "line",
          "x0": 19,
          "x1": 19,
          "y0": 112.21060943603516,
          "y1": 459.7699890136719
         },
         {
          "line": {
           "color": "green",
           "dash": "dot",
           "width": 2
          },
          "type": "line",
          "x0": 25,
          "x1": 25,
          "y0": 112.21060943603516,
          "y1": 459.7699890136719
         },
         {
          "line": {
           "color": "green",
           "dash": "dot",
           "width": 2
          },
          "type": "line",
          "x0": 27,
          "x1": 27,
          "y0": 112.21060943603516,
          "y1": 459.7699890136719
         },
         {
          "line": {
           "color": "green",
           "dash": "dot",
           "width": 2
          },
          "type": "line",
          "x0": 28,
          "x1": 28,
          "y0": 112.21060943603516,
          "y1": 459.7699890136719
         },
         {
          "line": {
           "color": "green",
           "dash": "dot",
           "width": 2
          },
          "type": "line",
          "x0": 30,
          "x1": 30,
          "y0": 112.21060943603516,
          "y1": 459.7699890136719
         },
         {
          "line": {
           "color": "green",
           "dash": "dot",
           "width": 2
          },
          "type": "line",
          "x0": 34,
          "x1": 34,
          "y0": 112.21060943603516,
          "y1": 459.7699890136719
         },
         {
          "line": {
           "color": "green",
           "dash": "dot",
           "width": 2
          },
          "type": "line",
          "x0": 37,
          "x1": 37,
          "y0": 112.21060943603516,
          "y1": 459.7699890136719
         },
         {
          "line": {
           "color": "green",
           "dash": "dot",
           "width": 2
          },
          "type": "line",
          "x0": 39,
          "x1": 39,
          "y0": 112.21060943603516,
          "y1": 459.7699890136719
         },
         {
          "line": {
           "color": "green",
           "dash": "dot",
           "width": 2
          },
          "type": "line",
          "x0": 40,
          "x1": 40,
          "y0": 112.21060943603516,
          "y1": 459.7699890136719
         },
         {
          "line": {
           "color": "green",
           "dash": "dot",
           "width": 2
          },
          "type": "line",
          "x0": 46,
          "x1": 46,
          "y0": 112.21060943603516,
          "y1": 459.7699890136719
         },
         {
          "line": {
           "color": "green",
           "dash": "dot",
           "width": 2
          },
          "type": "line",
          "x0": 52,
          "x1": 52,
          "y0": 112.21060943603516,
          "y1": 459.7699890136719
         },
         {
          "line": {
           "color": "green",
           "dash": "dot",
           "width": 2
          },
          "type": "line",
          "x0": 53,
          "x1": 53,
          "y0": 112.21060943603516,
          "y1": 459.7699890136719
         },
         {
          "line": {
           "color": "green",
           "dash": "dot",
           "width": 2
          },
          "type": "line",
          "x0": 56,
          "x1": 56,
          "y0": 112.21060943603516,
          "y1": 459.7699890136719
         },
         {
          "line": {
           "color": "green",
           "dash": "dot",
           "width": 2
          },
          "type": "line",
          "x0": 57,
          "x1": 57,
          "y0": 112.21060943603516,
          "y1": 459.7699890136719
         },
         {
          "line": {
           "color": "green",
           "dash": "dot",
           "width": 2
          },
          "type": "line",
          "x0": 58,
          "x1": 58,
          "y0": 112.21060943603516,
          "y1": 459.7699890136719
         },
         {
          "line": {
           "color": "green",
           "dash": "dot",
           "width": 2
          },
          "type": "line",
          "x0": 59,
          "x1": 59,
          "y0": 112.21060943603516,
          "y1": 459.7699890136719
         },
         {
          "line": {
           "color": "green",
           "dash": "dot",
           "width": 2
          },
          "type": "line",
          "x0": 60,
          "x1": 60,
          "y0": 112.21060943603516,
          "y1": 459.7699890136719
         },
         {
          "line": {
           "color": "green",
           "dash": "dot",
           "width": 2
          },
          "type": "line",
          "x0": 65,
          "x1": 65,
          "y0": 112.21060943603516,
          "y1": 459.7699890136719
         },
         {
          "line": {
           "color": "green",
           "dash": "dot",
           "width": 2
          },
          "type": "line",
          "x0": 66,
          "x1": 66,
          "y0": 112.21060943603516,
          "y1": 459.7699890136719
         },
         {
          "line": {
           "color": "green",
           "dash": "dot",
           "width": 2
          },
          "type": "line",
          "x0": 67,
          "x1": 67,
          "y0": 112.21060943603516,
          "y1": 459.7699890136719
         },
         {
          "line": {
           "color": "green",
           "dash": "dot",
           "width": 2
          },
          "type": "line",
          "x0": 69,
          "x1": 69,
          "y0": 112.21060943603516,
          "y1": 459.7699890136719
         },
         {
          "line": {
           "color": "green",
           "dash": "dot",
           "width": 2
          },
          "type": "line",
          "x0": 70,
          "x1": 70,
          "y0": 112.21060943603516,
          "y1": 459.7699890136719
         },
         {
          "line": {
           "color": "green",
           "dash": "dot",
           "width": 2
          },
          "type": "line",
          "x0": 72,
          "x1": 72,
          "y0": 112.21060943603516,
          "y1": 459.7699890136719
         },
         {
          "line": {
           "color": "green",
           "dash": "dot",
           "width": 2
          },
          "type": "line",
          "x0": 73,
          "x1": 73,
          "y0": 112.21060943603516,
          "y1": 459.7699890136719
         },
         {
          "line": {
           "color": "green",
           "dash": "dot",
           "width": 2
          },
          "type": "line",
          "x0": 77,
          "x1": 77,
          "y0": 112.21060943603516,
          "y1": 459.7699890136719
         },
         {
          "line": {
           "color": "green",
           "dash": "dot",
           "width": 2
          },
          "type": "line",
          "x0": 79,
          "x1": 79,
          "y0": 112.21060943603516,
          "y1": 459.7699890136719
         },
         {
          "line": {
           "color": "green",
           "dash": "dot",
           "width": 2
          },
          "type": "line",
          "x0": 82,
          "x1": 82,
          "y0": 112.21060943603516,
          "y1": 459.7699890136719
         },
         {
          "line": {
           "color": "green",
           "dash": "dot",
           "width": 2
          },
          "type": "line",
          "x0": 86,
          "x1": 86,
          "y0": 112.21060943603516,
          "y1": 459.7699890136719
         },
         {
          "line": {
           "color": "green",
           "dash": "dot",
           "width": 2
          },
          "type": "line",
          "x0": 88,
          "x1": 88,
          "y0": 112.21060943603516,
          "y1": 459.7699890136719
         },
         {
          "line": {
           "color": "green",
           "dash": "dot",
           "width": 2
          },
          "type": "line",
          "x0": 95,
          "x1": 95,
          "y0": 112.21060943603516,
          "y1": 459.7699890136719
         },
         {
          "line": {
           "color": "green",
           "dash": "dot",
           "width": 2
          },
          "type": "line",
          "x0": 99,
          "x1": 99,
          "y0": 112.21060943603516,
          "y1": 459.7699890136719
         },
         {
          "line": {
           "color": "green",
           "dash": "dot",
           "width": 2
          },
          "type": "line",
          "x0": 104,
          "x1": 104,
          "y0": 112.21060943603516,
          "y1": 459.7699890136719
         },
         {
          "line": {
           "color": "green",
           "dash": "dot",
           "width": 2
          },
          "type": "line",
          "x0": 108,
          "x1": 108,
          "y0": 112.21060943603516,
          "y1": 459.7699890136719
         },
         {
          "line": {
           "color": "green",
           "dash": "dot",
           "width": 2
          },
          "type": "line",
          "x0": 111,
          "x1": 111,
          "y0": 112.21060943603516,
          "y1": 459.7699890136719
         },
         {
          "line": {
           "color": "green",
           "dash": "dot",
           "width": 2
          },
          "type": "line",
          "x0": 112,
          "x1": 112,
          "y0": 112.21060943603516,
          "y1": 459.7699890136719
         },
         {
          "line": {
           "color": "green",
           "dash": "dot",
           "width": 2
          },
          "type": "line",
          "x0": 114,
          "x1": 114,
          "y0": 112.21060943603516,
          "y1": 459.7699890136719
         },
         {
          "line": {
           "color": "green",
           "dash": "dot",
           "width": 2
          },
          "type": "line",
          "x0": 119,
          "x1": 119,
          "y0": 112.21060943603516,
          "y1": 459.7699890136719
         },
         {
          "line": {
           "color": "green",
           "dash": "dot",
           "width": 2
          },
          "type": "line",
          "x0": 121,
          "x1": 121,
          "y0": 112.21060943603516,
          "y1": 459.7699890136719
         },
         {
          "line": {
           "color": "green",
           "dash": "dot",
           "width": 2
          },
          "type": "line",
          "x0": 122,
          "x1": 122,
          "y0": 112.21060943603516,
          "y1": 459.7699890136719
         },
         {
          "line": {
           "color": "green",
           "dash": "dot",
           "width": 2
          },
          "type": "line",
          "x0": 126,
          "x1": 126,
          "y0": 112.21060943603516,
          "y1": 459.7699890136719
         },
         {
          "line": {
           "color": "green",
           "dash": "dot",
           "width": 2
          },
          "type": "line",
          "x0": 128,
          "x1": 128,
          "y0": 112.21060943603516,
          "y1": 459.7699890136719
         },
         {
          "line": {
           "color": "green",
           "dash": "dot",
           "width": 2
          },
          "type": "line",
          "x0": 130,
          "x1": 130,
          "y0": 112.21060943603516,
          "y1": 459.7699890136719
         },
         {
          "line": {
           "color": "green",
           "dash": "dot",
           "width": 2
          },
          "type": "line",
          "x0": 136,
          "x1": 136,
          "y0": 112.21060943603516,
          "y1": 459.7699890136719
         },
         {
          "line": {
           "color": "green",
           "dash": "dot",
           "width": 2
          },
          "type": "line",
          "x0": 138,
          "x1": 138,
          "y0": 112.21060943603516,
          "y1": 459.7699890136719
         },
         {
          "line": {
           "color": "green",
           "dash": "dot",
           "width": 2
          },
          "type": "line",
          "x0": 140,
          "x1": 140,
          "y0": 112.21060943603516,
          "y1": 459.7699890136719
         },
         {
          "line": {
           "color": "green",
           "dash": "dot",
           "width": 2
          },
          "type": "line",
          "x0": 143,
          "x1": 143,
          "y0": 112.21060943603516,
          "y1": 459.7699890136719
         },
         {
          "line": {
           "color": "green",
           "dash": "dot",
           "width": 2
          },
          "type": "line",
          "x0": 146,
          "x1": 146,
          "y0": 112.21060943603516,
          "y1": 459.7699890136719
         },
         {
          "line": {
           "color": "green",
           "dash": "dot",
           "width": 2
          },
          "type": "line",
          "x0": 149,
          "x1": 149,
          "y0": 112.21060943603516,
          "y1": 459.7699890136719
         },
         {
          "line": {
           "color": "green",
           "dash": "dot",
           "width": 2
          },
          "type": "line",
          "x0": 151,
          "x1": 151,
          "y0": 112.21060943603516,
          "y1": 459.7699890136719
         },
         {
          "line": {
           "color": "green",
           "dash": "dot",
           "width": 2
          },
          "type": "line",
          "x0": 157,
          "x1": 157,
          "y0": 112.21060943603516,
          "y1": 459.7699890136719
         },
         {
          "line": {
           "color": "green",
           "dash": "dot",
           "width": 2
          },
          "type": "line",
          "x0": 158,
          "x1": 158,
          "y0": 112.21060943603516,
          "y1": 459.7699890136719
         },
         {
          "line": {
           "color": "green",
           "dash": "dot",
           "width": 2
          },
          "type": "line",
          "x0": 159,
          "x1": 159,
          "y0": 112.21060943603516,
          "y1": 459.7699890136719
         },
         {
          "line": {
           "color": "green",
           "dash": "dot",
           "width": 2
          },
          "type": "line",
          "x0": 167,
          "x1": 167,
          "y0": 112.21060943603516,
          "y1": 459.7699890136719
         },
         {
          "line": {
           "color": "green",
           "dash": "dot",
           "width": 2
          },
          "type": "line",
          "x0": 168,
          "x1": 168,
          "y0": 112.21060943603516,
          "y1": 459.7699890136719
         },
         {
          "line": {
           "color": "green",
           "dash": "dot",
           "width": 2
          },
          "type": "line",
          "x0": 169,
          "x1": 169,
          "y0": 112.21060943603516,
          "y1": 459.7699890136719
         },
         {
          "line": {
           "color": "green",
           "dash": "dot",
           "width": 2
          },
          "type": "line",
          "x0": 184,
          "x1": 184,
          "y0": 112.21060943603516,
          "y1": 459.7699890136719
         },
         {
          "line": {
           "color": "green",
           "dash": "dot",
           "width": 2
          },
          "type": "line",
          "x0": 185,
          "x1": 185,
          "y0": 112.21060943603516,
          "y1": 459.7699890136719
         },
         {
          "line": {
           "color": "green",
           "dash": "dot",
           "width": 2
          },
          "type": "line",
          "x0": 188,
          "x1": 188,
          "y0": 112.21060943603516,
          "y1": 459.7699890136719
         },
         {
          "line": {
           "color": "green",
           "dash": "dot",
           "width": 2
          },
          "type": "line",
          "x0": 189,
          "x1": 189,
          "y0": 112.21060943603516,
          "y1": 459.7699890136719
         },
         {
          "line": {
           "color": "green",
           "dash": "dot",
           "width": 2
          },
          "type": "line",
          "x0": 190,
          "x1": 190,
          "y0": 112.21060943603516,
          "y1": 459.7699890136719
         },
         {
          "line": {
           "color": "green",
           "dash": "dot",
           "width": 2
          },
          "type": "line",
          "x0": 195,
          "x1": 195,
          "y0": 112.21060943603516,
          "y1": 459.7699890136719
         },
         {
          "line": {
           "color": "green",
           "dash": "dot",
           "width": 2
          },
          "type": "line",
          "x0": 200,
          "x1": 200,
          "y0": 112.21060943603516,
          "y1": 459.7699890136719
         },
         {
          "line": {
           "color": "green",
           "dash": "dot",
           "width": 2
          },
          "type": "line",
          "x0": 205,
          "x1": 205,
          "y0": 112.21060943603516,
          "y1": 459.7699890136719
         },
         {
          "line": {
           "color": "green",
           "dash": "dot",
           "width": 2
          },
          "type": "line",
          "x0": 207,
          "x1": 207,
          "y0": 112.21060943603516,
          "y1": 459.7699890136719
         },
         {
          "line": {
           "color": "green",
           "dash": "dot",
           "width": 2
          },
          "type": "line",
          "x0": 211,
          "x1": 211,
          "y0": 112.21060943603516,
          "y1": 459.7699890136719
         },
         {
          "line": {
           "color": "green",
           "dash": "dot",
           "width": 2
          },
          "type": "line",
          "x0": 217,
          "x1": 217,
          "y0": 112.21060943603516,
          "y1": 459.7699890136719
         },
         {
          "line": {
           "color": "green",
           "dash": "dot",
           "width": 2
          },
          "type": "line",
          "x0": 220,
          "x1": 220,
          "y0": 112.21060943603516,
          "y1": 459.7699890136719
         },
         {
          "line": {
           "color": "green",
           "dash": "dot",
           "width": 2
          },
          "type": "line",
          "x0": 230,
          "x1": 230,
          "y0": 112.21060943603516,
          "y1": 459.7699890136719
         },
         {
          "line": {
           "color": "green",
           "dash": "dot",
           "width": 2
          },
          "type": "line",
          "x0": 234,
          "x1": 234,
          "y0": 112.21060943603516,
          "y1": 459.7699890136719
         },
         {
          "line": {
           "color": "green",
           "dash": "dot",
           "width": 2
          },
          "type": "line",
          "x0": 238,
          "x1": 238,
          "y0": 112.21060943603516,
          "y1": 459.7699890136719
         },
         {
          "line": {
           "color": "green",
           "dash": "dot",
           "width": 2
          },
          "type": "line",
          "x0": 240,
          "x1": 240,
          "y0": 112.21060943603516,
          "y1": 459.7699890136719
         },
         {
          "line": {
           "color": "green",
           "dash": "dot",
           "width": 2
          },
          "type": "line",
          "x0": 241,
          "x1": 241,
          "y0": 112.21060943603516,
          "y1": 459.7699890136719
         },
         {
          "line": {
           "color": "green",
           "dash": "dot",
           "width": 2
          },
          "type": "line",
          "x0": 6,
          "x1": 6,
          "y0": 112.21060943603516,
          "y1": 459.7699890136719
         },
         {
          "line": {
           "color": "green",
           "dash": "dot",
           "width": 2
          },
          "type": "line",
          "x0": 11,
          "x1": 11,
          "y0": 112.21060943603516,
          "y1": 459.7699890136719
         },
         {
          "line": {
           "color": "green",
           "dash": "dot",
           "width": 2
          },
          "type": "line",
          "x0": 13,
          "x1": 13,
          "y0": 112.21060943603516,
          "y1": 459.7699890136719
         },
         {
          "line": {
           "color": "green",
           "dash": "dot",
           "width": 2
          },
          "type": "line",
          "x0": 14,
          "x1": 14,
          "y0": 112.21060943603516,
          "y1": 459.7699890136719
         },
         {
          "line": {
           "color": "green",
           "dash": "dot",
           "width": 2
          },
          "type": "line",
          "x0": 16,
          "x1": 16,
          "y0": 112.21060943603516,
          "y1": 459.7699890136719
         },
         {
          "line": {
           "color": "green",
           "dash": "dot",
           "width": 2
          },
          "type": "line",
          "x0": 17,
          "x1": 17,
          "y0": 112.21060943603516,
          "y1": 459.7699890136719
         },
         {
          "line": {
           "color": "green",
           "dash": "dot",
           "width": 2
          },
          "type": "line",
          "x0": 20,
          "x1": 20,
          "y0": 112.21060943603516,
          "y1": 459.7699890136719
         },
         {
          "line": {
           "color": "green",
           "dash": "dot",
           "width": 2
          },
          "type": "line",
          "x0": 24,
          "x1": 24,
          "y0": 112.21060943603516,
          "y1": 459.7699890136719
         },
         {
          "line": {
           "color": "green",
           "dash": "dot",
           "width": 2
          },
          "type": "line",
          "x0": 27,
          "x1": 27,
          "y0": 112.21060943603516,
          "y1": 459.7699890136719
         },
         {
          "line": {
           "color": "green",
           "dash": "dot",
           "width": 2
          },
          "type": "line",
          "x0": 29,
          "x1": 29,
          "y0": 112.21060943603516,
          "y1": 459.7699890136719
         },
         {
          "line": {
           "color": "green",
           "dash": "dot",
           "width": 2
          },
          "type": "line",
          "x0": 30,
          "x1": 30,
          "y0": 112.21060943603516,
          "y1": 459.7699890136719
         },
         {
          "line": {
           "color": "green",
           "dash": "dot",
           "width": 2
          },
          "type": "line",
          "x0": 33,
          "x1": 33,
          "y0": 112.21060943603516,
          "y1": 459.7699890136719
         },
         {
          "line": {
           "color": "green",
           "dash": "dot",
           "width": 2
          },
          "type": "line",
          "x0": 35,
          "x1": 35,
          "y0": 112.21060943603516,
          "y1": 459.7699890136719
         },
         {
          "line": {
           "color": "green",
           "dash": "dot",
           "width": 2
          },
          "type": "line",
          "x0": 37,
          "x1": 37,
          "y0": 112.21060943603516,
          "y1": 459.7699890136719
         },
         {
          "line": {
           "color": "green",
           "dash": "dot",
           "width": 2
          },
          "type": "line",
          "x0": 41,
          "x1": 41,
          "y0": 112.21060943603516,
          "y1": 459.7699890136719
         },
         {
          "line": {
           "color": "green",
           "dash": "dot",
           "width": 2
          },
          "type": "line",
          "x0": 44,
          "x1": 44,
          "y0": 112.21060943603516,
          "y1": 459.7699890136719
         },
         {
          "line": {
           "color": "green",
           "dash": "dot",
           "width": 2
          },
          "type": "line",
          "x0": 46,
          "x1": 46,
          "y0": 112.21060943603516,
          "y1": 459.7699890136719
         },
         {
          "line": {
           "color": "green",
           "dash": "dot",
           "width": 2
          },
          "type": "line",
          "x0": 48,
          "x1": 48,
          "y0": 112.21060943603516,
          "y1": 459.7699890136719
         },
         {
          "line": {
           "color": "green",
           "dash": "dot",
           "width": 2
          },
          "type": "line",
          "x0": 50,
          "x1": 50,
          "y0": 112.21060943603516,
          "y1": 459.7699890136719
         },
         {
          "line": {
           "color": "green",
           "dash": "dot",
           "width": 2
          },
          "type": "line",
          "x0": 51,
          "x1": 51,
          "y0": 112.21060943603516,
          "y1": 459.7699890136719
         },
         {
          "line": {
           "color": "green",
           "dash": "dot",
           "width": 2
          },
          "type": "line",
          "x0": 54,
          "x1": 54,
          "y0": 112.21060943603516,
          "y1": 459.7699890136719
         },
         {
          "line": {
           "color": "green",
           "dash": "dot",
           "width": 2
          },
          "type": "line",
          "x0": 62,
          "x1": 62,
          "y0": 112.21060943603516,
          "y1": 459.7699890136719
         },
         {
          "line": {
           "color": "green",
           "dash": "dot",
           "width": 2
          },
          "type": "line",
          "x0": 65,
          "x1": 65,
          "y0": 112.21060943603516,
          "y1": 459.7699890136719
         },
         {
          "line": {
           "color": "green",
           "dash": "dot",
           "width": 2
          },
          "type": "line",
          "x0": 69,
          "x1": 69,
          "y0": 112.21060943603516,
          "y1": 459.7699890136719
         },
         {
          "line": {
           "color": "green",
           "dash": "dot",
           "width": 2
          },
          "type": "line",
          "x0": 70,
          "x1": 70,
          "y0": 112.21060943603516,
          "y1": 459.7699890136719
         },
         {
          "line": {
           "color": "green",
           "dash": "dot",
           "width": 2
          },
          "type": "line",
          "x0": 75,
          "x1": 75,
          "y0": 112.21060943603516,
          "y1": 459.7699890136719
         },
         {
          "line": {
           "color": "green",
           "dash": "dot",
           "width": 2
          },
          "type": "line",
          "x0": 76,
          "x1": 76,
          "y0": 112.21060943603516,
          "y1": 459.7699890136719
         },
         {
          "line": {
           "color": "green",
           "dash": "dot",
           "width": 2
          },
          "type": "line",
          "x0": 77,
          "x1": 77,
          "y0": 112.21060943603516,
          "y1": 459.7699890136719
         },
         {
          "line": {
           "color": "green",
           "dash": "dot",
           "width": 2
          },
          "type": "line",
          "x0": 81,
          "x1": 81,
          "y0": 112.21060943603516,
          "y1": 459.7699890136719
         },
         {
          "line": {
           "color": "green",
           "dash": "dot",
           "width": 2
          },
          "type": "line",
          "x0": 84,
          "x1": 84,
          "y0": 112.21060943603516,
          "y1": 459.7699890136719
         },
         {
          "line": {
           "color": "green",
           "dash": "dot",
           "width": 2
          },
          "type": "line",
          "x0": 86,
          "x1": 86,
          "y0": 112.21060943603516,
          "y1": 459.7699890136719
         },
         {
          "line": {
           "color": "green",
           "dash": "dot",
           "width": 2
          },
          "type": "line",
          "x0": 89,
          "x1": 89,
          "y0": 112.21060943603516,
          "y1": 459.7699890136719
         },
         {
          "line": {
           "color": "green",
           "dash": "dot",
           "width": 2
          },
          "type": "line",
          "x0": 94,
          "x1": 94,
          "y0": 112.21060943603516,
          "y1": 459.7699890136719
         },
         {
          "line": {
           "color": "green",
           "dash": "dot",
           "width": 2
          },
          "type": "line",
          "x0": 95,
          "x1": 95,
          "y0": 112.21060943603516,
          "y1": 459.7699890136719
         },
         {
          "line": {
           "color": "green",
           "dash": "dot",
           "width": 2
          },
          "type": "line",
          "x0": 100,
          "x1": 100,
          "y0": 112.21060943603516,
          "y1": 459.7699890136719
         },
         {
          "line": {
           "color": "green",
           "dash": "dot",
           "width": 2
          },
          "type": "line",
          "x0": 102,
          "x1": 102,
          "y0": 112.21060943603516,
          "y1": 459.7699890136719
         },
         {
          "line": {
           "color": "green",
           "dash": "dot",
           "width": 2
          },
          "type": "line",
          "x0": 104,
          "x1": 104,
          "y0": 112.21060943603516,
          "y1": 459.7699890136719
         },
         {
          "line": {
           "color": "green",
           "dash": "dot",
           "width": 2
          },
          "type": "line",
          "x0": 107,
          "x1": 107,
          "y0": 112.21060943603516,
          "y1": 459.7699890136719
         },
         {
          "line": {
           "color": "green",
           "dash": "dot",
           "width": 2
          },
          "type": "line",
          "x0": 108,
          "x1": 108,
          "y0": 112.21060943603516,
          "y1": 459.7699890136719
         },
         {
          "line": {
           "color": "green",
           "dash": "dot",
           "width": 2
          },
          "type": "line",
          "x0": 109,
          "x1": 109,
          "y0": 112.21060943603516,
          "y1": 459.7699890136719
         },
         {
          "line": {
           "color": "green",
           "dash": "dot",
           "width": 2
          },
          "type": "line",
          "x0": 111,
          "x1": 111,
          "y0": 112.21060943603516,
          "y1": 459.7699890136719
         },
         {
          "line": {
           "color": "green",
           "dash": "dot",
           "width": 2
          },
          "type": "line",
          "x0": 113,
          "x1": 113,
          "y0": 112.21060943603516,
          "y1": 459.7699890136719
         },
         {
          "line": {
           "color": "green",
           "dash": "dot",
           "width": 2
          },
          "type": "line",
          "x0": 116,
          "x1": 116,
          "y0": 112.21060943603516,
          "y1": 459.7699890136719
         },
         {
          "line": {
           "color": "green",
           "dash": "dot",
           "width": 2
          },
          "type": "line",
          "x0": 120,
          "x1": 120,
          "y0": 112.21060943603516,
          "y1": 459.7699890136719
         },
         {
          "line": {
           "color": "green",
           "dash": "dot",
           "width": 2
          },
          "type": "line",
          "x0": 121,
          "x1": 121,
          "y0": 112.21060943603516,
          "y1": 459.7699890136719
         },
         {
          "line": {
           "color": "green",
           "dash": "dot",
           "width": 2
          },
          "type": "line",
          "x0": 131,
          "x1": 131,
          "y0": 112.21060943603516,
          "y1": 459.7699890136719
         },
         {
          "line": {
           "color": "green",
           "dash": "dot",
           "width": 2
          },
          "type": "line",
          "x0": 139,
          "x1": 139,
          "y0": 112.21060943603516,
          "y1": 459.7699890136719
         },
         {
          "line": {
           "color": "green",
           "dash": "dot",
           "width": 2
          },
          "type": "line",
          "x0": 142,
          "x1": 142,
          "y0": 112.21060943603516,
          "y1": 459.7699890136719
         },
         {
          "line": {
           "color": "green",
           "dash": "dot",
           "width": 2
          },
          "type": "line",
          "x0": 145,
          "x1": 145,
          "y0": 112.21060943603516,
          "y1": 459.7699890136719
         },
         {
          "line": {
           "color": "green",
           "dash": "dot",
           "width": 2
          },
          "type": "line",
          "x0": 147,
          "x1": 147,
          "y0": 112.21060943603516,
          "y1": 459.7699890136719
         },
         {
          "line": {
           "color": "green",
           "dash": "dot",
           "width": 2
          },
          "type": "line",
          "x0": 148,
          "x1": 148,
          "y0": 112.21060943603516,
          "y1": 459.7699890136719
         },
         {
          "line": {
           "color": "green",
           "dash": "dot",
           "width": 2
          },
          "type": "line",
          "x0": 152,
          "x1": 152,
          "y0": 112.21060943603516,
          "y1": 459.7699890136719
         },
         {
          "line": {
           "color": "green",
           "dash": "dot",
           "width": 2
          },
          "type": "line",
          "x0": 153,
          "x1": 153,
          "y0": 112.21060943603516,
          "y1": 459.7699890136719
         },
         {
          "line": {
           "color": "green",
           "dash": "dot",
           "width": 2
          },
          "type": "line",
          "x0": 162,
          "x1": 162,
          "y0": 112.21060943603516,
          "y1": 459.7699890136719
         },
         {
          "line": {
           "color": "green",
           "dash": "dot",
           "width": 2
          },
          "type": "line",
          "x0": 163,
          "x1": 163,
          "y0": 112.21060943603516,
          "y1": 459.7699890136719
         },
         {
          "line": {
           "color": "green",
           "dash": "dot",
           "width": 2
          },
          "type": "line",
          "x0": 164,
          "x1": 164,
          "y0": 112.21060943603516,
          "y1": 459.7699890136719
         },
         {
          "line": {
           "color": "green",
           "dash": "dot",
           "width": 2
          },
          "type": "line",
          "x0": 165,
          "x1": 165,
          "y0": 112.21060943603516,
          "y1": 459.7699890136719
         },
         {
          "line": {
           "color": "green",
           "dash": "dot",
           "width": 2
          },
          "type": "line",
          "x0": 166,
          "x1": 166,
          "y0": 112.21060943603516,
          "y1": 459.7699890136719
         },
         {
          "line": {
           "color": "green",
           "dash": "dot",
           "width": 2
          },
          "type": "line",
          "x0": 168,
          "x1": 168,
          "y0": 112.21060943603516,
          "y1": 459.7699890136719
         },
         {
          "line": {
           "color": "green",
           "dash": "dot",
           "width": 2
          },
          "type": "line",
          "x0": 176,
          "x1": 176,
          "y0": 112.21060943603516,
          "y1": 459.7699890136719
         },
         {
          "line": {
           "color": "green",
           "dash": "dot",
           "width": 2
          },
          "type": "line",
          "x0": 180,
          "x1": 180,
          "y0": 112.21060943603516,
          "y1": 459.7699890136719
         },
         {
          "line": {
           "color": "green",
           "dash": "dot",
           "width": 2
          },
          "type": "line",
          "x0": 181,
          "x1": 181,
          "y0": 112.21060943603516,
          "y1": 459.7699890136719
         },
         {
          "line": {
           "color": "green",
           "dash": "dot",
           "width": 2
          },
          "type": "line",
          "x0": 183,
          "x1": 183,
          "y0": 112.21060943603516,
          "y1": 459.7699890136719
         },
         {
          "line": {
           "color": "green",
           "dash": "dot",
           "width": 2
          },
          "type": "line",
          "x0": 187,
          "x1": 187,
          "y0": 112.21060943603516,
          "y1": 459.7699890136719
         },
         {
          "line": {
           "color": "green",
           "dash": "dot",
           "width": 2
          },
          "type": "line",
          "x0": 193,
          "x1": 193,
          "y0": 112.21060943603516,
          "y1": 459.7699890136719
         },
         {
          "line": {
           "color": "green",
           "dash": "dot",
           "width": 2
          },
          "type": "line",
          "x0": 195,
          "x1": 195,
          "y0": 112.21060943603516,
          "y1": 459.7699890136719
         },
         {
          "line": {
           "color": "green",
           "dash": "dot",
           "width": 2
          },
          "type": "line",
          "x0": 203,
          "x1": 203,
          "y0": 112.21060943603516,
          "y1": 459.7699890136719
         },
         {
          "line": {
           "color": "green",
           "dash": "dot",
           "width": 2
          },
          "type": "line",
          "x0": 205,
          "x1": 205,
          "y0": 112.21060943603516,
          "y1": 459.7699890136719
         },
         {
          "line": {
           "color": "green",
           "dash": "dot",
           "width": 2
          },
          "type": "line",
          "x0": 211,
          "x1": 211,
          "y0": 112.21060943603516,
          "y1": 459.7699890136719
         },
         {
          "line": {
           "color": "green",
           "dash": "dot",
           "width": 2
          },
          "type": "line",
          "x0": 213,
          "x1": 213,
          "y0": 112.21060943603516,
          "y1": 459.7699890136719
         },
         {
          "line": {
           "color": "green",
           "dash": "dot",
           "width": 2
          },
          "type": "line",
          "x0": 214,
          "x1": 214,
          "y0": 112.21060943603516,
          "y1": 459.7699890136719
         },
         {
          "line": {
           "color": "green",
           "dash": "dot",
           "width": 2
          },
          "type": "line",
          "x0": 216,
          "x1": 216,
          "y0": 112.21060943603516,
          "y1": 459.7699890136719
         },
         {
          "line": {
           "color": "green",
           "dash": "dot",
           "width": 2
          },
          "type": "line",
          "x0": 224,
          "x1": 224,
          "y0": 112.21060943603516,
          "y1": 459.7699890136719
         },
         {
          "line": {
           "color": "green",
           "dash": "dot",
           "width": 2
          },
          "type": "line",
          "x0": 225,
          "x1": 225,
          "y0": 112.21060943603516,
          "y1": 459.7699890136719
         },
         {
          "line": {
           "color": "green",
           "dash": "dot",
           "width": 2
          },
          "type": "line",
          "x0": 226,
          "x1": 226,
          "y0": 112.21060943603516,
          "y1": 459.7699890136719
         },
         {
          "line": {
           "color": "green",
           "dash": "dot",
           "width": 2
          },
          "type": "line",
          "x0": 229,
          "x1": 229,
          "y0": 112.21060943603516,
          "y1": 459.7699890136719
         },
         {
          "line": {
           "color": "green",
           "dash": "dot",
           "width": 2
          },
          "type": "line",
          "x0": 230,
          "x1": 230,
          "y0": 112.21060943603516,
          "y1": 459.7699890136719
         },
         {
          "line": {
           "color": "green",
           "dash": "dot",
           "width": 2
          },
          "type": "line",
          "x0": 233,
          "x1": 233,
          "y0": 112.21060943603516,
          "y1": 459.7699890136719
         },
         {
          "line": {
           "color": "green",
           "dash": "dot",
           "width": 2
          },
          "type": "line",
          "x0": 237,
          "x1": 237,
          "y0": 112.21060943603516,
          "y1": 459.7699890136719
         },
         {
          "line": {
           "color": "green",
           "dash": "dot",
           "width": 2
          },
          "type": "line",
          "x0": 242,
          "x1": 242,
          "y0": 112.21060943603516,
          "y1": 459.7699890136719
         },
         {
          "line": {
           "color": "green",
           "dash": "dot",
           "width": 2
          },
          "type": "line",
          "x0": 244,
          "x1": 244,
          "y0": 112.21060943603516,
          "y1": 459.7699890136719
         },
         {
          "line": {
           "color": "green",
           "dash": "dot",
           "width": 2
          },
          "type": "line",
          "x0": 245,
          "x1": 245,
          "y0": 112.21060943603516,
          "y1": 459.7699890136719
         },
         {
          "line": {
           "color": "orange",
           "dash": "dot",
           "width": 2
          },
          "type": "line",
          "x0": 11,
          "x1": 11,
          "y0": 112.21060943603516,
          "y1": 459.7699890136719
         },
         {
          "line": {
           "color": "orange",
           "dash": "dot",
           "width": 2
          },
          "type": "line",
          "x0": 18,
          "x1": 18,
          "y0": 112.21060943603516,
          "y1": 459.7699890136719
         },
         {
          "line": {
           "color": "orange",
           "dash": "dot",
           "width": 2
          },
          "type": "line",
          "x0": 20,
          "x1": 20,
          "y0": 112.21060943603516,
          "y1": 459.7699890136719
         },
         {
          "line": {
           "color": "orange",
           "dash": "dot",
           "width": 2
          },
          "type": "line",
          "x0": 26,
          "x1": 26,
          "y0": 112.21060943603516,
          "y1": 459.7699890136719
         },
         {
          "line": {
           "color": "orange",
           "dash": "dot",
           "width": 2
          },
          "type": "line",
          "x0": 29,
          "x1": 29,
          "y0": 112.21060943603516,
          "y1": 459.7699890136719
         },
         {
          "line": {
           "color": "orange",
           "dash": "dot",
           "width": 2
          },
          "type": "line",
          "x0": 31,
          "x1": 31,
          "y0": 112.21060943603516,
          "y1": 459.7699890136719
         },
         {
          "line": {
           "color": "orange",
           "dash": "dot",
           "width": 2
          },
          "type": "line",
          "x0": 35,
          "x1": 35,
          "y0": 112.21060943603516,
          "y1": 459.7699890136719
         },
         {
          "line": {
           "color": "orange",
           "dash": "dot",
           "width": 2
          },
          "type": "line",
          "x0": 38,
          "x1": 38,
          "y0": 112.21060943603516,
          "y1": 459.7699890136719
         },
         {
          "line": {
           "color": "orange",
           "dash": "dot",
           "width": 2
          },
          "type": "line",
          "x0": 45,
          "x1": 45,
          "y0": 112.21060943603516,
          "y1": 459.7699890136719
         },
         {
          "line": {
           "color": "orange",
           "dash": "dot",
           "width": 2
          },
          "type": "line",
          "x0": 48,
          "x1": 48,
          "y0": 112.21060943603516,
          "y1": 459.7699890136719
         },
         {
          "line": {
           "color": "orange",
           "dash": "dot",
           "width": 2
          },
          "type": "line",
          "x0": 54,
          "x1": 54,
          "y0": 112.21060943603516,
          "y1": 459.7699890136719
         },
         {
          "line": {
           "color": "orange",
           "dash": "dot",
           "width": 2
          },
          "type": "line",
          "x0": 61,
          "x1": 61,
          "y0": 112.21060943603516,
          "y1": 459.7699890136719
         },
         {
          "line": {
           "color": "orange",
           "dash": "dot",
           "width": 2
          },
          "type": "line",
          "x0": 68,
          "x1": 68,
          "y0": 112.21060943603516,
          "y1": 459.7699890136719
         },
         {
          "line": {
           "color": "orange",
           "dash": "dot",
           "width": 2
          },
          "type": "line",
          "x0": 71,
          "x1": 71,
          "y0": 112.21060943603516,
          "y1": 459.7699890136719
         },
         {
          "line": {
           "color": "orange",
           "dash": "dot",
           "width": 2
          },
          "type": "line",
          "x0": 75,
          "x1": 75,
          "y0": 112.21060943603516,
          "y1": 459.7699890136719
         },
         {
          "line": {
           "color": "orange",
           "dash": "dot",
           "width": 2
          },
          "type": "line",
          "x0": 78,
          "x1": 78,
          "y0": 112.21060943603516,
          "y1": 459.7699890136719
         },
         {
          "line": {
           "color": "orange",
           "dash": "dot",
           "width": 2
          },
          "type": "line",
          "x0": 80,
          "x1": 80,
          "y0": 112.21060943603516,
          "y1": 459.7699890136719
         },
         {
          "line": {
           "color": "orange",
           "dash": "dot",
           "width": 2
          },
          "type": "line",
          "x0": 83,
          "x1": 83,
          "y0": 112.21060943603516,
          "y1": 459.7699890136719
         },
         {
          "line": {
           "color": "orange",
           "dash": "dot",
           "width": 2
          },
          "type": "line",
          "x0": 89,
          "x1": 89,
          "y0": 112.21060943603516,
          "y1": 459.7699890136719
         },
         {
          "line": {
           "color": "orange",
           "dash": "dot",
           "width": 2
          },
          "type": "line",
          "x0": 97,
          "x1": 97,
          "y0": 112.21060943603516,
          "y1": 459.7699890136719
         },
         {
          "line": {
           "color": "orange",
           "dash": "dot",
           "width": 2
          },
          "type": "line",
          "x0": 102,
          "x1": 102,
          "y0": 112.21060943603516,
          "y1": 459.7699890136719
         },
         {
          "line": {
           "color": "orange",
           "dash": "dot",
           "width": 2
          },
          "type": "line",
          "x0": 107,
          "x1": 107,
          "y0": 112.21060943603516,
          "y1": 459.7699890136719
         },
         {
          "line": {
           "color": "orange",
           "dash": "dot",
           "width": 2
          },
          "type": "line",
          "x0": 109,
          "x1": 109,
          "y0": 112.21060943603516,
          "y1": 459.7699890136719
         },
         {
          "line": {
           "color": "orange",
           "dash": "dot",
           "width": 2
          },
          "type": "line",
          "x0": 113,
          "x1": 113,
          "y0": 112.21060943603516,
          "y1": 459.7699890136719
         },
         {
          "line": {
           "color": "orange",
           "dash": "dot",
           "width": 2
          },
          "type": "line",
          "x0": 115,
          "x1": 115,
          "y0": 112.21060943603516,
          "y1": 459.7699890136719
         },
         {
          "line": {
           "color": "orange",
           "dash": "dot",
           "width": 2
          },
          "type": "line",
          "x0": 124,
          "x1": 124,
          "y0": 112.21060943603516,
          "y1": 459.7699890136719
         },
         {
          "line": {
           "color": "orange",
           "dash": "dot",
           "width": 2
          },
          "type": "line",
          "x0": 127,
          "x1": 127,
          "y0": 112.21060943603516,
          "y1": 459.7699890136719
         },
         {
          "line": {
           "color": "orange",
           "dash": "dot",
           "width": 2
          },
          "type": "line",
          "x0": 129,
          "x1": 129,
          "y0": 112.21060943603516,
          "y1": 459.7699890136719
         },
         {
          "line": {
           "color": "orange",
           "dash": "dot",
           "width": 2
          },
          "type": "line",
          "x0": 132,
          "x1": 132,
          "y0": 112.21060943603516,
          "y1": 459.7699890136719
         },
         {
          "line": {
           "color": "orange",
           "dash": "dot",
           "width": 2
          },
          "type": "line",
          "x0": 139,
          "x1": 139,
          "y0": 112.21060943603516,
          "y1": 459.7699890136719
         },
         {
          "line": {
           "color": "orange",
           "dash": "dot",
           "width": 2
          },
          "type": "line",
          "x0": 144,
          "x1": 144,
          "y0": 112.21060943603516,
          "y1": 459.7699890136719
         },
         {
          "line": {
           "color": "orange",
           "dash": "dot",
           "width": 2
          },
          "type": "line",
          "x0": 147,
          "x1": 147,
          "y0": 112.21060943603516,
          "y1": 459.7699890136719
         },
         {
          "line": {
           "color": "orange",
           "dash": "dot",
           "width": 2
          },
          "type": "line",
          "x0": 150,
          "x1": 150,
          "y0": 112.21060943603516,
          "y1": 459.7699890136719
         },
         {
          "line": {
           "color": "orange",
           "dash": "dot",
           "width": 2
          },
          "type": "line",
          "x0": 152,
          "x1": 152,
          "y0": 112.21060943603516,
          "y1": 459.7699890136719
         },
         {
          "line": {
           "color": "orange",
           "dash": "dot",
           "width": 2
          },
          "type": "line",
          "x0": 161,
          "x1": 161,
          "y0": 112.21060943603516,
          "y1": 459.7699890136719
         },
         {
          "line": {
           "color": "orange",
           "dash": "dot",
           "width": 2
          },
          "type": "line",
          "x0": 170,
          "x1": 170,
          "y0": 112.21060943603516,
          "y1": 459.7699890136719
         },
         {
          "line": {
           "color": "orange",
           "dash": "dot",
           "width": 2
          },
          "type": "line",
          "x0": 186,
          "x1": 186,
          "y0": 112.21060943603516,
          "y1": 459.7699890136719
         },
         {
          "line": {
           "color": "orange",
           "dash": "dot",
           "width": 2
          },
          "type": "line",
          "x0": 192,
          "x1": 192,
          "y0": 112.21060943603516,
          "y1": 459.7699890136719
         },
         {
          "line": {
           "color": "orange",
           "dash": "dot",
           "width": 2
          },
          "type": "line",
          "x0": 196,
          "x1": 196,
          "y0": 112.21060943603516,
          "y1": 459.7699890136719
         },
         {
          "line": {
           "color": "orange",
           "dash": "dot",
           "width": 2
          },
          "type": "line",
          "x0": 201,
          "x1": 201,
          "y0": 112.21060943603516,
          "y1": 459.7699890136719
         },
         {
          "line": {
           "color": "orange",
           "dash": "dot",
           "width": 2
          },
          "type": "line",
          "x0": 206,
          "x1": 206,
          "y0": 112.21060943603516,
          "y1": 459.7699890136719
         },
         {
          "line": {
           "color": "orange",
           "dash": "dot",
           "width": 2
          },
          "type": "line",
          "x0": 208,
          "x1": 208,
          "y0": 112.21060943603516,
          "y1": 459.7699890136719
         },
         {
          "line": {
           "color": "orange",
           "dash": "dot",
           "width": 2
          },
          "type": "line",
          "x0": 212,
          "x1": 212,
          "y0": 112.21060943603516,
          "y1": 459.7699890136719
         },
         {
          "line": {
           "color": "orange",
           "dash": "dot",
           "width": 2
          },
          "type": "line",
          "x0": 225,
          "x1": 225,
          "y0": 112.21060943603516,
          "y1": 459.7699890136719
         },
         {
          "line": {
           "color": "orange",
           "dash": "dot",
           "width": 2
          },
          "type": "line",
          "x0": 231,
          "x1": 231,
          "y0": 112.21060943603516,
          "y1": 459.7699890136719
         },
         {
          "line": {
           "color": "orange",
           "dash": "dot",
           "width": 2
          },
          "type": "line",
          "x0": 235,
          "x1": 235,
          "y0": 112.21060943603516,
          "y1": 459.7699890136719
         },
         {
          "line": {
           "color": "orange",
           "dash": "dot",
           "width": 2
          },
          "type": "line",
          "x0": 243,
          "x1": 243,
          "y0": 112.21060943603516,
          "y1": 459.7699890136719
         },
         {
          "line": {
           "color": "orange",
           "dash": "dot",
           "width": 2
          },
          "type": "line",
          "x0": 7,
          "x1": 7,
          "y0": 112.21060943603516,
          "y1": 459.7699890136719
         },
         {
          "line": {
           "color": "orange",
           "dash": "dot",
           "width": 2
          },
          "type": "line",
          "x0": 15,
          "x1": 15,
          "y0": 112.21060943603516,
          "y1": 459.7699890136719
         },
         {
          "line": {
           "color": "orange",
           "dash": "dot",
           "width": 2
          },
          "type": "line",
          "x0": 18,
          "x1": 18,
          "y0": 112.21060943603516,
          "y1": 459.7699890136719
         },
         {
          "line": {
           "color": "orange",
           "dash": "dot",
           "width": 2
          },
          "type": "line",
          "x0": 21,
          "x1": 21,
          "y0": 112.21060943603516,
          "y1": 459.7699890136719
         },
         {
          "line": {
           "color": "orange",
           "dash": "dot",
           "width": 2
          },
          "type": "line",
          "x0": 26,
          "x1": 26,
          "y0": 112.21060943603516,
          "y1": 459.7699890136719
         },
         {
          "line": {
           "color": "orange",
           "dash": "dot",
           "width": 2
          },
          "type": "line",
          "x0": 32,
          "x1": 32,
          "y0": 112.21060943603516,
          "y1": 459.7699890136719
         },
         {
          "line": {
           "color": "orange",
           "dash": "dot",
           "width": 2
          },
          "type": "line",
          "x0": 34,
          "x1": 34,
          "y0": 112.21060943603516,
          "y1": 459.7699890136719
         },
         {
          "line": {
           "color": "orange",
           "dash": "dot",
           "width": 2
          },
          "type": "line",
          "x0": 38,
          "x1": 38,
          "y0": 112.21060943603516,
          "y1": 459.7699890136719
         },
         {
          "line": {
           "color": "orange",
           "dash": "dot",
           "width": 2
          },
          "type": "line",
          "x0": 42,
          "x1": 42,
          "y0": 112.21060943603516,
          "y1": 459.7699890136719
         },
         {
          "line": {
           "color": "orange",
           "dash": "dot",
           "width": 2
          },
          "type": "line",
          "x0": 52,
          "x1": 52,
          "y0": 112.21060943603516,
          "y1": 459.7699890136719
         },
         {
          "line": {
           "color": "orange",
           "dash": "dot",
           "width": 2
          },
          "type": "line",
          "x0": 55,
          "x1": 55,
          "y0": 112.21060943603516,
          "y1": 459.7699890136719
         },
         {
          "line": {
           "color": "orange",
           "dash": "dot",
           "width": 2
          },
          "type": "line",
          "x0": 66,
          "x1": 66,
          "y0": 112.21060943603516,
          "y1": 459.7699890136719
         },
         {
          "line": {
           "color": "orange",
           "dash": "dot",
           "width": 2
          },
          "type": "line",
          "x0": 71,
          "x1": 71,
          "y0": 112.21060943603516,
          "y1": 459.7699890136719
         },
         {
          "line": {
           "color": "orange",
           "dash": "dot",
           "width": 2
          },
          "type": "line",
          "x0": 78,
          "x1": 78,
          "y0": 112.21060943603516,
          "y1": 459.7699890136719
         },
         {
          "line": {
           "color": "orange",
           "dash": "dot",
           "width": 2
          },
          "type": "line",
          "x0": 82,
          "x1": 82,
          "y0": 112.21060943603516,
          "y1": 459.7699890136719
         },
         {
          "line": {
           "color": "orange",
           "dash": "dot",
           "width": 2
          },
          "type": "line",
          "x0": 85,
          "x1": 85,
          "y0": 112.21060943603516,
          "y1": 459.7699890136719
         },
         {
          "line": {
           "color": "orange",
           "dash": "dot",
           "width": 2
          },
          "type": "line",
          "x0": 88,
          "x1": 88,
          "y0": 112.21060943603516,
          "y1": 459.7699890136719
         },
         {
          "line": {
           "color": "orange",
           "dash": "dot",
           "width": 2
          },
          "type": "line",
          "x0": 92,
          "x1": 92,
          "y0": 112.21060943603516,
          "y1": 459.7699890136719
         },
         {
          "line": {
           "color": "orange",
           "dash": "dot",
           "width": 2
          },
          "type": "line",
          "x0": 96,
          "x1": 96,
          "y0": 112.21060943603516,
          "y1": 459.7699890136719
         },
         {
          "line": {
           "color": "orange",
           "dash": "dot",
           "width": 2
          },
          "type": "line",
          "x0": 106,
          "x1": 106,
          "y0": 112.21060943603516,
          "y1": 459.7699890136719
         },
         {
          "line": {
           "color": "orange",
           "dash": "dot",
           "width": 2
          },
          "type": "line",
          "x0": 110,
          "x1": 110,
          "y0": 112.21060943603516,
          "y1": 459.7699890136719
         },
         {
          "line": {
           "color": "orange",
           "dash": "dot",
           "width": 2
          },
          "type": "line",
          "x0": 112,
          "x1": 112,
          "y0": 112.21060943603516,
          "y1": 459.7699890136719
         },
         {
          "line": {
           "color": "orange",
           "dash": "dot",
           "width": 2
          },
          "type": "line",
          "x0": 117,
          "x1": 117,
          "y0": 112.21060943603516,
          "y1": 459.7699890136719
         },
         {
          "line": {
           "color": "orange",
           "dash": "dot",
           "width": 2
          },
          "type": "line",
          "x0": 125,
          "x1": 125,
          "y0": 112.21060943603516,
          "y1": 459.7699890136719
         },
         {
          "line": {
           "color": "orange",
           "dash": "dot",
           "width": 2
          },
          "type": "line",
          "x0": 132,
          "x1": 132,
          "y0": 112.21060943603516,
          "y1": 459.7699890136719
         },
         {
          "line": {
           "color": "orange",
           "dash": "dot",
           "width": 2
          },
          "type": "line",
          "x0": 140,
          "x1": 140,
          "y0": 112.21060943603516,
          "y1": 459.7699890136719
         },
         {
          "line": {
           "color": "orange",
           "dash": "dot",
           "width": 2
          },
          "type": "line",
          "x0": 144,
          "x1": 144,
          "y0": 112.21060943603516,
          "y1": 459.7699890136719
         },
         {
          "line": {
           "color": "orange",
           "dash": "dot",
           "width": 2
          },
          "type": "line",
          "x0": 150,
          "x1": 150,
          "y0": 112.21060943603516,
          "y1": 459.7699890136719
         },
         {
          "line": {
           "color": "orange",
           "dash": "dot",
           "width": 2
          },
          "type": "line",
          "x0": 154,
          "x1": 154,
          "y0": 112.21060943603516,
          "y1": 459.7699890136719
         },
         {
          "line": {
           "color": "orange",
           "dash": "dot",
           "width": 2
          },
          "type": "line",
          "x0": 169,
          "x1": 169,
          "y0": 112.21060943603516,
          "y1": 459.7699890136719
         },
         {
          "line": {
           "color": "orange",
           "dash": "dot",
           "width": 2
          },
          "type": "line",
          "x0": 177,
          "x1": 177,
          "y0": 112.21060943603516,
          "y1": 459.7699890136719
         },
         {
          "line": {
           "color": "orange",
           "dash": "dot",
           "width": 2
          },
          "type": "line",
          "x0": 182,
          "x1": 182,
          "y0": 112.21060943603516,
          "y1": 459.7699890136719
         },
         {
          "line": {
           "color": "orange",
           "dash": "dot",
           "width": 2
          },
          "type": "line",
          "x0": 184,
          "x1": 184,
          "y0": 112.21060943603516,
          "y1": 459.7699890136719
         },
         {
          "line": {
           "color": "orange",
           "dash": "dot",
           "width": 2
          },
          "type": "line",
          "x0": 190,
          "x1": 190,
          "y0": 112.21060943603516,
          "y1": 459.7699890136719
         },
         {
          "line": {
           "color": "orange",
           "dash": "dot",
           "width": 2
          },
          "type": "line",
          "x0": 194,
          "x1": 194,
          "y0": 112.21060943603516,
          "y1": 459.7699890136719
         },
         {
          "line": {
           "color": "orange",
           "dash": "dot",
           "width": 2
          },
          "type": "line",
          "x0": 196,
          "x1": 196,
          "y0": 112.21060943603516,
          "y1": 459.7699890136719
         },
         {
          "line": {
           "color": "orange",
           "dash": "dot",
           "width": 2
          },
          "type": "line",
          "x0": 206,
          "x1": 206,
          "y0": 112.21060943603516,
          "y1": 459.7699890136719
         },
         {
          "line": {
           "color": "orange",
           "dash": "dot",
           "width": 2
          },
          "type": "line",
          "x0": 217,
          "x1": 217,
          "y0": 112.21060943603516,
          "y1": 459.7699890136719
         },
         {
          "line": {
           "color": "orange",
           "dash": "dot",
           "width": 2
          },
          "type": "line",
          "x0": 232,
          "x1": 232,
          "y0": 112.21060943603516,
          "y1": 459.7699890136719
         },
         {
          "line": {
           "color": "orange",
           "dash": "dot",
           "width": 2
          },
          "type": "line",
          "x0": 236,
          "x1": 236,
          "y0": 112.21060943603516,
          "y1": 459.7699890136719
         },
         {
          "line": {
           "color": "orange",
           "dash": "dot",
           "width": 2
          },
          "type": "line",
          "x0": 239,
          "x1": 239,
          "y0": 112.21060943603516,
          "y1": 459.7699890136719
         },
         {
          "line": {
           "color": "orange",
           "dash": "dot",
           "width": 2
          },
          "type": "line",
          "x0": 245,
          "x1": 245,
          "y0": 112.21060943603516,
          "y1": 459.7699890136719
         }
        ],
        "showlegend": false,
        "template": {
         "data": {
          "bar": [
           {
            "error_x": {
             "color": "#2a3f5f"
            },
            "error_y": {
             "color": "#2a3f5f"
            },
            "marker": {
             "line": {
              "color": "#E5ECF6",
              "width": 0.5
             },
             "pattern": {
              "fillmode": "overlay",
              "size": 10,
              "solidity": 0.2
             }
            },
            "type": "bar"
           }
          ],
          "barpolar": [
           {
            "marker": {
             "line": {
              "color": "#E5ECF6",
              "width": 0.5
             },
             "pattern": {
              "fillmode": "overlay",
              "size": 10,
              "solidity": 0.2
             }
            },
            "type": "barpolar"
           }
          ],
          "carpet": [
           {
            "aaxis": {
             "endlinecolor": "#2a3f5f",
             "gridcolor": "white",
             "linecolor": "white",
             "minorgridcolor": "white",
             "startlinecolor": "#2a3f5f"
            },
            "baxis": {
             "endlinecolor": "#2a3f5f",
             "gridcolor": "white",
             "linecolor": "white",
             "minorgridcolor": "white",
             "startlinecolor": "#2a3f5f"
            },
            "type": "carpet"
           }
          ],
          "choropleth": [
           {
            "colorbar": {
             "outlinewidth": 0,
             "ticks": ""
            },
            "type": "choropleth"
           }
          ],
          "contour": [
           {
            "colorbar": {
             "outlinewidth": 0,
             "ticks": ""
            },
            "colorscale": [
             [
              0,
              "#0d0887"
             ],
             [
              0.1111111111111111,
              "#46039f"
             ],
             [
              0.2222222222222222,
              "#7201a8"
             ],
             [
              0.3333333333333333,
              "#9c179e"
             ],
             [
              0.4444444444444444,
              "#bd3786"
             ],
             [
              0.5555555555555556,
              "#d8576b"
             ],
             [
              0.6666666666666666,
              "#ed7953"
             ],
             [
              0.7777777777777778,
              "#fb9f3a"
             ],
             [
              0.8888888888888888,
              "#fdca26"
             ],
             [
              1,
              "#f0f921"
             ]
            ],
            "type": "contour"
           }
          ],
          "contourcarpet": [
           {
            "colorbar": {
             "outlinewidth": 0,
             "ticks": ""
            },
            "type": "contourcarpet"
           }
          ],
          "heatmap": [
           {
            "colorbar": {
             "outlinewidth": 0,
             "ticks": ""
            },
            "colorscale": [
             [
              0,
              "#0d0887"
             ],
             [
              0.1111111111111111,
              "#46039f"
             ],
             [
              0.2222222222222222,
              "#7201a8"
             ],
             [
              0.3333333333333333,
              "#9c179e"
             ],
             [
              0.4444444444444444,
              "#bd3786"
             ],
             [
              0.5555555555555556,
              "#d8576b"
             ],
             [
              0.6666666666666666,
              "#ed7953"
             ],
             [
              0.7777777777777778,
              "#fb9f3a"
             ],
             [
              0.8888888888888888,
              "#fdca26"
             ],
             [
              1,
              "#f0f921"
             ]
            ],
            "type": "heatmap"
           }
          ],
          "heatmapgl": [
           {
            "colorbar": {
             "outlinewidth": 0,
             "ticks": ""
            },
            "colorscale": [
             [
              0,
              "#0d0887"
             ],
             [
              0.1111111111111111,
              "#46039f"
             ],
             [
              0.2222222222222222,
              "#7201a8"
             ],
             [
              0.3333333333333333,
              "#9c179e"
             ],
             [
              0.4444444444444444,
              "#bd3786"
             ],
             [
              0.5555555555555556,
              "#d8576b"
             ],
             [
              0.6666666666666666,
              "#ed7953"
             ],
             [
              0.7777777777777778,
              "#fb9f3a"
             ],
             [
              0.8888888888888888,
              "#fdca26"
             ],
             [
              1,
              "#f0f921"
             ]
            ],
            "type": "heatmapgl"
           }
          ],
          "histogram": [
           {
            "marker": {
             "pattern": {
              "fillmode": "overlay",
              "size": 10,
              "solidity": 0.2
             }
            },
            "type": "histogram"
           }
          ],
          "histogram2d": [
           {
            "colorbar": {
             "outlinewidth": 0,
             "ticks": ""
            },
            "colorscale": [
             [
              0,
              "#0d0887"
             ],
             [
              0.1111111111111111,
              "#46039f"
             ],
             [
              0.2222222222222222,
              "#7201a8"
             ],
             [
              0.3333333333333333,
              "#9c179e"
             ],
             [
              0.4444444444444444,
              "#bd3786"
             ],
             [
              0.5555555555555556,
              "#d8576b"
             ],
             [
              0.6666666666666666,
              "#ed7953"
             ],
             [
              0.7777777777777778,
              "#fb9f3a"
             ],
             [
              0.8888888888888888,
              "#fdca26"
             ],
             [
              1,
              "#f0f921"
             ]
            ],
            "type": "histogram2d"
           }
          ],
          "histogram2dcontour": [
           {
            "colorbar": {
             "outlinewidth": 0,
             "ticks": ""
            },
            "colorscale": [
             [
              0,
              "#0d0887"
             ],
             [
              0.1111111111111111,
              "#46039f"
             ],
             [
              0.2222222222222222,
              "#7201a8"
             ],
             [
              0.3333333333333333,
              "#9c179e"
             ],
             [
              0.4444444444444444,
              "#bd3786"
             ],
             [
              0.5555555555555556,
              "#d8576b"
             ],
             [
              0.6666666666666666,
              "#ed7953"
             ],
             [
              0.7777777777777778,
              "#fb9f3a"
             ],
             [
              0.8888888888888888,
              "#fdca26"
             ],
             [
              1,
              "#f0f921"
             ]
            ],
            "type": "histogram2dcontour"
           }
          ],
          "mesh3d": [
           {
            "colorbar": {
             "outlinewidth": 0,
             "ticks": ""
            },
            "type": "mesh3d"
           }
          ],
          "parcoords": [
           {
            "line": {
             "colorbar": {
              "outlinewidth": 0,
              "ticks": ""
             }
            },
            "type": "parcoords"
           }
          ],
          "pie": [
           {
            "automargin": true,
            "type": "pie"
           }
          ],
          "scatter": [
           {
            "fillpattern": {
             "fillmode": "overlay",
             "size": 10,
             "solidity": 0.2
            },
            "type": "scatter"
           }
          ],
          "scatter3d": [
           {
            "line": {
             "colorbar": {
              "outlinewidth": 0,
              "ticks": ""
             }
            },
            "marker": {
             "colorbar": {
              "outlinewidth": 0,
              "ticks": ""
             }
            },
            "type": "scatter3d"
           }
          ],
          "scattercarpet": [
           {
            "marker": {
             "colorbar": {
              "outlinewidth": 0,
              "ticks": ""
             }
            },
            "type": "scattercarpet"
           }
          ],
          "scattergeo": [
           {
            "marker": {
             "colorbar": {
              "outlinewidth": 0,
              "ticks": ""
             }
            },
            "type": "scattergeo"
           }
          ],
          "scattergl": [
           {
            "marker": {
             "colorbar": {
              "outlinewidth": 0,
              "ticks": ""
             }
            },
            "type": "scattergl"
           }
          ],
          "scattermapbox": [
           {
            "marker": {
             "colorbar": {
              "outlinewidth": 0,
              "ticks": ""
             }
            },
            "type": "scattermapbox"
           }
          ],
          "scatterpolar": [
           {
            "marker": {
             "colorbar": {
              "outlinewidth": 0,
              "ticks": ""
             }
            },
            "type": "scatterpolar"
           }
          ],
          "scatterpolargl": [
           {
            "marker": {
             "colorbar": {
              "outlinewidth": 0,
              "ticks": ""
             }
            },
            "type": "scatterpolargl"
           }
          ],
          "scatterternary": [
           {
            "marker": {
             "colorbar": {
              "outlinewidth": 0,
              "ticks": ""
             }
            },
            "type": "scatterternary"
           }
          ],
          "surface": [
           {
            "colorbar": {
             "outlinewidth": 0,
             "ticks": ""
            },
            "colorscale": [
             [
              0,
              "#0d0887"
             ],
             [
              0.1111111111111111,
              "#46039f"
             ],
             [
              0.2222222222222222,
              "#7201a8"
             ],
             [
              0.3333333333333333,
              "#9c179e"
             ],
             [
              0.4444444444444444,
              "#bd3786"
             ],
             [
              0.5555555555555556,
              "#d8576b"
             ],
             [
              0.6666666666666666,
              "#ed7953"
             ],
             [
              0.7777777777777778,
              "#fb9f3a"
             ],
             [
              0.8888888888888888,
              "#fdca26"
             ],
             [
              1,
              "#f0f921"
             ]
            ],
            "type": "surface"
           }
          ],
          "table": [
           {
            "cells": {
             "fill": {
              "color": "#EBF0F8"
             },
             "line": {
              "color": "white"
             }
            },
            "header": {
             "fill": {
              "color": "#C8D4E3"
             },
             "line": {
              "color": "white"
             }
            },
            "type": "table"
           }
          ]
         },
         "layout": {
          "annotationdefaults": {
           "arrowcolor": "#2a3f5f",
           "arrowhead": 0,
           "arrowwidth": 1
          },
          "autotypenumbers": "strict",
          "coloraxis": {
           "colorbar": {
            "outlinewidth": 0,
            "ticks": ""
           }
          },
          "colorscale": {
           "diverging": [
            [
             0,
             "#8e0152"
            ],
            [
             0.1,
             "#c51b7d"
            ],
            [
             0.2,
             "#de77ae"
            ],
            [
             0.3,
             "#f1b6da"
            ],
            [
             0.4,
             "#fde0ef"
            ],
            [
             0.5,
             "#f7f7f7"
            ],
            [
             0.6,
             "#e6f5d0"
            ],
            [
             0.7,
             "#b8e186"
            ],
            [
             0.8,
             "#7fbc41"
            ],
            [
             0.9,
             "#4d9221"
            ],
            [
             1,
             "#276419"
            ]
           ],
           "sequential": [
            [
             0,
             "#0d0887"
            ],
            [
             0.1111111111111111,
             "#46039f"
            ],
            [
             0.2222222222222222,
             "#7201a8"
            ],
            [
             0.3333333333333333,
             "#9c179e"
            ],
            [
             0.4444444444444444,
             "#bd3786"
            ],
            [
             0.5555555555555556,
             "#d8576b"
            ],
            [
             0.6666666666666666,
             "#ed7953"
            ],
            [
             0.7777777777777778,
             "#fb9f3a"
            ],
            [
             0.8888888888888888,
             "#fdca26"
            ],
            [
             1,
             "#f0f921"
            ]
           ],
           "sequentialminus": [
            [
             0,
             "#0d0887"
            ],
            [
             0.1111111111111111,
             "#46039f"
            ],
            [
             0.2222222222222222,
             "#7201a8"
            ],
            [
             0.3333333333333333,
             "#9c179e"
            ],
            [
             0.4444444444444444,
             "#bd3786"
            ],
            [
             0.5555555555555556,
             "#d8576b"
            ],
            [
             0.6666666666666666,
             "#ed7953"
            ],
            [
             0.7777777777777778,
             "#fb9f3a"
            ],
            [
             0.8888888888888888,
             "#fdca26"
            ],
            [
             1,
             "#f0f921"
            ]
           ]
          },
          "colorway": [
           "#636efa",
           "#EF553B",
           "#00cc96",
           "#ab63fa",
           "#FFA15A",
           "#19d3f3",
           "#FF6692",
           "#B6E880",
           "#FF97FF",
           "#FECB52"
          ],
          "font": {
           "color": "#2a3f5f"
          },
          "geo": {
           "bgcolor": "white",
           "lakecolor": "white",
           "landcolor": "#E5ECF6",
           "showlakes": true,
           "showland": true,
           "subunitcolor": "white"
          },
          "hoverlabel": {
           "align": "left"
          },
          "hovermode": "closest",
          "mapbox": {
           "style": "light"
          },
          "paper_bgcolor": "white",
          "plot_bgcolor": "#E5ECF6",
          "polar": {
           "angularaxis": {
            "gridcolor": "white",
            "linecolor": "white",
            "ticks": ""
           },
           "bgcolor": "#E5ECF6",
           "radialaxis": {
            "gridcolor": "white",
            "linecolor": "white",
            "ticks": ""
           }
          },
          "scene": {
           "xaxis": {
            "backgroundcolor": "#E5ECF6",
            "gridcolor": "white",
            "gridwidth": 2,
            "linecolor": "white",
            "showbackground": true,
            "ticks": "",
            "zerolinecolor": "white"
           },
           "yaxis": {
            "backgroundcolor": "#E5ECF6",
            "gridcolor": "white",
            "gridwidth": 2,
            "linecolor": "white",
            "showbackground": true,
            "ticks": "",
            "zerolinecolor": "white"
           },
           "zaxis": {
            "backgroundcolor": "#E5ECF6",
            "gridcolor": "white",
            "gridwidth": 2,
            "linecolor": "white",
            "showbackground": true,
            "ticks": "",
            "zerolinecolor": "white"
           }
          },
          "shapedefaults": {
           "line": {
            "color": "#2a3f5f"
           }
          },
          "ternary": {
           "aaxis": {
            "gridcolor": "white",
            "linecolor": "white",
            "ticks": ""
           },
           "baxis": {
            "gridcolor": "white",
            "linecolor": "white",
            "ticks": ""
           },
           "bgcolor": "#E5ECF6",
           "caxis": {
            "gridcolor": "white",
            "linecolor": "white",
            "ticks": ""
           }
          },
          "title": {
           "x": 0.05
          },
          "xaxis": {
           "automargin": true,
           "gridcolor": "white",
           "linecolor": "white",
           "ticks": "",
           "title": {
            "standoff": 15
           },
           "zerolinecolor": "white",
           "zerolinewidth": 2
          },
          "yaxis": {
           "automargin": true,
           "gridcolor": "white",
           "linecolor": "white",
           "ticks": "",
           "title": {
            "standoff": 15
           },
           "zerolinecolor": "white",
           "zerolinewidth": 2
          }
         }
        },
        "xaxis": {
         "anchor": "y",
         "domain": [
          0,
          1
         ],
         "matches": "x3",
         "showticklabels": false
        },
        "xaxis2": {
         "anchor": "y2",
         "domain": [
          0,
          1
         ],
         "matches": "x3",
         "showticklabels": false
        },
        "xaxis3": {
         "anchor": "y3",
         "domain": [
          0,
          1
         ]
        },
        "yaxis": {
         "anchor": "x",
         "domain": [
          0.5333333333333333,
          1
         ],
         "gridcolor": "lightgrey"
        },
        "yaxis2": {
         "anchor": "x2",
         "domain": [
          0.26666666666666666,
          0.3666666666666667
         ]
        },
        "yaxis3": {
         "anchor": "x3",
         "domain": [
          0,
          0.1
         ]
        }
       }
      },
      "text/html": [
       "<div>                            <div id=\"ed49289a-cb63-423c-ab3f-c38e11b46747\" class=\"plotly-graph-div\" style=\"height:525px; width:100%;\"></div>            <script type=\"text/javascript\">                require([\"plotly\"], function(Plotly) {                    window.PLOTLYENV=window.PLOTLYENV || {};                                    if (document.getElementById(\"ed49289a-cb63-423c-ab3f-c38e11b46747\")) {                    Plotly.newPlot(                        \"ed49289a-cb63-423c-ab3f-c38e11b46747\",                        [{\"line\":{\"color\":\"black\"},\"mode\":\"lines\",\"name\":\"Price\",\"x\":[0,1,2,3,4,5,6,7,8,9,10,11,12,13,14,15,16,17,18,19,20,21,22,23,24,25,26,27,28,29,30,31,32,33,34,35,36,37,38,39,40,41,42,43,44,45,46,47,48,49,50,51,52,53,54,55,56,57,58,59,60,61,62,63,64,65,66,67,68,69,70,71,72,73,74,75,76,77,78,79,80,81,82,83,84,85,86,87,88,89,90,91,92,93,94,95,96,97,98,99,100,101,102,103,104,105,106,107,108,109,110,111,112,113,114,115,116,117,118,119,120,121,122,123,124,125,126,127,128,129,130,131,132,133,134,135,136,137,138,139,140,141,142,143,144,145,146,147,148,149,150,151,152,153,154,155,156,157,158,159,160,161,162,163,164,165,166,167,168,169,170,171,172,173,174,175,176,177,178,179,180,181,182,183,184,185,186,187,188,189,190,191,192,193,194,195,196,197,198,199,200,201,202,203,204,205,206,207,208,209,210,211,212,213,214,215,216,217,218,219,220,221,222,223,224,225,226,227,228,229,230,231,232,233,234,235,236,237,238,239,240,241,242,243,244,245,246,247,248,249,250],\"y\":[157.48983764648438,160.8770294189453,169.77964782714844,177.92294311523438,180.35092163085938,173.04698181152344,170.09939575195312,165.19345092773438,177.75306701660156,179.69146728515625,181.47999572753906,184.25770568847656,185.1069793701172,188.77394104003906,191.99131774902344,189.73318481445312,177.78305053710938,170.71890258789062,180.82052612304688,179.27182006835938,186.93548583984375,190.16282653808594,188.63406372070312,183.19857788085938,187.57496643066406,178.3426055908203,170.1992950439453,171.66810607910156,172.07777404785156,178.9820556640625,162.46571350097656,157.87950134277344,154.55226135253906,150.81533813476562,139.2548828125,136.3572998046875,134.5387725830078,137.0674591064453,139.82598876953125,143.7938995361328,144.97328186035156,131.2405548095703,131.21055603027344,129.22158813476562,131.91017150878906,133.74923706054688,131.6903076171875,132.53985595703125,125.5435562133789,125.09379577636719,122.21531677246094,124.06433868408203,127.29263305664062,122.13536071777344,121.32579040527344,125.05381774902344,131.60035705566406,132.02012634277344,131.23056030273438,120.69612121582031,116.63827514648438,115.79871368408203,114.93917083740234,119.53673553466797,112.21060943603516,118.8171157836914,119.606689453125,120.44625854492188,121.87549591064453,124.59406280517578,125.9233627319336,132.53985595703125,128.8917999267578,131.6903076171875,138.26681518554688,134.8986053466797,135.35836791992188,132.12008666992188,134.13900756835938,141.48512268066406,142.93434143066406,145.94276428222656,137.6871337890625,157.41668701171875,163.1836395263672,162.86380004882812,166.57183837890625,159.01583862304688,156.68707275390625,154.00848388671875,153.08895874023438,160.295166015625,165.10263061523438,162.6139373779297,158.18629455566406,156.30728149414062,169.1837615966797,171.3031768798828,168.71388244628906,166.0546112060547,159.82630920410156,161.15594482421875,171.64308166503906,169.96353149414062,175.30209350585938,180.67062377929688,176.69171142578125,169.4736785888672,165.6647186279297,162.49557495117188,160.80604553222656,164.96490478515625,153.34808349609375,152.01844787597656,141.17141723632812,140.32164001464844,145.99009704589844,146.10006713867188,143.11087036132812,147.44970703125,142.6110076904297,148.5493927001953,156.23728942871094,159.04652404785156,159.9662628173828,165.0648956298828,168.94381713867188,176.9716339111328,173.72251892089844,167.6041717529297,178.34124755859375,191.87754821777344,192.59735107421875,193.1772003173828,197.96588134765625,203.59434509277344,191.567626953125,195.3166046142578,209.3727569580078,217.03067016601562,210.9423370361328,210.83236694335938,221.66940307617188,221.98931884765625,223.3089599609375,212.5918731689453,217.82046508789062,229.64724731445312,227.5778045654297,219.95986938476562,213.82156372070312,206.49356079101562,207.4832763671875,236.57533264160156,232.79637145996094,234.94578552246094,232.0965576171875,226.91796875,233.07627868652344,238.83470153808594,235.4756317138672,232.8559112548828,241.78497314453125,234.33575439453125,229.62623596191406,229.63624572753906,240.6051025390625,242.2549285888672,255.38357543945312,257.223388671875,258.97320556640625,261.962890625,264.6526184082031,271.8818664550781,267.7622985839844,265.28253173828125,264.07269287109375,269.81207275390625,273.8016662597656,277.7412414550781,279.6210632324219,274.5015869140625,268.7821960449219,270.3420104980469,275.761474609375,271.6618957519531,264.922607421875,264.6026306152344,267.55230712890625,269.9920349121094,276.6413879394531,279.2810974121094,271.011962890625,271.16192626953125,270.39202880859375,262.3828430175781,269.5321044921875,272.2318420410156,277.4612731933594,289.0700988769531,282.0708312988281,277.9912109375,275.5914611816406,286.77032470703125,291.4798583984375,285.680419921875,288.82012939453125,285.75042724609375,283.37066650390625,289.5000305175781,292.0997619628906,301.748779296875,316.7472229003906,312.607666015625,311.7277526855469,306.8482360839844,305.3484191894531,379.76068115234375,389.419677734375,401.0684814453125,378.30084228515625,397.65887451171875,393.22930908203125,391.6694641113281,386.5,374.75,385.1000061035156,387.70001220703125,394.82000732421875,410.2200012207031,429.9700012207031,426.5299987792969,426.9200134277344,438.0799865722656,430.45001220703125,430.25,422.0899963378906,406.32000732421875,418.760009765625,411.1700134277344,408.2200012207031,423.0199890136719,424.1300048828125,423.1700134277344,421.0299987792969,425.0299987792969,421.79998779296875,424.04998779296875,439.0199890136719,459.7699890136719,454.69000244140625],\"type\":\"scatter\",\"xaxis\":\"x\",\"yaxis\":\"y\"},{\"line\":{\"color\":\"blue\"},\"mode\":\"lines\",\"name\":\"Quantity\",\"x\":[6,7,8,9,10,11,12,13,14,15,16,17,18,19,20,21,22,23,24,25,26,27,28,29,30,31,32,33,34,35,36,37,38,39,40,41,42,43,44,45,46,47,48,49,50,51,52,53,54,55,56,57,58,59,60,61,62,63,64,65,66,67,68,69,70,71,72,73,74,75,76,77,78,79,80,81,82,83,84,85,86,87,88,89,90,91,92,93,94,95,96,97,98,99,100,101,102,103,104,105,106,107,108,109,110,111,112,113,114,115,116,117,118,119,120,121,122,123,124,125,126,127,128,129,130,131,132,133,134,135,136,137,138,139,140,141,142,143,144,145,146,147,148,149,150,151,152,153,154,155,156,157,158,159,160,161,162,163,164,165,166,167,168,169,170,171,172,173,174,175,176,177,178,179,180,181,182,183,184,185,186,187,188,189,190,191,192,193,194,195,196,197,198,199,200,201,202,203,204,205,206,207,208,209,210,211,212,213,214,215,216,217,218,219,220,221,222,223,224,225,226,227,228,229,230,231,232,233,234,235,236,237,238,239,240,241,242,243,244,245,245,6,7,8,9,10,11,12,13,14,15,16,17,18,19,20,21,22,23,24,25,26,27,28,29,30,31,32,33,34,35,36,37,38,39,40,41,42,43,44,45,46,47,48,49,50,51,52,53,54,55,56,57,58,59,60,61,62,63,64,65,66,67,68,69,70,71,72,73,74,75,76,77,78,79,80,81,82,83,84,85,86,87,88,89,90,91,92,93,94,95,96,97,98,99,100,101,102,103,104,105,106,107,108,109,110,111,112,113,114,115,116,117,118,119,120,121,122,123,124,125,126,127,128,129,130,131,132,133,134,135,136,137,138,139,140,141,142,143,144,145,146,147,148,149,150,151,152,153,154,155,156,157,158,159,160,161,162,163,164,165,166,167,168,169,170,171,172,173,174,175,176,177,178,179,180,181,182,183,184,185,186,187,188,189,190,191,192,193,194,195,196,197,198,199,200,201,202,203,204,205,206,207,208,209,210,211,212,213,214,215,216,217,218,219,220,221,222,223,224,225,226,227,228,229,230,231,232,233,234,235,236,237,238,239,240,241,242,243,244,245,245],\"y\":[0,1,1,2,3,0,0,0,0,0,1,2,0,1,0,0,0,0,0,1,0,1,2,0,1,0,0,0,1,0,0,1,0,1,2,2,2,2,2,0,1,1,0,0,0,0,1,2,0,0,1,2,3,4,5,0,0,0,0,1,2,3,0,1,2,0,1,2,2,0,0,1,0,1,0,0,1,0,0,0,1,1,2,0,0,0,0,0,0,1,1,0,0,1,1,1,0,0,1,1,1,0,1,0,0,1,2,0,1,0,0,0,0,1,1,2,3,3,0,0,1,0,1,0,1,1,0,0,0,0,1,1,2,0,1,1,1,2,0,0,1,0,0,1,0,1,0,0,0,0,0,1,2,3,3,0,0,0,0,0,0,1,2,3,0,0,0,0,0,0,0,0,0,0,0,0,0,0,1,2,0,0,1,2,3,3,0,0,0,1,0,0,0,0,1,0,0,0,0,1,0,1,0,0,0,1,0,0,0,0,0,1,1,1,2,2,2,2,2,0,0,0,0,0,1,0,0,0,1,0,0,0,1,1,2,3,3,0,0,0,0,1,0,0,0,0,1,1,2,3,0,1,2,0,0,1,0,0,0,1,1,0,1,1,2,3,3,0,1,0,1,1,2,0,0,0,1,0,0,1,1,2,2,3,3,4,5,0,0,1,0,0,0,0,0,0,0,1,1,1,2,0,0,0,1,2,0,0,0,0,1,2,3,0,0,0,1,0,0,1,0,1,1,0,1,1,1,0,0,1,2,0,0,0,0,1,1,2,2,3,3,0,1,2,3,0,1,0,1,1,1,2,0,0,0,1,2,2,2,2,0,0,0,0,0,0,1,0,0,0,0,0,0,0,1,0,0,1,1,0,1,1,2,3,3,0,0,1,2,0,0,0,0,0,0,0,0,1,2,3,4,5,5,6,0,0,0,0,0,0,0,1,0,0,0,1,2,0,1,0,0,0,1,1,1,0,0,0,1,0,1,0,0,0,0,0,0,0,1,1,2,0,0,0,0,0,1,1,2,3,3,4,0,0,0,0,0,0,0,1,2,3,3,3,4,5,5,0,1,1,1,0,1,1,0,0,0,1,1,2,3,0],\"type\":\"scatter\",\"xaxis\":\"x2\",\"yaxis\":\"y2\"},{\"line\":{\"color\":\"red\"},\"mode\":\"lines\",\"name\":\"Reward\",\"x\":[6,7,8,9,10,11,12,13,14,15,16,17,18,19,20,21,22,23,24,25,26,27,28,29,30,31,32,33,34,35,36,37,38,39,40,41,42,43,44,45,46,47,48,49,50,51,52,53,54,55,56,57,58,59,60,61,62,63,64,65,66,67,68,69,70,71,72,73,74,75,76,77,78,79,80,81,82,83,84,85,86,87,88,89,90,91,92,93,94,95,96,97,98,99,100,101,102,103,104,105,106,107,108,109,110,111,112,113,114,115,116,117,118,119,120,121,122,123,124,125,126,127,128,129,130,131,132,133,134,135,136,137,138,139,140,141,142,143,144,145,146,147,148,149,150,151,152,153,154,155,156,157,158,159,160,161,162,163,164,165,166,167,168,169,170,171,172,173,174,175,176,177,178,179,180,181,182,183,184,185,186,187,188,189,190,191,192,193,194,195,196,197,198,199,200,201,202,203,204,205,206,207,208,209,210,211,212,213,214,215,216,217,218,219,220,221,222,223,224,225,226,227,228,229,230,231,232,233,234,235,236,237,238,239,240,241,242,243,244,245,245,6,7,8,9,10,11,12,13,14,15,16,17,18,19,20,21,22,23,24,25,26,27,28,29,30,31,32,33,34,35,36,37,38,39,40,41,42,43,44,45,46,47,48,49,50,51,52,53,54,55,56,57,58,59,60,61,62,63,64,65,66,67,68,69,70,71,72,73,74,75,76,77,78,79,80,81,82,83,84,85,86,87,88,89,90,91,92,93,94,95,96,97,98,99,100,101,102,103,104,105,106,107,108,109,110,111,112,113,114,115,116,117,118,119,120,121,122,123,124,125,126,127,128,129,130,131,132,133,134,135,136,137,138,139,140,141,142,143,144,145,146,147,148,149,150,151,152,153,154,155,156,157,158,159,160,161,162,163,164,165,166,167,168,169,170,171,172,173,174,175,176,177,178,179,180,181,182,183,184,185,186,187,188,189,190,191,192,193,194,195,196,197,198,199,200,201,202,203,204,205,206,207,208,209,210,211,212,213,214,215,216,217,218,219,220,221,222,223,224,225,226,227,228,229,230,231,232,233,234,235,236,237,238,239,240,241,242,243,244,245,245],\"y\":[0.0,0.0,0.0,0.0,0.0,0.03202777279076274,0.0,0.0,0.0,0.0,0.0,0.0,-0.0709585799681336,0.0,-0.008564879706375872,0.0,0.0,0.0,0.0,0.0,-0.04921957879308181,0.0,0.0,0.0066930832396994155,0.0,-0.09227931873844397,0.0,0.0,0.0,-0.07665304779501558,0.0,0.0,0.018795225159924378,0.0,0.0,0.0,0.0,0.0,0.0,-0.06981014415585518,0.0,0.0,-0.009042153286961563,0.0,0.0,0.0,0.0,0.0,-0.028191978348964697,0.0,0.0,0.0,0.0,0.0,0.0,-0.08961835602354173,0.0,0.0,0.0,0.0,0.0,0.0,0.030528552001666487,0.0,0.0,0.02181675812649453,0.0,0.0,0.0,0.05776643397009962,0.0,0.0,-0.023923761048269765,0.0,0.05476494306520796,0.0,0.0,-0.05656759027257552,0.0,0.0,0.0,0.0,0.0,-0.02642445231751056,0.0,0.0,0.0,0.0,0.0,0.0,0.0,0.06952224952172292,0.0,0.0,0.0,0.0,-0.04479736647917176,0.0,0.0,0.0,0.0,0.03958602102753184,0.0,-0.0224752303287038,0.0,0.0,0.0,-0.05855274482458206,0.0,-0.07135338369260247,0.0,0.0,0.0,0.0,0.0,0.0,0.0,0.0,0.09871318753684499,0.0,0.0,0.023499372740565017,0.0,-0.0183595241702178,0.0,0.0,0.14482561031133434,0.0,0.0,0.0,0.0,0.0,0.0,0.049721784331945074,0.0,0.0,0.0,0.0,0.012032285324490744,0.0,0.0,0.024594505147382595,0.0,0.0,-0.03347398132788415,0.0,-0.034271580481281316,0.0,0.0,0.0,0.0,0.0,0.0,0.0,0.0,0.020714175052185535,0.0,0.0,0.0,0.0,0.0,0.0,0.0,0.0,0.04527849499932124,0.0,0.0,0.0,0.0,0.0,0.0,0.0,0.0,0.0,0.0,0.0,0.0,0.0,0.0,0.0,-0.005090049192725488,0.0,0.0,0.0,0.0,0.0,0.044500971513826704,0.0,0.0,0.0,-0.029620643131773705,0.0,0.0,0.0,0.0,-0.024213045919717735,0.0,0.0,0.0,0.0,-0.019896532502890696,0.0,-0.010628421761574192,0.0,0.0,0.0,0.033033294067559726,0.0,0.0,0.0,0.0,0.0,0.0,0.0,0.0,0.0,0.0,0.0,0.0,0.0942546806360447,0.0,0.0,0.0,0.0,0.0,0.048144897716418944,0.0,0.0,0.0,-0.017416852171072028,0.0,0.0,0.0,0.0,0.0,0.0,0.0,0.038084042586724154,0.0,0.0,0.0,0.0,-0.01703344391629269,0.0,0.0,0.0,0.0,0.0,0.0,0.0,0.037116470587685635,0.0,0.0,-0.0709585799681336,0.0,0.0,0.042748859070890655,0.0,0.0,0.0,0.0,-0.026506604724830796,0.0,0.0,0.0,0.0,0.0,-0.0913569057421163,0.0,-0.02417902646697212,0.0,0.0,0.0,0.0012464233946174463,0.0,0.0,0.0,-0.09472591690384424,0.0,0.0,0.0,0.0,0.0,0.0,0.0,0.0,0.0,-0.034999078281681584,0.0,0.0,-0.0066284678551916665,0.0,0.0,0.0,0.0,0.0,0.0,0.0,0.0,0.0,0.0,0.0422127846158078,0.0,0.0,0.0,0.0,0.02181675812649453,0.0,0.0,0.0,0.0,0.0,0.0,-0.029774345549053893,0.0,0.0,0.0,0.02104758605560053,0.0,0.0,0.0366349503608796,0.0,0.0,-0.02362686750909404,0.0,0.0,0.0,0.023027383167631532,0.0,0.0,0.0,-0.025516405945139597,0.0,0.0,0.0,0.0,0.0,0.0,0.0,0.0,0.0,0.09018527903724416,0.0,0.0,0.0,-0.04756145325960481,0.0,0.02586258022305654,0.0,0.0,0.0,0.0,-0.005753161744927127,0.0,0.0,0.0,0.0,0.0,0.0,0.0,0.10298468354030188,0.0,0.0,0.0,0.0,0.0,0.0,0.0759011212744396,0.0,0.0,0.0,0.0,0.0,0.0,0.0,0.036575499693800584,0.0,0.0,0.0,0.0529185915144339,0.0,0.0,0.0,0.0,0.0,-0.016245443018451766,0.0,0.0,0.0,0.14293994932471654,0.0,0.0,0.0,0.0,0.0,0.0,0.0,0.0,0.0,0.0,0.0,0.0,0.0,0.0,0.08635797055972705,0.0,0.0,0.0,0.0,0.0,0.0,0.0,-0.004560567404344185,0.0,0.0,0.0,0.0,-0.014997660927324019,0.0,0.005803265529031876,0.0,0.0,0.0,0.0,0.0,0.019135503532779152,0.0,0.0,0.0,0.0005533459752355974,0.0,-0.029620643131773705,0.0,0.0,0.0,0.0,0.0,0.0,0.0,0.0,0.0,0.007564339996683822,0.0,0.0,0.0,0.0,0.0,0.0,0.0,0.0,0.0,0.0,-0.005625005264102145,0.0,0.0,0.0,0.0,0.0,0.0,0.0,0.0,0.0,0.0,0.0,0.0,0.0,0.0,0.08922070332908483,0.0,0.0,0.0,0.007800024518713089,0.0,0.0,-0.007889280961778322,0.0,0.0,0.0,0.0,0.0,0.0,0.006210441051756055],\"type\":\"scatter\",\"xaxis\":\"x3\",\"yaxis\":\"y3\"}],                        {\"template\":{\"data\":{\"histogram2dcontour\":[{\"type\":\"histogram2dcontour\",\"colorbar\":{\"outlinewidth\":0,\"ticks\":\"\"},\"colorscale\":[[0.0,\"#0d0887\"],[0.1111111111111111,\"#46039f\"],[0.2222222222222222,\"#7201a8\"],[0.3333333333333333,\"#9c179e\"],[0.4444444444444444,\"#bd3786\"],[0.5555555555555556,\"#d8576b\"],[0.6666666666666666,\"#ed7953\"],[0.7777777777777778,\"#fb9f3a\"],[0.8888888888888888,\"#fdca26\"],[1.0,\"#f0f921\"]]}],\"choropleth\":[{\"type\":\"choropleth\",\"colorbar\":{\"outlinewidth\":0,\"ticks\":\"\"}}],\"histogram2d\":[{\"type\":\"histogram2d\",\"colorbar\":{\"outlinewidth\":0,\"ticks\":\"\"},\"colorscale\":[[0.0,\"#0d0887\"],[0.1111111111111111,\"#46039f\"],[0.2222222222222222,\"#7201a8\"],[0.3333333333333333,\"#9c179e\"],[0.4444444444444444,\"#bd3786\"],[0.5555555555555556,\"#d8576b\"],[0.6666666666666666,\"#ed7953\"],[0.7777777777777778,\"#fb9f3a\"],[0.8888888888888888,\"#fdca26\"],[1.0,\"#f0f921\"]]}],\"heatmap\":[{\"type\":\"heatmap\",\"colorbar\":{\"outlinewidth\":0,\"ticks\":\"\"},\"colorscale\":[[0.0,\"#0d0887\"],[0.1111111111111111,\"#46039f\"],[0.2222222222222222,\"#7201a8\"],[0.3333333333333333,\"#9c179e\"],[0.4444444444444444,\"#bd3786\"],[0.5555555555555556,\"#d8576b\"],[0.6666666666666666,\"#ed7953\"],[0.7777777777777778,\"#fb9f3a\"],[0.8888888888888888,\"#fdca26\"],[1.0,\"#f0f921\"]]}],\"heatmapgl\":[{\"type\":\"heatmapgl\",\"colorbar\":{\"outlinewidth\":0,\"ticks\":\"\"},\"colorscale\":[[0.0,\"#0d0887\"],[0.1111111111111111,\"#46039f\"],[0.2222222222222222,\"#7201a8\"],[0.3333333333333333,\"#9c179e\"],[0.4444444444444444,\"#bd3786\"],[0.5555555555555556,\"#d8576b\"],[0.6666666666666666,\"#ed7953\"],[0.7777777777777778,\"#fb9f3a\"],[0.8888888888888888,\"#fdca26\"],[1.0,\"#f0f921\"]]}],\"contourcarpet\":[{\"type\":\"contourcarpet\",\"colorbar\":{\"outlinewidth\":0,\"ticks\":\"\"}}],\"contour\":[{\"type\":\"contour\",\"colorbar\":{\"outlinewidth\":0,\"ticks\":\"\"},\"colorscale\":[[0.0,\"#0d0887\"],[0.1111111111111111,\"#46039f\"],[0.2222222222222222,\"#7201a8\"],[0.3333333333333333,\"#9c179e\"],[0.4444444444444444,\"#bd3786\"],[0.5555555555555556,\"#d8576b\"],[0.6666666666666666,\"#ed7953\"],[0.7777777777777778,\"#fb9f3a\"],[0.8888888888888888,\"#fdca26\"],[1.0,\"#f0f921\"]]}],\"surface\":[{\"type\":\"surface\",\"colorbar\":{\"outlinewidth\":0,\"ticks\":\"\"},\"colorscale\":[[0.0,\"#0d0887\"],[0.1111111111111111,\"#46039f\"],[0.2222222222222222,\"#7201a8\"],[0.3333333333333333,\"#9c179e\"],[0.4444444444444444,\"#bd3786\"],[0.5555555555555556,\"#d8576b\"],[0.6666666666666666,\"#ed7953\"],[0.7777777777777778,\"#fb9f3a\"],[0.8888888888888888,\"#fdca26\"],[1.0,\"#f0f921\"]]}],\"mesh3d\":[{\"type\":\"mesh3d\",\"colorbar\":{\"outlinewidth\":0,\"ticks\":\"\"}}],\"scatter\":[{\"fillpattern\":{\"fillmode\":\"overlay\",\"size\":10,\"solidity\":0.2},\"type\":\"scatter\"}],\"parcoords\":[{\"type\":\"parcoords\",\"line\":{\"colorbar\":{\"outlinewidth\":0,\"ticks\":\"\"}}}],\"scatterpolargl\":[{\"type\":\"scatterpolargl\",\"marker\":{\"colorbar\":{\"outlinewidth\":0,\"ticks\":\"\"}}}],\"bar\":[{\"error_x\":{\"color\":\"#2a3f5f\"},\"error_y\":{\"color\":\"#2a3f5f\"},\"marker\":{\"line\":{\"color\":\"#E5ECF6\",\"width\":0.5},\"pattern\":{\"fillmode\":\"overlay\",\"size\":10,\"solidity\":0.2}},\"type\":\"bar\"}],\"scattergeo\":[{\"type\":\"scattergeo\",\"marker\":{\"colorbar\":{\"outlinewidth\":0,\"ticks\":\"\"}}}],\"scatterpolar\":[{\"type\":\"scatterpolar\",\"marker\":{\"colorbar\":{\"outlinewidth\":0,\"ticks\":\"\"}}}],\"histogram\":[{\"marker\":{\"pattern\":{\"fillmode\":\"overlay\",\"size\":10,\"solidity\":0.2}},\"type\":\"histogram\"}],\"scattergl\":[{\"type\":\"scattergl\",\"marker\":{\"colorbar\":{\"outlinewidth\":0,\"ticks\":\"\"}}}],\"scatter3d\":[{\"type\":\"scatter3d\",\"line\":{\"colorbar\":{\"outlinewidth\":0,\"ticks\":\"\"}},\"marker\":{\"colorbar\":{\"outlinewidth\":0,\"ticks\":\"\"}}}],\"scattermapbox\":[{\"type\":\"scattermapbox\",\"marker\":{\"colorbar\":{\"outlinewidth\":0,\"ticks\":\"\"}}}],\"scatterternary\":[{\"type\":\"scatterternary\",\"marker\":{\"colorbar\":{\"outlinewidth\":0,\"ticks\":\"\"}}}],\"scattercarpet\":[{\"type\":\"scattercarpet\",\"marker\":{\"colorbar\":{\"outlinewidth\":0,\"ticks\":\"\"}}}],\"carpet\":[{\"aaxis\":{\"endlinecolor\":\"#2a3f5f\",\"gridcolor\":\"white\",\"linecolor\":\"white\",\"minorgridcolor\":\"white\",\"startlinecolor\":\"#2a3f5f\"},\"baxis\":{\"endlinecolor\":\"#2a3f5f\",\"gridcolor\":\"white\",\"linecolor\":\"white\",\"minorgridcolor\":\"white\",\"startlinecolor\":\"#2a3f5f\"},\"type\":\"carpet\"}],\"table\":[{\"cells\":{\"fill\":{\"color\":\"#EBF0F8\"},\"line\":{\"color\":\"white\"}},\"header\":{\"fill\":{\"color\":\"#C8D4E3\"},\"line\":{\"color\":\"white\"}},\"type\":\"table\"}],\"barpolar\":[{\"marker\":{\"line\":{\"color\":\"#E5ECF6\",\"width\":0.5},\"pattern\":{\"fillmode\":\"overlay\",\"size\":10,\"solidity\":0.2}},\"type\":\"barpolar\"}],\"pie\":[{\"automargin\":true,\"type\":\"pie\"}]},\"layout\":{\"autotypenumbers\":\"strict\",\"colorway\":[\"#636efa\",\"#EF553B\",\"#00cc96\",\"#ab63fa\",\"#FFA15A\",\"#19d3f3\",\"#FF6692\",\"#B6E880\",\"#FF97FF\",\"#FECB52\"],\"font\":{\"color\":\"#2a3f5f\"},\"hovermode\":\"closest\",\"hoverlabel\":{\"align\":\"left\"},\"paper_bgcolor\":\"white\",\"plot_bgcolor\":\"#E5ECF6\",\"polar\":{\"bgcolor\":\"#E5ECF6\",\"angularaxis\":{\"gridcolor\":\"white\",\"linecolor\":\"white\",\"ticks\":\"\"},\"radialaxis\":{\"gridcolor\":\"white\",\"linecolor\":\"white\",\"ticks\":\"\"}},\"ternary\":{\"bgcolor\":\"#E5ECF6\",\"aaxis\":{\"gridcolor\":\"white\",\"linecolor\":\"white\",\"ticks\":\"\"},\"baxis\":{\"gridcolor\":\"white\",\"linecolor\":\"white\",\"ticks\":\"\"},\"caxis\":{\"gridcolor\":\"white\",\"linecolor\":\"white\",\"ticks\":\"\"}},\"coloraxis\":{\"colorbar\":{\"outlinewidth\":0,\"ticks\":\"\"}},\"colorscale\":{\"sequential\":[[0.0,\"#0d0887\"],[0.1111111111111111,\"#46039f\"],[0.2222222222222222,\"#7201a8\"],[0.3333333333333333,\"#9c179e\"],[0.4444444444444444,\"#bd3786\"],[0.5555555555555556,\"#d8576b\"],[0.6666666666666666,\"#ed7953\"],[0.7777777777777778,\"#fb9f3a\"],[0.8888888888888888,\"#fdca26\"],[1.0,\"#f0f921\"]],\"sequentialminus\":[[0.0,\"#0d0887\"],[0.1111111111111111,\"#46039f\"],[0.2222222222222222,\"#7201a8\"],[0.3333333333333333,\"#9c179e\"],[0.4444444444444444,\"#bd3786\"],[0.5555555555555556,\"#d8576b\"],[0.6666666666666666,\"#ed7953\"],[0.7777777777777778,\"#fb9f3a\"],[0.8888888888888888,\"#fdca26\"],[1.0,\"#f0f921\"]],\"diverging\":[[0,\"#8e0152\"],[0.1,\"#c51b7d\"],[0.2,\"#de77ae\"],[0.3,\"#f1b6da\"],[0.4,\"#fde0ef\"],[0.5,\"#f7f7f7\"],[0.6,\"#e6f5d0\"],[0.7,\"#b8e186\"],[0.8,\"#7fbc41\"],[0.9,\"#4d9221\"],[1,\"#276419\"]]},\"xaxis\":{\"gridcolor\":\"white\",\"linecolor\":\"white\",\"ticks\":\"\",\"title\":{\"standoff\":15},\"zerolinecolor\":\"white\",\"automargin\":true,\"zerolinewidth\":2},\"yaxis\":{\"gridcolor\":\"white\",\"linecolor\":\"white\",\"ticks\":\"\",\"title\":{\"standoff\":15},\"zerolinecolor\":\"white\",\"automargin\":true,\"zerolinewidth\":2},\"scene\":{\"xaxis\":{\"backgroundcolor\":\"#E5ECF6\",\"gridcolor\":\"white\",\"linecolor\":\"white\",\"showbackground\":true,\"ticks\":\"\",\"zerolinecolor\":\"white\",\"gridwidth\":2},\"yaxis\":{\"backgroundcolor\":\"#E5ECF6\",\"gridcolor\":\"white\",\"linecolor\":\"white\",\"showbackground\":true,\"ticks\":\"\",\"zerolinecolor\":\"white\",\"gridwidth\":2},\"zaxis\":{\"backgroundcolor\":\"#E5ECF6\",\"gridcolor\":\"white\",\"linecolor\":\"white\",\"showbackground\":true,\"ticks\":\"\",\"zerolinecolor\":\"white\",\"gridwidth\":2}},\"shapedefaults\":{\"line\":{\"color\":\"#2a3f5f\"}},\"annotationdefaults\":{\"arrowcolor\":\"#2a3f5f\",\"arrowhead\":0,\"arrowwidth\":1},\"geo\":{\"bgcolor\":\"white\",\"landcolor\":\"#E5ECF6\",\"subunitcolor\":\"white\",\"showland\":true,\"showlakes\":true,\"lakecolor\":\"white\"},\"title\":{\"x\":0.05},\"mapbox\":{\"style\":\"light\"}}},\"xaxis\":{\"anchor\":\"y\",\"domain\":[0.0,1.0],\"matches\":\"x3\",\"showticklabels\":false},\"yaxis\":{\"anchor\":\"x\",\"domain\":[0.5333333333333333,1.0],\"gridcolor\":\"lightgrey\"},\"xaxis2\":{\"anchor\":\"y2\",\"domain\":[0.0,1.0],\"matches\":\"x3\",\"showticklabels\":false},\"yaxis2\":{\"anchor\":\"x2\",\"domain\":[0.26666666666666666,0.3666666666666667]},\"xaxis3\":{\"anchor\":\"y3\",\"domain\":[0.0,1.0]},\"yaxis3\":{\"anchor\":\"x3\",\"domain\":[0.0,0.1]},\"annotations\":[{\"font\":{\"size\":16},\"showarrow\":false,\"text\":\"Play\",\"x\":0.5,\"xanchor\":\"center\",\"xref\":\"paper\",\"y\":1.0,\"yanchor\":\"bottom\",\"yref\":\"paper\"},{\"font\":{\"size\":16},\"showarrow\":false,\"text\":\"Quantity\",\"x\":0.5,\"xanchor\":\"center\",\"xref\":\"paper\",\"y\":0.3666666666666667,\"yanchor\":\"bottom\",\"yref\":\"paper\"},{\"font\":{\"size\":16},\"showarrow\":false,\"text\":\"Reward\",\"x\":0.5,\"xanchor\":\"center\",\"xref\":\"paper\",\"y\":0.1,\"yanchor\":\"bottom\",\"yref\":\"paper\"}],\"plot_bgcolor\":\"white\",\"hovermode\":\"x\",\"showlegend\":false,\"shapes\":[{\"line\":{\"color\":\"green\",\"dash\":\"dot\",\"width\":2},\"type\":\"line\",\"x0\":7,\"x1\":7,\"y0\":112.21060943603516,\"y1\":459.7699890136719},{\"line\":{\"color\":\"green\",\"dash\":\"dot\",\"width\":2},\"type\":\"line\",\"x0\":9,\"x1\":9,\"y0\":112.21060943603516,\"y1\":459.7699890136719},{\"line\":{\"color\":\"green\",\"dash\":\"dot\",\"width\":2},\"type\":\"line\",\"x0\":10,\"x1\":10,\"y0\":112.21060943603516,\"y1\":459.7699890136719},{\"line\":{\"color\":\"green\",\"dash\":\"dot\",\"width\":2},\"type\":\"line\",\"x0\":16,\"x1\":16,\"y0\":112.21060943603516,\"y1\":459.7699890136719},{\"line\":{\"color\":\"green\",\"dash\":\"dot\",\"width\":2},\"type\":\"line\",\"x0\":17,\"x1\":17,\"y0\":112.21060943603516,\"y1\":459.7699890136719},{\"line\":{\"color\":\"green\",\"dash\":\"dot\",\"width\":2},\"type\":\"line\",\"x0\":19,\"x1\":19,\"y0\":112.21060943603516,\"y1\":459.7699890136719},{\"line\":{\"color\":\"green\",\"dash\":\"dot\",\"width\":2},\"type\":\"line\",\"x0\":25,\"x1\":25,\"y0\":112.21060943603516,\"y1\":459.7699890136719},{\"line\":{\"color\":\"green\",\"dash\":\"dot\",\"width\":2},\"type\":\"line\",\"x0\":27,\"x1\":27,\"y0\":112.21060943603516,\"y1\":459.7699890136719},{\"line\":{\"color\":\"green\",\"dash\":\"dot\",\"width\":2},\"type\":\"line\",\"x0\":28,\"x1\":28,\"y0\":112.21060943603516,\"y1\":459.7699890136719},{\"line\":{\"color\":\"green\",\"dash\":\"dot\",\"width\":2},\"type\":\"line\",\"x0\":30,\"x1\":30,\"y0\":112.21060943603516,\"y1\":459.7699890136719},{\"line\":{\"color\":\"green\",\"dash\":\"dot\",\"width\":2},\"type\":\"line\",\"x0\":34,\"x1\":34,\"y0\":112.21060943603516,\"y1\":459.7699890136719},{\"line\":{\"color\":\"green\",\"dash\":\"dot\",\"width\":2},\"type\":\"line\",\"x0\":37,\"x1\":37,\"y0\":112.21060943603516,\"y1\":459.7699890136719},{\"line\":{\"color\":\"green\",\"dash\":\"dot\",\"width\":2},\"type\":\"line\",\"x0\":39,\"x1\":39,\"y0\":112.21060943603516,\"y1\":459.7699890136719},{\"line\":{\"color\":\"green\",\"dash\":\"dot\",\"width\":2},\"type\":\"line\",\"x0\":40,\"x1\":40,\"y0\":112.21060943603516,\"y1\":459.7699890136719},{\"line\":{\"color\":\"green\",\"dash\":\"dot\",\"width\":2},\"type\":\"line\",\"x0\":46,\"x1\":46,\"y0\":112.21060943603516,\"y1\":459.7699890136719},{\"line\":{\"color\":\"green\",\"dash\":\"dot\",\"width\":2},\"type\":\"line\",\"x0\":52,\"x1\":52,\"y0\":112.21060943603516,\"y1\":459.7699890136719},{\"line\":{\"color\":\"green\",\"dash\":\"dot\",\"width\":2},\"type\":\"line\",\"x0\":53,\"x1\":53,\"y0\":112.21060943603516,\"y1\":459.7699890136719},{\"line\":{\"color\":\"green\",\"dash\":\"dot\",\"width\":2},\"type\":\"line\",\"x0\":56,\"x1\":56,\"y0\":112.21060943603516,\"y1\":459.7699890136719},{\"line\":{\"color\":\"green\",\"dash\":\"dot\",\"width\":2},\"type\":\"line\",\"x0\":57,\"x1\":57,\"y0\":112.21060943603516,\"y1\":459.7699890136719},{\"line\":{\"color\":\"green\",\"dash\":\"dot\",\"width\":2},\"type\":\"line\",\"x0\":58,\"x1\":58,\"y0\":112.21060943603516,\"y1\":459.7699890136719},{\"line\":{\"color\":\"green\",\"dash\":\"dot\",\"width\":2},\"type\":\"line\",\"x0\":59,\"x1\":59,\"y0\":112.21060943603516,\"y1\":459.7699890136719},{\"line\":{\"color\":\"green\",\"dash\":\"dot\",\"width\":2},\"type\":\"line\",\"x0\":60,\"x1\":60,\"y0\":112.21060943603516,\"y1\":459.7699890136719},{\"line\":{\"color\":\"green\",\"dash\":\"dot\",\"width\":2},\"type\":\"line\",\"x0\":65,\"x1\":65,\"y0\":112.21060943603516,\"y1\":459.7699890136719},{\"line\":{\"color\":\"green\",\"dash\":\"dot\",\"width\":2},\"type\":\"line\",\"x0\":66,\"x1\":66,\"y0\":112.21060943603516,\"y1\":459.7699890136719},{\"line\":{\"color\":\"green\",\"dash\":\"dot\",\"width\":2},\"type\":\"line\",\"x0\":67,\"x1\":67,\"y0\":112.21060943603516,\"y1\":459.7699890136719},{\"line\":{\"color\":\"green\",\"dash\":\"dot\",\"width\":2},\"type\":\"line\",\"x0\":69,\"x1\":69,\"y0\":112.21060943603516,\"y1\":459.7699890136719},{\"line\":{\"color\":\"green\",\"dash\":\"dot\",\"width\":2},\"type\":\"line\",\"x0\":70,\"x1\":70,\"y0\":112.21060943603516,\"y1\":459.7699890136719},{\"line\":{\"color\":\"green\",\"dash\":\"dot\",\"width\":2},\"type\":\"line\",\"x0\":72,\"x1\":72,\"y0\":112.21060943603516,\"y1\":459.7699890136719},{\"line\":{\"color\":\"green\",\"dash\":\"dot\",\"width\":2},\"type\":\"line\",\"x0\":73,\"x1\":73,\"y0\":112.21060943603516,\"y1\":459.7699890136719},{\"line\":{\"color\":\"green\",\"dash\":\"dot\",\"width\":2},\"type\":\"line\",\"x0\":77,\"x1\":77,\"y0\":112.21060943603516,\"y1\":459.7699890136719},{\"line\":{\"color\":\"green\",\"dash\":\"dot\",\"width\":2},\"type\":\"line\",\"x0\":79,\"x1\":79,\"y0\":112.21060943603516,\"y1\":459.7699890136719},{\"line\":{\"color\":\"green\",\"dash\":\"dot\",\"width\":2},\"type\":\"line\",\"x0\":82,\"x1\":82,\"y0\":112.21060943603516,\"y1\":459.7699890136719},{\"line\":{\"color\":\"green\",\"dash\":\"dot\",\"width\":2},\"type\":\"line\",\"x0\":86,\"x1\":86,\"y0\":112.21060943603516,\"y1\":459.7699890136719},{\"line\":{\"color\":\"green\",\"dash\":\"dot\",\"width\":2},\"type\":\"line\",\"x0\":88,\"x1\":88,\"y0\":112.21060943603516,\"y1\":459.7699890136719},{\"line\":{\"color\":\"green\",\"dash\":\"dot\",\"width\":2},\"type\":\"line\",\"x0\":95,\"x1\":95,\"y0\":112.21060943603516,\"y1\":459.7699890136719},{\"line\":{\"color\":\"green\",\"dash\":\"dot\",\"width\":2},\"type\":\"line\",\"x0\":99,\"x1\":99,\"y0\":112.21060943603516,\"y1\":459.7699890136719},{\"line\":{\"color\":\"green\",\"dash\":\"dot\",\"width\":2},\"type\":\"line\",\"x0\":104,\"x1\":104,\"y0\":112.21060943603516,\"y1\":459.7699890136719},{\"line\":{\"color\":\"green\",\"dash\":\"dot\",\"width\":2},\"type\":\"line\",\"x0\":108,\"x1\":108,\"y0\":112.21060943603516,\"y1\":459.7699890136719},{\"line\":{\"color\":\"green\",\"dash\":\"dot\",\"width\":2},\"type\":\"line\",\"x0\":111,\"x1\":111,\"y0\":112.21060943603516,\"y1\":459.7699890136719},{\"line\":{\"color\":\"green\",\"dash\":\"dot\",\"width\":2},\"type\":\"line\",\"x0\":112,\"x1\":112,\"y0\":112.21060943603516,\"y1\":459.7699890136719},{\"line\":{\"color\":\"green\",\"dash\":\"dot\",\"width\":2},\"type\":\"line\",\"x0\":114,\"x1\":114,\"y0\":112.21060943603516,\"y1\":459.7699890136719},{\"line\":{\"color\":\"green\",\"dash\":\"dot\",\"width\":2},\"type\":\"line\",\"x0\":119,\"x1\":119,\"y0\":112.21060943603516,\"y1\":459.7699890136719},{\"line\":{\"color\":\"green\",\"dash\":\"dot\",\"width\":2},\"type\":\"line\",\"x0\":121,\"x1\":121,\"y0\":112.21060943603516,\"y1\":459.7699890136719},{\"line\":{\"color\":\"green\",\"dash\":\"dot\",\"width\":2},\"type\":\"line\",\"x0\":122,\"x1\":122,\"y0\":112.21060943603516,\"y1\":459.7699890136719},{\"line\":{\"color\":\"green\",\"dash\":\"dot\",\"width\":2},\"type\":\"line\",\"x0\":126,\"x1\":126,\"y0\":112.21060943603516,\"y1\":459.7699890136719},{\"line\":{\"color\":\"green\",\"dash\":\"dot\",\"width\":2},\"type\":\"line\",\"x0\":128,\"x1\":128,\"y0\":112.21060943603516,\"y1\":459.7699890136719},{\"line\":{\"color\":\"green\",\"dash\":\"dot\",\"width\":2},\"type\":\"line\",\"x0\":130,\"x1\":130,\"y0\":112.21060943603516,\"y1\":459.7699890136719},{\"line\":{\"color\":\"green\",\"dash\":\"dot\",\"width\":2},\"type\":\"line\",\"x0\":136,\"x1\":136,\"y0\":112.21060943603516,\"y1\":459.7699890136719},{\"line\":{\"color\":\"green\",\"dash\":\"dot\",\"width\":2},\"type\":\"line\",\"x0\":138,\"x1\":138,\"y0\":112.21060943603516,\"y1\":459.7699890136719},{\"line\":{\"color\":\"green\",\"dash\":\"dot\",\"width\":2},\"type\":\"line\",\"x0\":140,\"x1\":140,\"y0\":112.21060943603516,\"y1\":459.7699890136719},{\"line\":{\"color\":\"green\",\"dash\":\"dot\",\"width\":2},\"type\":\"line\",\"x0\":143,\"x1\":143,\"y0\":112.21060943603516,\"y1\":459.7699890136719},{\"line\":{\"color\":\"green\",\"dash\":\"dot\",\"width\":2},\"type\":\"line\",\"x0\":146,\"x1\":146,\"y0\":112.21060943603516,\"y1\":459.7699890136719},{\"line\":{\"color\":\"green\",\"dash\":\"dot\",\"width\":2},\"type\":\"line\",\"x0\":149,\"x1\":149,\"y0\":112.21060943603516,\"y1\":459.7699890136719},{\"line\":{\"color\":\"green\",\"dash\":\"dot\",\"width\":2},\"type\":\"line\",\"x0\":151,\"x1\":151,\"y0\":112.21060943603516,\"y1\":459.7699890136719},{\"line\":{\"color\":\"green\",\"dash\":\"dot\",\"width\":2},\"type\":\"line\",\"x0\":157,\"x1\":157,\"y0\":112.21060943603516,\"y1\":459.7699890136719},{\"line\":{\"color\":\"green\",\"dash\":\"dot\",\"width\":2},\"type\":\"line\",\"x0\":158,\"x1\":158,\"y0\":112.21060943603516,\"y1\":459.7699890136719},{\"line\":{\"color\":\"green\",\"dash\":\"dot\",\"width\":2},\"type\":\"line\",\"x0\":159,\"x1\":159,\"y0\":112.21060943603516,\"y1\":459.7699890136719},{\"line\":{\"color\":\"green\",\"dash\":\"dot\",\"width\":2},\"type\":\"line\",\"x0\":167,\"x1\":167,\"y0\":112.21060943603516,\"y1\":459.7699890136719},{\"line\":{\"color\":\"green\",\"dash\":\"dot\",\"width\":2},\"type\":\"line\",\"x0\":168,\"x1\":168,\"y0\":112.21060943603516,\"y1\":459.7699890136719},{\"line\":{\"color\":\"green\",\"dash\":\"dot\",\"width\":2},\"type\":\"line\",\"x0\":169,\"x1\":169,\"y0\":112.21060943603516,\"y1\":459.7699890136719},{\"line\":{\"color\":\"green\",\"dash\":\"dot\",\"width\":2},\"type\":\"line\",\"x0\":184,\"x1\":184,\"y0\":112.21060943603516,\"y1\":459.7699890136719},{\"line\":{\"color\":\"green\",\"dash\":\"dot\",\"width\":2},\"type\":\"line\",\"x0\":185,\"x1\":185,\"y0\":112.21060943603516,\"y1\":459.7699890136719},{\"line\":{\"color\":\"green\",\"dash\":\"dot\",\"width\":2},\"type\":\"line\",\"x0\":188,\"x1\":188,\"y0\":112.21060943603516,\"y1\":459.7699890136719},{\"line\":{\"color\":\"green\",\"dash\":\"dot\",\"width\":2},\"type\":\"line\",\"x0\":189,\"x1\":189,\"y0\":112.21060943603516,\"y1\":459.7699890136719},{\"line\":{\"color\":\"green\",\"dash\":\"dot\",\"width\":2},\"type\":\"line\",\"x0\":190,\"x1\":190,\"y0\":112.21060943603516,\"y1\":459.7699890136719},{\"line\":{\"color\":\"green\",\"dash\":\"dot\",\"width\":2},\"type\":\"line\",\"x0\":195,\"x1\":195,\"y0\":112.21060943603516,\"y1\":459.7699890136719},{\"line\":{\"color\":\"green\",\"dash\":\"dot\",\"width\":2},\"type\":\"line\",\"x0\":200,\"x1\":200,\"y0\":112.21060943603516,\"y1\":459.7699890136719},{\"line\":{\"color\":\"green\",\"dash\":\"dot\",\"width\":2},\"type\":\"line\",\"x0\":205,\"x1\":205,\"y0\":112.21060943603516,\"y1\":459.7699890136719},{\"line\":{\"color\":\"green\",\"dash\":\"dot\",\"width\":2},\"type\":\"line\",\"x0\":207,\"x1\":207,\"y0\":112.21060943603516,\"y1\":459.7699890136719},{\"line\":{\"color\":\"green\",\"dash\":\"dot\",\"width\":2},\"type\":\"line\",\"x0\":211,\"x1\":211,\"y0\":112.21060943603516,\"y1\":459.7699890136719},{\"line\":{\"color\":\"green\",\"dash\":\"dot\",\"width\":2},\"type\":\"line\",\"x0\":217,\"x1\":217,\"y0\":112.21060943603516,\"y1\":459.7699890136719},{\"line\":{\"color\":\"green\",\"dash\":\"dot\",\"width\":2},\"type\":\"line\",\"x0\":220,\"x1\":220,\"y0\":112.21060943603516,\"y1\":459.7699890136719},{\"line\":{\"color\":\"green\",\"dash\":\"dot\",\"width\":2},\"type\":\"line\",\"x0\":230,\"x1\":230,\"y0\":112.21060943603516,\"y1\":459.7699890136719},{\"line\":{\"color\":\"green\",\"dash\":\"dot\",\"width\":2},\"type\":\"line\",\"x0\":234,\"x1\":234,\"y0\":112.21060943603516,\"y1\":459.7699890136719},{\"line\":{\"color\":\"green\",\"dash\":\"dot\",\"width\":2},\"type\":\"line\",\"x0\":238,\"x1\":238,\"y0\":112.21060943603516,\"y1\":459.7699890136719},{\"line\":{\"color\":\"green\",\"dash\":\"dot\",\"width\":2},\"type\":\"line\",\"x0\":240,\"x1\":240,\"y0\":112.21060943603516,\"y1\":459.7699890136719},{\"line\":{\"color\":\"green\",\"dash\":\"dot\",\"width\":2},\"type\":\"line\",\"x0\":241,\"x1\":241,\"y0\":112.21060943603516,\"y1\":459.7699890136719},{\"line\":{\"color\":\"green\",\"dash\":\"dot\",\"width\":2},\"type\":\"line\",\"x0\":6,\"x1\":6,\"y0\":112.21060943603516,\"y1\":459.7699890136719},{\"line\":{\"color\":\"green\",\"dash\":\"dot\",\"width\":2},\"type\":\"line\",\"x0\":11,\"x1\":11,\"y0\":112.21060943603516,\"y1\":459.7699890136719},{\"line\":{\"color\":\"green\",\"dash\":\"dot\",\"width\":2},\"type\":\"line\",\"x0\":13,\"x1\":13,\"y0\":112.21060943603516,\"y1\":459.7699890136719},{\"line\":{\"color\":\"green\",\"dash\":\"dot\",\"width\":2},\"type\":\"line\",\"x0\":14,\"x1\":14,\"y0\":112.21060943603516,\"y1\":459.7699890136719},{\"line\":{\"color\":\"green\",\"dash\":\"dot\",\"width\":2},\"type\":\"line\",\"x0\":16,\"x1\":16,\"y0\":112.21060943603516,\"y1\":459.7699890136719},{\"line\":{\"color\":\"green\",\"dash\":\"dot\",\"width\":2},\"type\":\"line\",\"x0\":17,\"x1\":17,\"y0\":112.21060943603516,\"y1\":459.7699890136719},{\"line\":{\"color\":\"green\",\"dash\":\"dot\",\"width\":2},\"type\":\"line\",\"x0\":20,\"x1\":20,\"y0\":112.21060943603516,\"y1\":459.7699890136719},{\"line\":{\"color\":\"green\",\"dash\":\"dot\",\"width\":2},\"type\":\"line\",\"x0\":24,\"x1\":24,\"y0\":112.21060943603516,\"y1\":459.7699890136719},{\"line\":{\"color\":\"green\",\"dash\":\"dot\",\"width\":2},\"type\":\"line\",\"x0\":27,\"x1\":27,\"y0\":112.21060943603516,\"y1\":459.7699890136719},{\"line\":{\"color\":\"green\",\"dash\":\"dot\",\"width\":2},\"type\":\"line\",\"x0\":29,\"x1\":29,\"y0\":112.21060943603516,\"y1\":459.7699890136719},{\"line\":{\"color\":\"green\",\"dash\":\"dot\",\"width\":2},\"type\":\"line\",\"x0\":30,\"x1\":30,\"y0\":112.21060943603516,\"y1\":459.7699890136719},{\"line\":{\"color\":\"green\",\"dash\":\"dot\",\"width\":2},\"type\":\"line\",\"x0\":33,\"x1\":33,\"y0\":112.21060943603516,\"y1\":459.7699890136719},{\"line\":{\"color\":\"green\",\"dash\":\"dot\",\"width\":2},\"type\":\"line\",\"x0\":35,\"x1\":35,\"y0\":112.21060943603516,\"y1\":459.7699890136719},{\"line\":{\"color\":\"green\",\"dash\":\"dot\",\"width\":2},\"type\":\"line\",\"x0\":37,\"x1\":37,\"y0\":112.21060943603516,\"y1\":459.7699890136719},{\"line\":{\"color\":\"green\",\"dash\":\"dot\",\"width\":2},\"type\":\"line\",\"x0\":41,\"x1\":41,\"y0\":112.21060943603516,\"y1\":459.7699890136719},{\"line\":{\"color\":\"green\",\"dash\":\"dot\",\"width\":2},\"type\":\"line\",\"x0\":44,\"x1\":44,\"y0\":112.21060943603516,\"y1\":459.7699890136719},{\"line\":{\"color\":\"green\",\"dash\":\"dot\",\"width\":2},\"type\":\"line\",\"x0\":46,\"x1\":46,\"y0\":112.21060943603516,\"y1\":459.7699890136719},{\"line\":{\"color\":\"green\",\"dash\":\"dot\",\"width\":2},\"type\":\"line\",\"x0\":48,\"x1\":48,\"y0\":112.21060943603516,\"y1\":459.7699890136719},{\"line\":{\"color\":\"green\",\"dash\":\"dot\",\"width\":2},\"type\":\"line\",\"x0\":50,\"x1\":50,\"y0\":112.21060943603516,\"y1\":459.7699890136719},{\"line\":{\"color\":\"green\",\"dash\":\"dot\",\"width\":2},\"type\":\"line\",\"x0\":51,\"x1\":51,\"y0\":112.21060943603516,\"y1\":459.7699890136719},{\"line\":{\"color\":\"green\",\"dash\":\"dot\",\"width\":2},\"type\":\"line\",\"x0\":54,\"x1\":54,\"y0\":112.21060943603516,\"y1\":459.7699890136719},{\"line\":{\"color\":\"green\",\"dash\":\"dot\",\"width\":2},\"type\":\"line\",\"x0\":62,\"x1\":62,\"y0\":112.21060943603516,\"y1\":459.7699890136719},{\"line\":{\"color\":\"green\",\"dash\":\"dot\",\"width\":2},\"type\":\"line\",\"x0\":65,\"x1\":65,\"y0\":112.21060943603516,\"y1\":459.7699890136719},{\"line\":{\"color\":\"green\",\"dash\":\"dot\",\"width\":2},\"type\":\"line\",\"x0\":69,\"x1\":69,\"y0\":112.21060943603516,\"y1\":459.7699890136719},{\"line\":{\"color\":\"green\",\"dash\":\"dot\",\"width\":2},\"type\":\"line\",\"x0\":70,\"x1\":70,\"y0\":112.21060943603516,\"y1\":459.7699890136719},{\"line\":{\"color\":\"green\",\"dash\":\"dot\",\"width\":2},\"type\":\"line\",\"x0\":75,\"x1\":75,\"y0\":112.21060943603516,\"y1\":459.7699890136719},{\"line\":{\"color\":\"green\",\"dash\":\"dot\",\"width\":2},\"type\":\"line\",\"x0\":76,\"x1\":76,\"y0\":112.21060943603516,\"y1\":459.7699890136719},{\"line\":{\"color\":\"green\",\"dash\":\"dot\",\"width\":2},\"type\":\"line\",\"x0\":77,\"x1\":77,\"y0\":112.21060943603516,\"y1\":459.7699890136719},{\"line\":{\"color\":\"green\",\"dash\":\"dot\",\"width\":2},\"type\":\"line\",\"x0\":81,\"x1\":81,\"y0\":112.21060943603516,\"y1\":459.7699890136719},{\"line\":{\"color\":\"green\",\"dash\":\"dot\",\"width\":2},\"type\":\"line\",\"x0\":84,\"x1\":84,\"y0\":112.21060943603516,\"y1\":459.7699890136719},{\"line\":{\"color\":\"green\",\"dash\":\"dot\",\"width\":2},\"type\":\"line\",\"x0\":86,\"x1\":86,\"y0\":112.21060943603516,\"y1\":459.7699890136719},{\"line\":{\"color\":\"green\",\"dash\":\"dot\",\"width\":2},\"type\":\"line\",\"x0\":89,\"x1\":89,\"y0\":112.21060943603516,\"y1\":459.7699890136719},{\"line\":{\"color\":\"green\",\"dash\":\"dot\",\"width\":2},\"type\":\"line\",\"x0\":94,\"x1\":94,\"y0\":112.21060943603516,\"y1\":459.7699890136719},{\"line\":{\"color\":\"green\",\"dash\":\"dot\",\"width\":2},\"type\":\"line\",\"x0\":95,\"x1\":95,\"y0\":112.21060943603516,\"y1\":459.7699890136719},{\"line\":{\"color\":\"green\",\"dash\":\"dot\",\"width\":2},\"type\":\"line\",\"x0\":100,\"x1\":100,\"y0\":112.21060943603516,\"y1\":459.7699890136719},{\"line\":{\"color\":\"green\",\"dash\":\"dot\",\"width\":2},\"type\":\"line\",\"x0\":102,\"x1\":102,\"y0\":112.21060943603516,\"y1\":459.7699890136719},{\"line\":{\"color\":\"green\",\"dash\":\"dot\",\"width\":2},\"type\":\"line\",\"x0\":104,\"x1\":104,\"y0\":112.21060943603516,\"y1\":459.7699890136719},{\"line\":{\"color\":\"green\",\"dash\":\"dot\",\"width\":2},\"type\":\"line\",\"x0\":107,\"x1\":107,\"y0\":112.21060943603516,\"y1\":459.7699890136719},{\"line\":{\"color\":\"green\",\"dash\":\"dot\",\"width\":2},\"type\":\"line\",\"x0\":108,\"x1\":108,\"y0\":112.21060943603516,\"y1\":459.7699890136719},{\"line\":{\"color\":\"green\",\"dash\":\"dot\",\"width\":2},\"type\":\"line\",\"x0\":109,\"x1\":109,\"y0\":112.21060943603516,\"y1\":459.7699890136719},{\"line\":{\"color\":\"green\",\"dash\":\"dot\",\"width\":2},\"type\":\"line\",\"x0\":111,\"x1\":111,\"y0\":112.21060943603516,\"y1\":459.7699890136719},{\"line\":{\"color\":\"green\",\"dash\":\"dot\",\"width\":2},\"type\":\"line\",\"x0\":113,\"x1\":113,\"y0\":112.21060943603516,\"y1\":459.7699890136719},{\"line\":{\"color\":\"green\",\"dash\":\"dot\",\"width\":2},\"type\":\"line\",\"x0\":116,\"x1\":116,\"y0\":112.21060943603516,\"y1\":459.7699890136719},{\"line\":{\"color\":\"green\",\"dash\":\"dot\",\"width\":2},\"type\":\"line\",\"x0\":120,\"x1\":120,\"y0\":112.21060943603516,\"y1\":459.7699890136719},{\"line\":{\"color\":\"green\",\"dash\":\"dot\",\"width\":2},\"type\":\"line\",\"x0\":121,\"x1\":121,\"y0\":112.21060943603516,\"y1\":459.7699890136719},{\"line\":{\"color\":\"green\",\"dash\":\"dot\",\"width\":2},\"type\":\"line\",\"x0\":131,\"x1\":131,\"y0\":112.21060943603516,\"y1\":459.7699890136719},{\"line\":{\"color\":\"green\",\"dash\":\"dot\",\"width\":2},\"type\":\"line\",\"x0\":139,\"x1\":139,\"y0\":112.21060943603516,\"y1\":459.7699890136719},{\"line\":{\"color\":\"green\",\"dash\":\"dot\",\"width\":2},\"type\":\"line\",\"x0\":142,\"x1\":142,\"y0\":112.21060943603516,\"y1\":459.7699890136719},{\"line\":{\"color\":\"green\",\"dash\":\"dot\",\"width\":2},\"type\":\"line\",\"x0\":145,\"x1\":145,\"y0\":112.21060943603516,\"y1\":459.7699890136719},{\"line\":{\"color\":\"green\",\"dash\":\"dot\",\"width\":2},\"type\":\"line\",\"x0\":147,\"x1\":147,\"y0\":112.21060943603516,\"y1\":459.7699890136719},{\"line\":{\"color\":\"green\",\"dash\":\"dot\",\"width\":2},\"type\":\"line\",\"x0\":148,\"x1\":148,\"y0\":112.21060943603516,\"y1\":459.7699890136719},{\"line\":{\"color\":\"green\",\"dash\":\"dot\",\"width\":2},\"type\":\"line\",\"x0\":152,\"x1\":152,\"y0\":112.21060943603516,\"y1\":459.7699890136719},{\"line\":{\"color\":\"green\",\"dash\":\"dot\",\"width\":2},\"type\":\"line\",\"x0\":153,\"x1\":153,\"y0\":112.21060943603516,\"y1\":459.7699890136719},{\"line\":{\"color\":\"green\",\"dash\":\"dot\",\"width\":2},\"type\":\"line\",\"x0\":162,\"x1\":162,\"y0\":112.21060943603516,\"y1\":459.7699890136719},{\"line\":{\"color\":\"green\",\"dash\":\"dot\",\"width\":2},\"type\":\"line\",\"x0\":163,\"x1\":163,\"y0\":112.21060943603516,\"y1\":459.7699890136719},{\"line\":{\"color\":\"green\",\"dash\":\"dot\",\"width\":2},\"type\":\"line\",\"x0\":164,\"x1\":164,\"y0\":112.21060943603516,\"y1\":459.7699890136719},{\"line\":{\"color\":\"green\",\"dash\":\"dot\",\"width\":2},\"type\":\"line\",\"x0\":165,\"x1\":165,\"y0\":112.21060943603516,\"y1\":459.7699890136719},{\"line\":{\"color\":\"green\",\"dash\":\"dot\",\"width\":2},\"type\":\"line\",\"x0\":166,\"x1\":166,\"y0\":112.21060943603516,\"y1\":459.7699890136719},{\"line\":{\"color\":\"green\",\"dash\":\"dot\",\"width\":2},\"type\":\"line\",\"x0\":168,\"x1\":168,\"y0\":112.21060943603516,\"y1\":459.7699890136719},{\"line\":{\"color\":\"green\",\"dash\":\"dot\",\"width\":2},\"type\":\"line\",\"x0\":176,\"x1\":176,\"y0\":112.21060943603516,\"y1\":459.7699890136719},{\"line\":{\"color\":\"green\",\"dash\":\"dot\",\"width\":2},\"type\":\"line\",\"x0\":180,\"x1\":180,\"y0\":112.21060943603516,\"y1\":459.7699890136719},{\"line\":{\"color\":\"green\",\"dash\":\"dot\",\"width\":2},\"type\":\"line\",\"x0\":181,\"x1\":181,\"y0\":112.21060943603516,\"y1\":459.7699890136719},{\"line\":{\"color\":\"green\",\"dash\":\"dot\",\"width\":2},\"type\":\"line\",\"x0\":183,\"x1\":183,\"y0\":112.21060943603516,\"y1\":459.7699890136719},{\"line\":{\"color\":\"green\",\"dash\":\"dot\",\"width\":2},\"type\":\"line\",\"x0\":187,\"x1\":187,\"y0\":112.21060943603516,\"y1\":459.7699890136719},{\"line\":{\"color\":\"green\",\"dash\":\"dot\",\"width\":2},\"type\":\"line\",\"x0\":193,\"x1\":193,\"y0\":112.21060943603516,\"y1\":459.7699890136719},{\"line\":{\"color\":\"green\",\"dash\":\"dot\",\"width\":2},\"type\":\"line\",\"x0\":195,\"x1\":195,\"y0\":112.21060943603516,\"y1\":459.7699890136719},{\"line\":{\"color\":\"green\",\"dash\":\"dot\",\"width\":2},\"type\":\"line\",\"x0\":203,\"x1\":203,\"y0\":112.21060943603516,\"y1\":459.7699890136719},{\"line\":{\"color\":\"green\",\"dash\":\"dot\",\"width\":2},\"type\":\"line\",\"x0\":205,\"x1\":205,\"y0\":112.21060943603516,\"y1\":459.7699890136719},{\"line\":{\"color\":\"green\",\"dash\":\"dot\",\"width\":2},\"type\":\"line\",\"x0\":211,\"x1\":211,\"y0\":112.21060943603516,\"y1\":459.7699890136719},{\"line\":{\"color\":\"green\",\"dash\":\"dot\",\"width\":2},\"type\":\"line\",\"x0\":213,\"x1\":213,\"y0\":112.21060943603516,\"y1\":459.7699890136719},{\"line\":{\"color\":\"green\",\"dash\":\"dot\",\"width\":2},\"type\":\"line\",\"x0\":214,\"x1\":214,\"y0\":112.21060943603516,\"y1\":459.7699890136719},{\"line\":{\"color\":\"green\",\"dash\":\"dot\",\"width\":2},\"type\":\"line\",\"x0\":216,\"x1\":216,\"y0\":112.21060943603516,\"y1\":459.7699890136719},{\"line\":{\"color\":\"green\",\"dash\":\"dot\",\"width\":2},\"type\":\"line\",\"x0\":224,\"x1\":224,\"y0\":112.21060943603516,\"y1\":459.7699890136719},{\"line\":{\"color\":\"green\",\"dash\":\"dot\",\"width\":2},\"type\":\"line\",\"x0\":225,\"x1\":225,\"y0\":112.21060943603516,\"y1\":459.7699890136719},{\"line\":{\"color\":\"green\",\"dash\":\"dot\",\"width\":2},\"type\":\"line\",\"x0\":226,\"x1\":226,\"y0\":112.21060943603516,\"y1\":459.7699890136719},{\"line\":{\"color\":\"green\",\"dash\":\"dot\",\"width\":2},\"type\":\"line\",\"x0\":229,\"x1\":229,\"y0\":112.21060943603516,\"y1\":459.7699890136719},{\"line\":{\"color\":\"green\",\"dash\":\"dot\",\"width\":2},\"type\":\"line\",\"x0\":230,\"x1\":230,\"y0\":112.21060943603516,\"y1\":459.7699890136719},{\"line\":{\"color\":\"green\",\"dash\":\"dot\",\"width\":2},\"type\":\"line\",\"x0\":233,\"x1\":233,\"y0\":112.21060943603516,\"y1\":459.7699890136719},{\"line\":{\"color\":\"green\",\"dash\":\"dot\",\"width\":2},\"type\":\"line\",\"x0\":237,\"x1\":237,\"y0\":112.21060943603516,\"y1\":459.7699890136719},{\"line\":{\"color\":\"green\",\"dash\":\"dot\",\"width\":2},\"type\":\"line\",\"x0\":242,\"x1\":242,\"y0\":112.21060943603516,\"y1\":459.7699890136719},{\"line\":{\"color\":\"green\",\"dash\":\"dot\",\"width\":2},\"type\":\"line\",\"x0\":244,\"x1\":244,\"y0\":112.21060943603516,\"y1\":459.7699890136719},{\"line\":{\"color\":\"green\",\"dash\":\"dot\",\"width\":2},\"type\":\"line\",\"x0\":245,\"x1\":245,\"y0\":112.21060943603516,\"y1\":459.7699890136719},{\"line\":{\"color\":\"orange\",\"dash\":\"dot\",\"width\":2},\"type\":\"line\",\"x0\":11,\"x1\":11,\"y0\":112.21060943603516,\"y1\":459.7699890136719},{\"line\":{\"color\":\"orange\",\"dash\":\"dot\",\"width\":2},\"type\":\"line\",\"x0\":18,\"x1\":18,\"y0\":112.21060943603516,\"y1\":459.7699890136719},{\"line\":{\"color\":\"orange\",\"dash\":\"dot\",\"width\":2},\"type\":\"line\",\"x0\":20,\"x1\":20,\"y0\":112.21060943603516,\"y1\":459.7699890136719},{\"line\":{\"color\":\"orange\",\"dash\":\"dot\",\"width\":2},\"type\":\"line\",\"x0\":26,\"x1\":26,\"y0\":112.21060943603516,\"y1\":459.7699890136719},{\"line\":{\"color\":\"orange\",\"dash\":\"dot\",\"width\":2},\"type\":\"line\",\"x0\":29,\"x1\":29,\"y0\":112.21060943603516,\"y1\":459.7699890136719},{\"line\":{\"color\":\"orange\",\"dash\":\"dot\",\"width\":2},\"type\":\"line\",\"x0\":31,\"x1\":31,\"y0\":112.21060943603516,\"y1\":459.7699890136719},{\"line\":{\"color\":\"orange\",\"dash\":\"dot\",\"width\":2},\"type\":\"line\",\"x0\":35,\"x1\":35,\"y0\":112.21060943603516,\"y1\":459.7699890136719},{\"line\":{\"color\":\"orange\",\"dash\":\"dot\",\"width\":2},\"type\":\"line\",\"x0\":38,\"x1\":38,\"y0\":112.21060943603516,\"y1\":459.7699890136719},{\"line\":{\"color\":\"orange\",\"dash\":\"dot\",\"width\":2},\"type\":\"line\",\"x0\":45,\"x1\":45,\"y0\":112.21060943603516,\"y1\":459.7699890136719},{\"line\":{\"color\":\"orange\",\"dash\":\"dot\",\"width\":2},\"type\":\"line\",\"x0\":48,\"x1\":48,\"y0\":112.21060943603516,\"y1\":459.7699890136719},{\"line\":{\"color\":\"orange\",\"dash\":\"dot\",\"width\":2},\"type\":\"line\",\"x0\":54,\"x1\":54,\"y0\":112.21060943603516,\"y1\":459.7699890136719},{\"line\":{\"color\":\"orange\",\"dash\":\"dot\",\"width\":2},\"type\":\"line\",\"x0\":61,\"x1\":61,\"y0\":112.21060943603516,\"y1\":459.7699890136719},{\"line\":{\"color\":\"orange\",\"dash\":\"dot\",\"width\":2},\"type\":\"line\",\"x0\":68,\"x1\":68,\"y0\":112.21060943603516,\"y1\":459.7699890136719},{\"line\":{\"color\":\"orange\",\"dash\":\"dot\",\"width\":2},\"type\":\"line\",\"x0\":71,\"x1\":71,\"y0\":112.21060943603516,\"y1\":459.7699890136719},{\"line\":{\"color\":\"orange\",\"dash\":\"dot\",\"width\":2},\"type\":\"line\",\"x0\":75,\"x1\":75,\"y0\":112.21060943603516,\"y1\":459.7699890136719},{\"line\":{\"color\":\"orange\",\"dash\":\"dot\",\"width\":2},\"type\":\"line\",\"x0\":78,\"x1\":78,\"y0\":112.21060943603516,\"y1\":459.7699890136719},{\"line\":{\"color\":\"orange\",\"dash\":\"dot\",\"width\":2},\"type\":\"line\",\"x0\":80,\"x1\":80,\"y0\":112.21060943603516,\"y1\":459.7699890136719},{\"line\":{\"color\":\"orange\",\"dash\":\"dot\",\"width\":2},\"type\":\"line\",\"x0\":83,\"x1\":83,\"y0\":112.21060943603516,\"y1\":459.7699890136719},{\"line\":{\"color\":\"orange\",\"dash\":\"dot\",\"width\":2},\"type\":\"line\",\"x0\":89,\"x1\":89,\"y0\":112.21060943603516,\"y1\":459.7699890136719},{\"line\":{\"color\":\"orange\",\"dash\":\"dot\",\"width\":2},\"type\":\"line\",\"x0\":97,\"x1\":97,\"y0\":112.21060943603516,\"y1\":459.7699890136719},{\"line\":{\"color\":\"orange\",\"dash\":\"dot\",\"width\":2},\"type\":\"line\",\"x0\":102,\"x1\":102,\"y0\":112.21060943603516,\"y1\":459.7699890136719},{\"line\":{\"color\":\"orange\",\"dash\":\"dot\",\"width\":2},\"type\":\"line\",\"x0\":107,\"x1\":107,\"y0\":112.21060943603516,\"y1\":459.7699890136719},{\"line\":{\"color\":\"orange\",\"dash\":\"dot\",\"width\":2},\"type\":\"line\",\"x0\":109,\"x1\":109,\"y0\":112.21060943603516,\"y1\":459.7699890136719},{\"line\":{\"color\":\"orange\",\"dash\":\"dot\",\"width\":2},\"type\":\"line\",\"x0\":113,\"x1\":113,\"y0\":112.21060943603516,\"y1\":459.7699890136719},{\"line\":{\"color\":\"orange\",\"dash\":\"dot\",\"width\":2},\"type\":\"line\",\"x0\":115,\"x1\":115,\"y0\":112.21060943603516,\"y1\":459.7699890136719},{\"line\":{\"color\":\"orange\",\"dash\":\"dot\",\"width\":2},\"type\":\"line\",\"x0\":124,\"x1\":124,\"y0\":112.21060943603516,\"y1\":459.7699890136719},{\"line\":{\"color\":\"orange\",\"dash\":\"dot\",\"width\":2},\"type\":\"line\",\"x0\":127,\"x1\":127,\"y0\":112.21060943603516,\"y1\":459.7699890136719},{\"line\":{\"color\":\"orange\",\"dash\":\"dot\",\"width\":2},\"type\":\"line\",\"x0\":129,\"x1\":129,\"y0\":112.21060943603516,\"y1\":459.7699890136719},{\"line\":{\"color\":\"orange\",\"dash\":\"dot\",\"width\":2},\"type\":\"line\",\"x0\":132,\"x1\":132,\"y0\":112.21060943603516,\"y1\":459.7699890136719},{\"line\":{\"color\":\"orange\",\"dash\":\"dot\",\"width\":2},\"type\":\"line\",\"x0\":139,\"x1\":139,\"y0\":112.21060943603516,\"y1\":459.7699890136719},{\"line\":{\"color\":\"orange\",\"dash\":\"dot\",\"width\":2},\"type\":\"line\",\"x0\":144,\"x1\":144,\"y0\":112.21060943603516,\"y1\":459.7699890136719},{\"line\":{\"color\":\"orange\",\"dash\":\"dot\",\"width\":2},\"type\":\"line\",\"x0\":147,\"x1\":147,\"y0\":112.21060943603516,\"y1\":459.7699890136719},{\"line\":{\"color\":\"orange\",\"dash\":\"dot\",\"width\":2},\"type\":\"line\",\"x0\":150,\"x1\":150,\"y0\":112.21060943603516,\"y1\":459.7699890136719},{\"line\":{\"color\":\"orange\",\"dash\":\"dot\",\"width\":2},\"type\":\"line\",\"x0\":152,\"x1\":152,\"y0\":112.21060943603516,\"y1\":459.7699890136719},{\"line\":{\"color\":\"orange\",\"dash\":\"dot\",\"width\":2},\"type\":\"line\",\"x0\":161,\"x1\":161,\"y0\":112.21060943603516,\"y1\":459.7699890136719},{\"line\":{\"color\":\"orange\",\"dash\":\"dot\",\"width\":2},\"type\":\"line\",\"x0\":170,\"x1\":170,\"y0\":112.21060943603516,\"y1\":459.7699890136719},{\"line\":{\"color\":\"orange\",\"dash\":\"dot\",\"width\":2},\"type\":\"line\",\"x0\":186,\"x1\":186,\"y0\":112.21060943603516,\"y1\":459.7699890136719},{\"line\":{\"color\":\"orange\",\"dash\":\"dot\",\"width\":2},\"type\":\"line\",\"x0\":192,\"x1\":192,\"y0\":112.21060943603516,\"y1\":459.7699890136719},{\"line\":{\"color\":\"orange\",\"dash\":\"dot\",\"width\":2},\"type\":\"line\",\"x0\":196,\"x1\":196,\"y0\":112.21060943603516,\"y1\":459.7699890136719},{\"line\":{\"color\":\"orange\",\"dash\":\"dot\",\"width\":2},\"type\":\"line\",\"x0\":201,\"x1\":201,\"y0\":112.21060943603516,\"y1\":459.7699890136719},{\"line\":{\"color\":\"orange\",\"dash\":\"dot\",\"width\":2},\"type\":\"line\",\"x0\":206,\"x1\":206,\"y0\":112.21060943603516,\"y1\":459.7699890136719},{\"line\":{\"color\":\"orange\",\"dash\":\"dot\",\"width\":2},\"type\":\"line\",\"x0\":208,\"x1\":208,\"y0\":112.21060943603516,\"y1\":459.7699890136719},{\"line\":{\"color\":\"orange\",\"dash\":\"dot\",\"width\":2},\"type\":\"line\",\"x0\":212,\"x1\":212,\"y0\":112.21060943603516,\"y1\":459.7699890136719},{\"line\":{\"color\":\"orange\",\"dash\":\"dot\",\"width\":2},\"type\":\"line\",\"x0\":225,\"x1\":225,\"y0\":112.21060943603516,\"y1\":459.7699890136719},{\"line\":{\"color\":\"orange\",\"dash\":\"dot\",\"width\":2},\"type\":\"line\",\"x0\":231,\"x1\":231,\"y0\":112.21060943603516,\"y1\":459.7699890136719},{\"line\":{\"color\":\"orange\",\"dash\":\"dot\",\"width\":2},\"type\":\"line\",\"x0\":235,\"x1\":235,\"y0\":112.21060943603516,\"y1\":459.7699890136719},{\"line\":{\"color\":\"orange\",\"dash\":\"dot\",\"width\":2},\"type\":\"line\",\"x0\":243,\"x1\":243,\"y0\":112.21060943603516,\"y1\":459.7699890136719},{\"line\":{\"color\":\"orange\",\"dash\":\"dot\",\"width\":2},\"type\":\"line\",\"x0\":7,\"x1\":7,\"y0\":112.21060943603516,\"y1\":459.7699890136719},{\"line\":{\"color\":\"orange\",\"dash\":\"dot\",\"width\":2},\"type\":\"line\",\"x0\":15,\"x1\":15,\"y0\":112.21060943603516,\"y1\":459.7699890136719},{\"line\":{\"color\":\"orange\",\"dash\":\"dot\",\"width\":2},\"type\":\"line\",\"x0\":18,\"x1\":18,\"y0\":112.21060943603516,\"y1\":459.7699890136719},{\"line\":{\"color\":\"orange\",\"dash\":\"dot\",\"width\":2},\"type\":\"line\",\"x0\":21,\"x1\":21,\"y0\":112.21060943603516,\"y1\":459.7699890136719},{\"line\":{\"color\":\"orange\",\"dash\":\"dot\",\"width\":2},\"type\":\"line\",\"x0\":26,\"x1\":26,\"y0\":112.21060943603516,\"y1\":459.7699890136719},{\"line\":{\"color\":\"orange\",\"dash\":\"dot\",\"width\":2},\"type\":\"line\",\"x0\":32,\"x1\":32,\"y0\":112.21060943603516,\"y1\":459.7699890136719},{\"line\":{\"color\":\"orange\",\"dash\":\"dot\",\"width\":2},\"type\":\"line\",\"x0\":34,\"x1\":34,\"y0\":112.21060943603516,\"y1\":459.7699890136719},{\"line\":{\"color\":\"orange\",\"dash\":\"dot\",\"width\":2},\"type\":\"line\",\"x0\":38,\"x1\":38,\"y0\":112.21060943603516,\"y1\":459.7699890136719},{\"line\":{\"color\":\"orange\",\"dash\":\"dot\",\"width\":2},\"type\":\"line\",\"x0\":42,\"x1\":42,\"y0\":112.21060943603516,\"y1\":459.7699890136719},{\"line\":{\"color\":\"orange\",\"dash\":\"dot\",\"width\":2},\"type\":\"line\",\"x0\":52,\"x1\":52,\"y0\":112.21060943603516,\"y1\":459.7699890136719},{\"line\":{\"color\":\"orange\",\"dash\":\"dot\",\"width\":2},\"type\":\"line\",\"x0\":55,\"x1\":55,\"y0\":112.21060943603516,\"y1\":459.7699890136719},{\"line\":{\"color\":\"orange\",\"dash\":\"dot\",\"width\":2},\"type\":\"line\",\"x0\":66,\"x1\":66,\"y0\":112.21060943603516,\"y1\":459.7699890136719},{\"line\":{\"color\":\"orange\",\"dash\":\"dot\",\"width\":2},\"type\":\"line\",\"x0\":71,\"x1\":71,\"y0\":112.21060943603516,\"y1\":459.7699890136719},{\"line\":{\"color\":\"orange\",\"dash\":\"dot\",\"width\":2},\"type\":\"line\",\"x0\":78,\"x1\":78,\"y0\":112.21060943603516,\"y1\":459.7699890136719},{\"line\":{\"color\":\"orange\",\"dash\":\"dot\",\"width\":2},\"type\":\"line\",\"x0\":82,\"x1\":82,\"y0\":112.21060943603516,\"y1\":459.7699890136719},{\"line\":{\"color\":\"orange\",\"dash\":\"dot\",\"width\":2},\"type\":\"line\",\"x0\":85,\"x1\":85,\"y0\":112.21060943603516,\"y1\":459.7699890136719},{\"line\":{\"color\":\"orange\",\"dash\":\"dot\",\"width\":2},\"type\":\"line\",\"x0\":88,\"x1\":88,\"y0\":112.21060943603516,\"y1\":459.7699890136719},{\"line\":{\"color\":\"orange\",\"dash\":\"dot\",\"width\":2},\"type\":\"line\",\"x0\":92,\"x1\":92,\"y0\":112.21060943603516,\"y1\":459.7699890136719},{\"line\":{\"color\":\"orange\",\"dash\":\"dot\",\"width\":2},\"type\":\"line\",\"x0\":96,\"x1\":96,\"y0\":112.21060943603516,\"y1\":459.7699890136719},{\"line\":{\"color\":\"orange\",\"dash\":\"dot\",\"width\":2},\"type\":\"line\",\"x0\":106,\"x1\":106,\"y0\":112.21060943603516,\"y1\":459.7699890136719},{\"line\":{\"color\":\"orange\",\"dash\":\"dot\",\"width\":2},\"type\":\"line\",\"x0\":110,\"x1\":110,\"y0\":112.21060943603516,\"y1\":459.7699890136719},{\"line\":{\"color\":\"orange\",\"dash\":\"dot\",\"width\":2},\"type\":\"line\",\"x0\":112,\"x1\":112,\"y0\":112.21060943603516,\"y1\":459.7699890136719},{\"line\":{\"color\":\"orange\",\"dash\":\"dot\",\"width\":2},\"type\":\"line\",\"x0\":117,\"x1\":117,\"y0\":112.21060943603516,\"y1\":459.7699890136719},{\"line\":{\"color\":\"orange\",\"dash\":\"dot\",\"width\":2},\"type\":\"line\",\"x0\":125,\"x1\":125,\"y0\":112.21060943603516,\"y1\":459.7699890136719},{\"line\":{\"color\":\"orange\",\"dash\":\"dot\",\"width\":2},\"type\":\"line\",\"x0\":132,\"x1\":132,\"y0\":112.21060943603516,\"y1\":459.7699890136719},{\"line\":{\"color\":\"orange\",\"dash\":\"dot\",\"width\":2},\"type\":\"line\",\"x0\":140,\"x1\":140,\"y0\":112.21060943603516,\"y1\":459.7699890136719},{\"line\":{\"color\":\"orange\",\"dash\":\"dot\",\"width\":2},\"type\":\"line\",\"x0\":144,\"x1\":144,\"y0\":112.21060943603516,\"y1\":459.7699890136719},{\"line\":{\"color\":\"orange\",\"dash\":\"dot\",\"width\":2},\"type\":\"line\",\"x0\":150,\"x1\":150,\"y0\":112.21060943603516,\"y1\":459.7699890136719},{\"line\":{\"color\":\"orange\",\"dash\":\"dot\",\"width\":2},\"type\":\"line\",\"x0\":154,\"x1\":154,\"y0\":112.21060943603516,\"y1\":459.7699890136719},{\"line\":{\"color\":\"orange\",\"dash\":\"dot\",\"width\":2},\"type\":\"line\",\"x0\":169,\"x1\":169,\"y0\":112.21060943603516,\"y1\":459.7699890136719},{\"line\":{\"color\":\"orange\",\"dash\":\"dot\",\"width\":2},\"type\":\"line\",\"x0\":177,\"x1\":177,\"y0\":112.21060943603516,\"y1\":459.7699890136719},{\"line\":{\"color\":\"orange\",\"dash\":\"dot\",\"width\":2},\"type\":\"line\",\"x0\":182,\"x1\":182,\"y0\":112.21060943603516,\"y1\":459.7699890136719},{\"line\":{\"color\":\"orange\",\"dash\":\"dot\",\"width\":2},\"type\":\"line\",\"x0\":184,\"x1\":184,\"y0\":112.21060943603516,\"y1\":459.7699890136719},{\"line\":{\"color\":\"orange\",\"dash\":\"dot\",\"width\":2},\"type\":\"line\",\"x0\":190,\"x1\":190,\"y0\":112.21060943603516,\"y1\":459.7699890136719},{\"line\":{\"color\":\"orange\",\"dash\":\"dot\",\"width\":2},\"type\":\"line\",\"x0\":194,\"x1\":194,\"y0\":112.21060943603516,\"y1\":459.7699890136719},{\"line\":{\"color\":\"orange\",\"dash\":\"dot\",\"width\":2},\"type\":\"line\",\"x0\":196,\"x1\":196,\"y0\":112.21060943603516,\"y1\":459.7699890136719},{\"line\":{\"color\":\"orange\",\"dash\":\"dot\",\"width\":2},\"type\":\"line\",\"x0\":206,\"x1\":206,\"y0\":112.21060943603516,\"y1\":459.7699890136719},{\"line\":{\"color\":\"orange\",\"dash\":\"dot\",\"width\":2},\"type\":\"line\",\"x0\":217,\"x1\":217,\"y0\":112.21060943603516,\"y1\":459.7699890136719},{\"line\":{\"color\":\"orange\",\"dash\":\"dot\",\"width\":2},\"type\":\"line\",\"x0\":232,\"x1\":232,\"y0\":112.21060943603516,\"y1\":459.7699890136719},{\"line\":{\"color\":\"orange\",\"dash\":\"dot\",\"width\":2},\"type\":\"line\",\"x0\":236,\"x1\":236,\"y0\":112.21060943603516,\"y1\":459.7699890136719},{\"line\":{\"color\":\"orange\",\"dash\":\"dot\",\"width\":2},\"type\":\"line\",\"x0\":239,\"x1\":239,\"y0\":112.21060943603516,\"y1\":459.7699890136719},{\"line\":{\"color\":\"orange\",\"dash\":\"dot\",\"width\":2},\"type\":\"line\",\"x0\":245,\"x1\":245,\"y0\":112.21060943603516,\"y1\":459.7699890136719}]},                        {\"responsive\": true}                    ).then(function(){\n",
       "                            \n",
       "var gd = document.getElementById('ed49289a-cb63-423c-ab3f-c38e11b46747');\n",
       "var x = new MutationObserver(function (mutations, observer) {{\n",
       "        var display = window.getComputedStyle(gd).display;\n",
       "        if (!display || display === 'none') {{\n",
       "            console.log([gd, 'removed!']);\n",
       "            Plotly.purge(gd);\n",
       "            observer.disconnect();\n",
       "        }}\n",
       "}});\n",
       "\n",
       "// Listen for the removal of the full notebook cells\n",
       "var notebookContainer = gd.closest('#notebook-container');\n",
       "if (notebookContainer) {{\n",
       "    x.observe(notebookContainer, {childList: true});\n",
       "}}\n",
       "\n",
       "// Listen for the clearing of the current output cell\n",
       "var outputEl = gd.closest('.output');\n",
       "if (outputEl) {{\n",
       "    x.observe(outputEl, {childList: true});\n",
       "}}\n",
       "\n",
       "                        })                };                });            </script>        </div>"
      ]
     },
     "metadata": {},
     "output_type": "display_data"
    }
   ],
   "source": [
    "current_state = env.reset()\n",
    "done = False\n",
    "while not done:\n",
    "    action = np.random.choice( list(env.action_space.values()) )  #<-- random action\n",
    "    state, reward, done, info = env.step(action)\n",
    "env.render()"
   ]
  },
  {
   "cell_type": "markdown",
   "metadata": {},
   "source": [
    "### 2 - Q Learning (descrete)"
   ]
  },
  {
   "cell_type": "code",
   "execution_count": null,
   "metadata": {},
   "outputs": [],
   "source": []
  },
  {
   "cell_type": "code",
   "execution_count": null,
   "metadata": {},
   "outputs": [],
   "source": [
    "Q = pd.DataFrame(np.zeros(shape=(len(env.state_space), len(env.action_space))), \n",
    "                 columns=env.action_space.keys(), \n",
    "                 index=env.state_space.index)\n",
    "Q"
   ]
  },
  {
   "cell_type": "code",
   "execution_count": null,
   "metadata": {},
   "outputs": [],
   "source": [
    "R = pd.DataFrame(np.zeros(shape=(len(env.state_space), len(env.action_space))), \n",
    "                 columns=env.action_space.keys(), \n",
    "                 index=env.state_space.index)\n",
    "R"
   ]
  },
  {
   "cell_type": "markdown",
   "metadata": {},
   "source": [
    "###### Model"
   ]
  },
  {
   "cell_type": "code",
   "execution_count": null,
   "metadata": {},
   "outputs": [],
   "source": [
    "def next_action(Q, current_state, actions_space, explore_rate=0.5):            \n",
    "    ## explore: select a random action\n",
    "    if np.random.uniform(0,1) < explore_rate:\n",
    "        action = np.random.choice(actions_space)\n",
    "    ## exploit: select the action with max q_value\n",
    "    else:\n",
    "        current_qs = Q.loc[current_state]\n",
    "        action = np.argmax(current_qs)\n",
    "    return action\n",
    "\n",
    "\n",
    "def decay_exploration(explore_rate, min_eploration=0.001, explore_decay=0.99):\n",
    "    ## reduce the exploration rate \n",
    "    if explore_rate > min_eploration:\n",
    "        epsilon_decayed = explore_rate * explore_decay\n",
    "        explore_rate = max(min_eploration, epsilon_decayed)\n",
    "    ## keep minimun exporation\n",
    "    else:\n",
    "        explore_rate = explore_rate\n",
    "    return explore_rate\n",
    "\n",
    "\n",
    "def update_Q(Q, current_state, new_state, reward, done, discount_rate=0.8, learning_rate=0.1):\n",
    "    ## comupte new_q_value\n",
    "    if not done:\n",
    "        max_q_value = np.max(Q.loc[new_state])\n",
    "        current_q_value = Q.loc[current_state, new_state]\n",
    "        new_q_value = ((1-learning_rate)*current_q_value)+(learning_rate*(reward+(discount_rate*max_q_value)))\n",
    "    ## reward for reaching the goal\n",
    "    else:\n",
    "        new_q_value = 100\n",
    "    ## update\n",
    "    Q.loc[current_state, new_state] = new_q_value\n",
    "    return Q"
   ]
  },
  {
   "cell_type": "markdown",
   "metadata": {},
   "source": [
    "###### Train"
   ]
  },
  {
   "cell_type": "code",
   "execution_count": null,
   "metadata": {},
   "outputs": [],
   "source": [
    "episodes = 1\n",
    "for episode in range(episodes):\n",
    "    \n",
    "    current_state = env.reset()\n",
    "    done = False\n",
    "    while not done:\n",
    "        current_state = env.t\n",
    "        action = next_action(Q, env.t, actions_space=[1,0,-1], explore_rate=0.5)\n",
    "        new_state, reward, done, info = env.step(action)\n",
    "        \n",
    "        new_state = env.t\n",
    "        print(\"old state:\", current_state, \"new state:\", new_state)\n",
    "        \n",
    "        Q = update_Q(Q, current_state, new_state, reward, done, discount_rate=0.8, learning_rate=0.1)\n",
    "        explore_rate = decay_exploration(explore_rate, min_eploration=0.001, explore_decay=0.99)\n",
    "        current_state = new_state\n",
    "        break\n",
    "        \n",
    "#env.render()"
   ]
  },
  {
   "cell_type": "markdown",
   "metadata": {},
   "source": [
    "###### Test"
   ]
  },
  {
   "cell_type": "code",
   "execution_count": null,
   "metadata": {},
   "outputs": [],
   "source": []
  },
  {
   "cell_type": "code",
   "execution_count": null,
   "metadata": {},
   "outputs": [],
   "source": []
  },
  {
   "cell_type": "code",
   "execution_count": null,
   "metadata": {},
   "outputs": [],
   "source": []
  },
  {
   "cell_type": "markdown",
   "metadata": {},
   "source": [
    "### 3 - DQN (continuous)"
   ]
  },
  {
   "cell_type": "markdown",
   "metadata": {},
   "source": [
    "###### Model"
   ]
  },
  {
   "cell_type": "code",
   "execution_count": 53,
   "metadata": {},
   "outputs": [
    {
     "name": "stdout",
     "output_type": "stream",
     "text": [
      "-> state_space_n = 7\n",
      "-> action_space_n = 3\n"
     ]
    }
   ],
   "source": [
    "print(\"-> state_space_n =\", env.state_space_n)\n",
    "print(\"-> action_space_n =\", env.action_space_n)"
   ]
  },
  {
   "cell_type": "code",
   "execution_count": 62,
   "metadata": {},
   "outputs": [
    {
     "name": "stdout",
     "output_type": "stream",
     "text": [
      "Model: \"DQN\"\n",
      "_________________________________________________________________\n",
      " Layer (type)                Output Shape              Param #   \n",
      "=================================================================\n",
      " x_in (Dense)                (None, 64)                512       \n",
      "                                                                 \n",
      " h_1 (Dense)                 (None, 32)                2080      \n",
      "                                                                 \n",
      " drop_1 (Dropout)            (None, 32)                0         \n",
      "                                                                 \n",
      " h_2 (Dense)                 (None, 8)                 264       \n",
      "                                                                 \n",
      " drop_2 (Dropout)            (None, 8)                 0         \n",
      "                                                                 \n",
      " y_out (Dense)               (None, 3)                 27        \n",
      "                                                                 \n",
      "=================================================================\n",
      "Total params: 2883 (11.26 KB)\n",
      "Trainable params: 2883 (11.26 KB)\n",
      "Non-trainable params: 0 (0.00 Byte)\n",
      "_________________________________________________________________\n",
      "None\n"
     ]
    }
   ],
   "source": [
    "## create\n",
    "model = models.Sequential(name=\"DQN\", layers=[\n",
    "    ### layer input\n",
    "    layers.Dense(name=\"x_in\", input_dim=env.state_space_n, units=64, activation='relu'),\n",
    "    ### hidden layer 1\n",
    "    layers.Dense(name=\"h_1\", units=32, activation='relu'),\n",
    "    layers.Dropout(name=\"drop_1\", rate=0.2),\n",
    "    ### hidden layer 2\n",
    "    layers.Dense(name=\"h_2\", units=8, activation='relu'),\n",
    "    layers.Dropout(name=\"drop_2\", rate=0.2),\n",
    "    ### layer output\n",
    "    layers.Dense(name=\"y_out\", units=env.action_space_n, activation='linear')\n",
    "])\n",
    "## compile\n",
    "model.compile(loss=\"mse\", optimizer=optimizers.Adam(learning_rate=0.01))\n",
    "print(model.summary())"
   ]
  },
  {
   "cell_type": "code",
   "execution_count": null,
   "metadata": {},
   "outputs": [],
   "source": [
    "def next_action(Q, model, current_state, actions_space, explore_rate=0.5):            \n",
    "    ## explore: select a random action\n",
    "    if np.random.uniform(0,1) < explore_rate:\n",
    "        action = np.random.choice(actions_space)\n",
    "    ## exploit: select the action with max q_value\n",
    "    else:\n",
    "        current_qs = model.predict(current_state)[0]\n",
    "        action = np.argmax(current_qs)\n",
    "    return action\n",
    "\n",
    "\n",
    "def decay_exploration(explore_rate, min_eploration=0.001, explore_decay=0.99):\n",
    "    ## reduce the exploration rate \n",
    "    if explore_rate > min_eploration:\n",
    "        epsilon_decayed = explore_rate * explore_decay\n",
    "        explore_rate = max(min_eploration, epsilon_decayed)\n",
    "    ## keep minimun exporation\n",
    "    else:\n",
    "        explore_rate = explore_rate\n",
    "    return explore_rate\n",
    "\n",
    "\n",
    "def update_Q(model, memory, min_replay_memory_size=1000, batch_size=64, \n",
    "            Q, current_state, new_state, reward, goal, discount_rate=0.8, learning_rate=0.1):\n",
    "    # start only if there are enough experiences\n",
    "    if len(memory) > min_replay_memory_size:\n",
    "        ## get batch of random samples from the memory and replay\n",
    "        batch = np.random.sample(memory, batch_size)    \n",
    "        lst_X, lst_y = [], []\n",
    "        for current_state, action, reward, new_state, done in batch:\n",
    "            ### comupte new_qs\n",
    "            if not done:\n",
    "                new_qs = model.predict(new_state)[0]\n",
    "                max_q_value = np.max( new_qs )\n",
    "                new_q_value = reward + self.discount_rate * max_q_value\n",
    "            else:\n",
    "                new_q_value = reward\n",
    "    \n",
    "    ## comupte new_q_value\n",
    "    if not goal:\n",
    "        max_q_value = np.max(Q.loc[new_state])\n",
    "        current_q_value = Q.loc[current_state, new_state]\n",
    "        new_q_value = ((1-learning_rate)*current_q_value)+(learning_rate*(reward+(discount_rate*max_q_value)))\n",
    "    ## reward for reaching the goal\n",
    "    else:\n",
    "        new_q_value = 100\n",
    "    ## update\n",
    "    Q.loc[current_state, new_state] = new_q_value\n",
    "    return Q"
   ]
  },
  {
   "cell_type": "markdown",
   "metadata": {},
   "source": [
    "###### Train"
   ]
  },
  {
   "cell_type": "code",
   "execution_count": null,
   "metadata": {},
   "outputs": [],
   "source": []
  },
  {
   "cell_type": "markdown",
   "metadata": {},
   "source": [
    "###### Test"
   ]
  },
  {
   "cell_type": "code",
   "execution_count": null,
   "metadata": {},
   "outputs": [],
   "source": []
  },
  {
   "cell_type": "markdown",
   "metadata": {},
   "source": [
    "### 4 - A2C (continuous)"
   ]
  },
  {
   "cell_type": "code",
   "execution_count": 4,
   "metadata": {},
   "outputs": [
    {
     "ename": "NameError",
     "evalue": "name 'env' is not defined",
     "output_type": "error",
     "traceback": [
      "\u001b[0;31m---------------------------------------------------------------------------\u001b[0m",
      "\u001b[0;31mNameError\u001b[0m                                 Traceback (most recent call last)",
      "Cell \u001b[0;32mIn[4], line 1\u001b[0m\n\u001b[0;32m----> 1\u001b[0m \u001b[43menv\u001b[49m\u001b[38;5;241m.\u001b[39mreset()\n\u001b[1;32m      2\u001b[0m model \u001b[38;5;241m=\u001b[39m A2C(\u001b[38;5;124m\"\u001b[39m\u001b[38;5;124mCnnPolicy\u001b[39m\u001b[38;5;124m\"\u001b[39m, env, verbose\u001b[38;5;241m=\u001b[39m\u001b[38;5;241m1\u001b[39m)\n",
      "\u001b[0;31mNameError\u001b[0m: name 'env' is not defined"
     ]
    }
   ],
   "source": [
    "env.reset()\n",
    "\n",
    "model = A2C(policy=\"CnnPolicy\", env=env, verbose=1, n_steps=10)"
   ]
  }
 ],
 "metadata": {
  "kernelspec": {
   "display_name": "Python 3 (ipykernel)",
   "language": "python",
   "name": "python3"
  },
  "language_info": {
   "codemirror_mode": {
    "name": "ipython",
    "version": 3
   },
   "file_extension": ".py",
   "mimetype": "text/x-python",
   "name": "python",
   "nbconvert_exporter": "python",
   "pygments_lexer": "ipython3",
   "version": "3.8.16"
  }
 },
 "nbformat": 4,
 "nbformat_minor": 2
}
